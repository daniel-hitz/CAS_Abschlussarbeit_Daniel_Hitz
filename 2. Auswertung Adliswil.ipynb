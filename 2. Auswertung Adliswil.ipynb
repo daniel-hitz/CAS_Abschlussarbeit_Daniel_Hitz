{
 "cells": [
  {
   "cell_type": "markdown",
   "id": "a3090913",
   "metadata": {},
   "source": [
    "# Auswertung Adliswil"
   ]
  },
  {
   "cell_type": "markdown",
   "id": "5266bacb",
   "metadata": {},
   "source": [
    "# Vorbereitung"
   ]
  },
  {
   "cell_type": "markdown",
   "id": "f7c91a11",
   "metadata": {},
   "source": [
    "Zuerst importiere ich die nötigen Libraries."
   ]
  },
  {
   "cell_type": "code",
   "execution_count": 1,
   "id": "37b08bbc",
   "metadata": {},
   "outputs": [],
   "source": [
    "import pandas as pd\n",
    "import matplotlib.pyplot as plt\n",
    "import numpy as np\n",
    "import warnings"
   ]
  },
  {
   "cell_type": "markdown",
   "id": "6a2459f5",
   "metadata": {},
   "source": [
    "Ich setze die Option, dass ich später in den Dataframes alle Angaben sehe. Warnungen, dass gewisse Funktionen nach Updates nicht mehr funktionieren könnten, schalte ich aus."
   ]
  },
  {
   "cell_type": "code",
   "execution_count": 2,
   "id": "623ca638",
   "metadata": {},
   "outputs": [],
   "source": [
    "pd.set_option('display.max_rows', None)\n",
    "pd.set_option('display.max_colwidth', None)\n",
    "warnings.simplefilter(action='ignore', category=FutureWarning)"
   ]
  },
  {
   "cell_type": "markdown",
   "id": "cd80514a",
   "metadata": {},
   "source": [
    "Danach importiere ich die beiden Listen, die ich brauche. Jene mit den Vorstössen und jene mit den Namen und Parteien der Politiker/innen."
   ]
  },
  {
   "cell_type": "code",
   "execution_count": 3,
   "id": "0edfd1ee",
   "metadata": {},
   "outputs": [],
   "source": [
    "path = \"All_Datas/daten_adliswil.csv\"\n",
    "df= pd.read_csv(path)"
   ]
  },
  {
   "cell_type": "code",
   "execution_count": 4,
   "id": "cd19e30b",
   "metadata": {},
   "outputs": [],
   "source": [
    "path2 = \"All_Datas/Parlamentarier_Adliswil.csv\"\n",
    "df_parlamentarier = pd.read_csv(path2)"
   ]
  },
  {
   "cell_type": "markdown",
   "id": "79c6a8de",
   "metadata": {},
   "source": [
    "Damit ich die beiden Listen später mergen kann, muss ich aus den Listen in der Spalte Namen-neu des Vorstoss-Dataframes die einzelnen Elemente herausziehen. Ich will also eine separate Zeile für jede Person, die an einem Vorstoss beteilitgt war. Dazu mache ich eine Kopie des Dataframes, um nichts zu überschreiben. Danach zerteile ich mit der lambda-Funktion die Liste in einzelne Elemente. Und zwar immer dann, wenn ein Komma kommt. Mit der Funktion .explode teile ich die definierten Namen in der Liste schliesslich in einzelne Zeilen auf."
   ]
  },
  {
   "cell_type": "code",
   "execution_count": 5,
   "id": "cd4c7413",
   "metadata": {
    "scrolled": true
   },
   "outputs": [
    {
     "data": {
      "text/html": [
       "<div>\n",
       "<style scoped>\n",
       "    .dataframe tbody tr th:only-of-type {\n",
       "        vertical-align: middle;\n",
       "    }\n",
       "\n",
       "    .dataframe tbody tr th {\n",
       "        vertical-align: top;\n",
       "    }\n",
       "\n",
       "    .dataframe thead th {\n",
       "        text-align: right;\n",
       "    }\n",
       "</style>\n",
       "<table border=\"1\" class=\"dataframe\">\n",
       "  <thead>\n",
       "    <tr style=\"text-align: right;\">\n",
       "      <th></th>\n",
       "      <th>Titel</th>\n",
       "      <th>Geschaeftsart</th>\n",
       "      <th>Status</th>\n",
       "      <th>Datum</th>\n",
       "      <th>Namen</th>\n",
       "      <th>Namen-neu</th>\n",
       "      <th>ID-Vorstoss</th>\n",
       "    </tr>\n",
       "  </thead>\n",
       "  <tbody>\n",
       "    <tr>\n",
       "      <th>0</th>\n",
       "      <td>Städtische Beteiligung an Unternehmungen</td>\n",
       "      <td>Postulat</td>\n",
       "      <td>Abgeschrieben</td>\n",
       "      <td>2014-11-21</td>\n",
       "      <td>[' Senn Mario']</td>\n",
       "      <td>['Senn Mario']</td>\n",
       "      <td>1</td>\n",
       "    </tr>\n",
       "    <tr>\n",
       "      <th>1</th>\n",
       "      <td>ZKB Jubiläums-Dividende</td>\n",
       "      <td>Interpellation</td>\n",
       "      <td>Beantwortet</td>\n",
       "      <td>2019-11-06</td>\n",
       "      <td>[' Mäder Gabriel', ' Schanz Simon', '', 'Stefan Neubert (Mitunterzeichner/in)\\n Anke Würl (Mitunterzeichner/in)\\n Martin Rüttimann (Mitunterzeichner/in)\\n Walter Uebersax (Erstunterzeichner/in)', '', '', '']</td>\n",
       "      <td>['Mäder Gabriel', 'Schanz Simon', 'Stefan Neubert', 'Anke Würl', 'Martin Rüttimann', 'Walter Uebersax']</td>\n",
       "      <td>2</td>\n",
       "    </tr>\n",
       "    <tr>\n",
       "      <th>2</th>\n",
       "      <td>Zwischennutzung Stadthausareal</td>\n",
       "      <td>Postulat</td>\n",
       "      <td>Überwiesen</td>\n",
       "      <td>2011-09-07</td>\n",
       "      <td>[' Clesle Hanspeter']</td>\n",
       "      <td>['Clesle Hanspeter']</td>\n",
       "      <td>3</td>\n",
       "    </tr>\n",
       "  </tbody>\n",
       "</table>\n",
       "</div>"
      ],
      "text/plain": [
       "                                      Titel   Geschaeftsart         Status  \\\n",
       "0  Städtische Beteiligung an Unternehmungen        Postulat  Abgeschrieben   \n",
       "1                   ZKB Jubiläums-Dividende  Interpellation    Beantwortet   \n",
       "2            Zwischennutzung Stadthausareal        Postulat     Überwiesen   \n",
       "\n",
       "        Datum  \\\n",
       "0  2014-11-21   \n",
       "1  2019-11-06   \n",
       "2  2011-09-07   \n",
       "\n",
       "                                                                                                                                                                                                             Namen  \\\n",
       "0                                                                                                                                                                                                  [' Senn Mario']   \n",
       "1  [' Mäder Gabriel', ' Schanz Simon', '', 'Stefan Neubert (Mitunterzeichner/in)\\n Anke Würl (Mitunterzeichner/in)\\n Martin Rüttimann (Mitunterzeichner/in)\\n Walter Uebersax (Erstunterzeichner/in)', '', '', '']   \n",
       "2                                                                                                                                                                                            [' Clesle Hanspeter']   \n",
       "\n",
       "                                                                                                 Namen-neu  \\\n",
       "0                                                                                           ['Senn Mario']   \n",
       "1  ['Mäder Gabriel', 'Schanz Simon', 'Stefan Neubert', 'Anke Würl', 'Martin Rüttimann', 'Walter Uebersax']   \n",
       "2                                                                                     ['Clesle Hanspeter']   \n",
       "\n",
       "   ID-Vorstoss  \n",
       "0            1  \n",
       "1            2  \n",
       "2            3  "
      ]
     },
     "execution_count": 5,
     "metadata": {},
     "output_type": "execute_result"
    }
   ],
   "source": [
    "df.head(3)"
   ]
  },
  {
   "cell_type": "code",
   "execution_count": 6,
   "id": "437406da",
   "metadata": {},
   "outputs": [
    {
     "data": {
      "text/html": [
       "<div>\n",
       "<style scoped>\n",
       "    .dataframe tbody tr th:only-of-type {\n",
       "        vertical-align: middle;\n",
       "    }\n",
       "\n",
       "    .dataframe tbody tr th {\n",
       "        vertical-align: top;\n",
       "    }\n",
       "\n",
       "    .dataframe thead th {\n",
       "        text-align: right;\n",
       "    }\n",
       "</style>\n",
       "<table border=\"1\" class=\"dataframe\">\n",
       "  <thead>\n",
       "    <tr style=\"text-align: right;\">\n",
       "      <th></th>\n",
       "      <th>Titel</th>\n",
       "      <th>Geschaeftsart</th>\n",
       "      <th>Status</th>\n",
       "      <th>Datum</th>\n",
       "      <th>Namen</th>\n",
       "      <th>Namen-neu</th>\n",
       "      <th>ID-Vorstoss</th>\n",
       "    </tr>\n",
       "  </thead>\n",
       "  <tbody>\n",
       "    <tr>\n",
       "      <th>0</th>\n",
       "      <td>Städtische Beteiligung an Unternehmungen</td>\n",
       "      <td>Postulat</td>\n",
       "      <td>Abgeschrieben</td>\n",
       "      <td>2014-11-21</td>\n",
       "      <td>[' Senn Mario']</td>\n",
       "      <td>['Senn Mario']</td>\n",
       "      <td>1</td>\n",
       "    </tr>\n",
       "    <tr>\n",
       "      <th>1</th>\n",
       "      <td>ZKB Jubiläums-Dividende</td>\n",
       "      <td>Interpellation</td>\n",
       "      <td>Beantwortet</td>\n",
       "      <td>2019-11-06</td>\n",
       "      <td>[' Mäder Gabriel', ' Schanz Simon', '', 'Stefan Neubert (Mitunterzeichner/in)\\n Anke Würl (Mitunterzeichner/in)\\n Martin Rüttimann (Mitunterzeichner/in)\\n Walter Uebersax (Erstunterzeichner/in)', '', '', '']</td>\n",
       "      <td>['Mäder Gabriel'</td>\n",
       "      <td>2</td>\n",
       "    </tr>\n",
       "    <tr>\n",
       "      <th>1</th>\n",
       "      <td>ZKB Jubiläums-Dividende</td>\n",
       "      <td>Interpellation</td>\n",
       "      <td>Beantwortet</td>\n",
       "      <td>2019-11-06</td>\n",
       "      <td>[' Mäder Gabriel', ' Schanz Simon', '', 'Stefan Neubert (Mitunterzeichner/in)\\n Anke Würl (Mitunterzeichner/in)\\n Martin Rüttimann (Mitunterzeichner/in)\\n Walter Uebersax (Erstunterzeichner/in)', '', '', '']</td>\n",
       "      <td>'Schanz Simon'</td>\n",
       "      <td>2</td>\n",
       "    </tr>\n",
       "  </tbody>\n",
       "</table>\n",
       "</div>"
      ],
      "text/plain": [
       "                                      Titel   Geschaeftsart         Status  \\\n",
       "0  Städtische Beteiligung an Unternehmungen        Postulat  Abgeschrieben   \n",
       "1                   ZKB Jubiläums-Dividende  Interpellation    Beantwortet   \n",
       "1                   ZKB Jubiläums-Dividende  Interpellation    Beantwortet   \n",
       "\n",
       "        Datum  \\\n",
       "0  2014-11-21   \n",
       "1  2019-11-06   \n",
       "1  2019-11-06   \n",
       "\n",
       "                                                                                                                                                                                                             Namen  \\\n",
       "0                                                                                                                                                                                                  [' Senn Mario']   \n",
       "1  [' Mäder Gabriel', ' Schanz Simon', '', 'Stefan Neubert (Mitunterzeichner/in)\\n Anke Würl (Mitunterzeichner/in)\\n Martin Rüttimann (Mitunterzeichner/in)\\n Walter Uebersax (Erstunterzeichner/in)', '', '', '']   \n",
       "1  [' Mäder Gabriel', ' Schanz Simon', '', 'Stefan Neubert (Mitunterzeichner/in)\\n Anke Würl (Mitunterzeichner/in)\\n Martin Rüttimann (Mitunterzeichner/in)\\n Walter Uebersax (Erstunterzeichner/in)', '', '', '']   \n",
       "\n",
       "          Namen-neu  ID-Vorstoss  \n",
       "0    ['Senn Mario']            1  \n",
       "1  ['Mäder Gabriel'            2  \n",
       "1    'Schanz Simon'            2  "
      ]
     },
     "execution_count": 6,
     "metadata": {},
     "output_type": "execute_result"
    }
   ],
   "source": [
    "df_vorstoesse = df.copy()\n",
    "\n",
    "df_vorstoesse['Namen-neu'] = df_vorstoesse['Namen-neu'].apply(lambda x: x if pd.isna(x) else x.split(','))\n",
    "df_vorstoesse = df_vorstoesse.explode('Namen-neu')\n",
    "df_vorstoesse.head(3)"
   ]
  },
  {
   "cell_type": "markdown",
   "id": "15628cc0",
   "metadata": {},
   "source": [
    "Nun habe ich für alle Personen, die an einem Vorstoss beteiligt waren, eine einzelne Zeile. Um sie mit der Namensliste mergen zu können, müssen die Namen identisch sein. Ich muss also noch sämtliche Klammern und Anführungszeichen eliminieren. Das mache ich mit Hilfe von Regex."
   ]
  },
  {
   "cell_type": "code",
   "execution_count": 25,
   "id": "c0a29660",
   "metadata": {
    "scrolled": true
   },
   "outputs": [
    {
     "data": {
      "text/html": [
       "<div>\n",
       "<style scoped>\n",
       "    .dataframe tbody tr th:only-of-type {\n",
       "        vertical-align: middle;\n",
       "    }\n",
       "\n",
       "    .dataframe tbody tr th {\n",
       "        vertical-align: top;\n",
       "    }\n",
       "\n",
       "    .dataframe thead th {\n",
       "        text-align: right;\n",
       "    }\n",
       "</style>\n",
       "<table border=\"1\" class=\"dataframe\">\n",
       "  <thead>\n",
       "    <tr style=\"text-align: right;\">\n",
       "      <th></th>\n",
       "      <th>Titel</th>\n",
       "      <th>Geschaeftsart</th>\n",
       "      <th>Status</th>\n",
       "      <th>Datum</th>\n",
       "      <th>Namen</th>\n",
       "      <th>Namen-neu</th>\n",
       "      <th>ID-Vorstoss</th>\n",
       "    </tr>\n",
       "  </thead>\n",
       "  <tbody>\n",
       "    <tr>\n",
       "      <th>0</th>\n",
       "      <td>Städtische Beteiligung an Unternehmungen</td>\n",
       "      <td>Postulat</td>\n",
       "      <td>Abgeschrieben</td>\n",
       "      <td>2014-11-21</td>\n",
       "      <td>[' Senn Mario']</td>\n",
       "      <td>Senn Mario</td>\n",
       "      <td>1</td>\n",
       "    </tr>\n",
       "    <tr>\n",
       "      <th>1</th>\n",
       "      <td>ZKB Jubiläums-Dividende</td>\n",
       "      <td>Interpellation</td>\n",
       "      <td>Beantwortet</td>\n",
       "      <td>2019-11-06</td>\n",
       "      <td>[' Mäder Gabriel', ' Schanz Simon', '', 'Stefan Neubert (Mitunterzeichner/in)\\n Anke Würl (Mitunterzeichner/in)\\n Martin Rüttimann (Mitunterzeichner/in)\\n Walter Uebersax (Erstunterzeichner/in)', '', '', '']</td>\n",
       "      <td>Mäder Gabriel</td>\n",
       "      <td>2</td>\n",
       "    </tr>\n",
       "    <tr>\n",
       "      <th>1</th>\n",
       "      <td>ZKB Jubiläums-Dividende</td>\n",
       "      <td>Interpellation</td>\n",
       "      <td>Beantwortet</td>\n",
       "      <td>2019-11-06</td>\n",
       "      <td>[' Mäder Gabriel', ' Schanz Simon', '', 'Stefan Neubert (Mitunterzeichner/in)\\n Anke Würl (Mitunterzeichner/in)\\n Martin Rüttimann (Mitunterzeichner/in)\\n Walter Uebersax (Erstunterzeichner/in)', '', '', '']</td>\n",
       "      <td>Schanz Simon</td>\n",
       "      <td>2</td>\n",
       "    </tr>\n",
       "  </tbody>\n",
       "</table>\n",
       "</div>"
      ],
      "text/plain": [
       "                                      Titel   Geschaeftsart         Status  \\\n",
       "0  Städtische Beteiligung an Unternehmungen        Postulat  Abgeschrieben   \n",
       "1                   ZKB Jubiläums-Dividende  Interpellation    Beantwortet   \n",
       "1                   ZKB Jubiläums-Dividende  Interpellation    Beantwortet   \n",
       "\n",
       "        Datum  \\\n",
       "0  2014-11-21   \n",
       "1  2019-11-06   \n",
       "1  2019-11-06   \n",
       "\n",
       "                                                                                                                                                                                                             Namen  \\\n",
       "0                                                                                                                                                                                                  [' Senn Mario']   \n",
       "1  [' Mäder Gabriel', ' Schanz Simon', '', 'Stefan Neubert (Mitunterzeichner/in)\\n Anke Würl (Mitunterzeichner/in)\\n Martin Rüttimann (Mitunterzeichner/in)\\n Walter Uebersax (Erstunterzeichner/in)', '', '', '']   \n",
       "1  [' Mäder Gabriel', ' Schanz Simon', '', 'Stefan Neubert (Mitunterzeichner/in)\\n Anke Würl (Mitunterzeichner/in)\\n Martin Rüttimann (Mitunterzeichner/in)\\n Walter Uebersax (Erstunterzeichner/in)', '', '', '']   \n",
       "\n",
       "       Namen-neu  ID-Vorstoss  \n",
       "0     Senn Mario            1  \n",
       "1  Mäder Gabriel            2  \n",
       "1   Schanz Simon            2  "
      ]
     },
     "execution_count": 25,
     "metadata": {},
     "output_type": "execute_result"
    }
   ],
   "source": [
    "df_vorstoesse['Namen-neu'] = df_vorstoesse['Namen-neu'].str.replace(r\"[\\[\\]']|''\", '').str.strip()\n",
    "df_vorstoesse.head(3)"
   ]
  },
  {
   "cell_type": "markdown",
   "id": "42d12901",
   "metadata": {},
   "source": [
    "Als nächstes will ich die beiden Listen so zusammenfügen, dass ich mit den IDs der Politiker und der Vorstösse arbeiten kann. So kann ich verhindern, dass sich Fehler einschleichen, falls zwei Politiker/innen gleich heissen. Ich merge die beiden Listen zur df_ID."
   ]
  },
  {
   "cell_type": "code",
   "execution_count": 8,
   "id": "8f6f63c1",
   "metadata": {},
   "outputs": [],
   "source": [
    "df_ID = df_vorstoesse.merge(df_parlamentarier, left_on='Namen-neu', right_on='Name', how='left')[['ID-Vorstoss', 'ID-Politiker']]"
   ]
  },
  {
   "cell_type": "code",
   "execution_count": 26,
   "id": "f39a8474",
   "metadata": {
    "scrolled": false
   },
   "outputs": [
    {
     "data": {
      "text/html": [
       "<div>\n",
       "<style scoped>\n",
       "    .dataframe tbody tr th:only-of-type {\n",
       "        vertical-align: middle;\n",
       "    }\n",
       "\n",
       "    .dataframe tbody tr th {\n",
       "        vertical-align: top;\n",
       "    }\n",
       "\n",
       "    .dataframe thead th {\n",
       "        text-align: right;\n",
       "    }\n",
       "</style>\n",
       "<table border=\"1\" class=\"dataframe\">\n",
       "  <thead>\n",
       "    <tr style=\"text-align: right;\">\n",
       "      <th></th>\n",
       "      <th>ID-Vorstoss</th>\n",
       "      <th>ID-Politiker</th>\n",
       "    </tr>\n",
       "  </thead>\n",
       "  <tbody>\n",
       "    <tr>\n",
       "      <th>0</th>\n",
       "      <td>1</td>\n",
       "      <td>91</td>\n",
       "    </tr>\n",
       "    <tr>\n",
       "      <th>1</th>\n",
       "      <td>2</td>\n",
       "      <td>62</td>\n",
       "    </tr>\n",
       "    <tr>\n",
       "      <th>2</th>\n",
       "      <td>2</td>\n",
       "      <td>86</td>\n",
       "    </tr>\n",
       "    <tr>\n",
       "      <th>3</th>\n",
       "      <td>2</td>\n",
       "      <td>96</td>\n",
       "    </tr>\n",
       "    <tr>\n",
       "      <th>4</th>\n",
       "      <td>2</td>\n",
       "      <td>6</td>\n",
       "    </tr>\n",
       "  </tbody>\n",
       "</table>\n",
       "</div>"
      ],
      "text/plain": [
       "   ID-Vorstoss  ID-Politiker\n",
       "0            1            91\n",
       "1            2            62\n",
       "2            2            86\n",
       "3            2            96\n",
       "4            2             6"
      ]
     },
     "execution_count": 26,
     "metadata": {},
     "output_type": "execute_result"
    }
   ],
   "source": [
    "df_ID.head(5)"
   ]
  },
  {
   "cell_type": "markdown",
   "id": "95b70c56",
   "metadata": {},
   "source": [
    "Jetzt habe ich die Grundlage geschaffen, um mit den konkreten Auswertungen beginnen zu konnen."
   ]
  },
  {
   "cell_type": "markdown",
   "id": "94d039fd",
   "metadata": {},
   "source": [
    "## 1. Welche Parteien reichen am häufigsten Vorstösse ein?"
   ]
  },
  {
   "cell_type": "markdown",
   "id": "04b43457",
   "metadata": {},
   "source": [
    "Als erstes merge ich die Dataframes df_ID und df_parlamentarier so, dass ich die Parteien pro Vorstoss sehe."
   ]
  },
  {
   "cell_type": "code",
   "execution_count": 27,
   "id": "7e5d3125",
   "metadata": {
    "scrolled": true
   },
   "outputs": [
    {
     "data": {
      "text/html": [
       "<div>\n",
       "<style scoped>\n",
       "    .dataframe tbody tr th:only-of-type {\n",
       "        vertical-align: middle;\n",
       "    }\n",
       "\n",
       "    .dataframe tbody tr th {\n",
       "        vertical-align: top;\n",
       "    }\n",
       "\n",
       "    .dataframe thead th {\n",
       "        text-align: right;\n",
       "    }\n",
       "</style>\n",
       "<table border=\"1\" class=\"dataframe\">\n",
       "  <thead>\n",
       "    <tr style=\"text-align: right;\">\n",
       "      <th></th>\n",
       "      <th>Partei</th>\n",
       "      <th>ID-Vorstoss</th>\n",
       "    </tr>\n",
       "  </thead>\n",
       "  <tbody>\n",
       "    <tr>\n",
       "      <th>0</th>\n",
       "      <td>FDP</td>\n",
       "      <td>1</td>\n",
       "    </tr>\n",
       "    <tr>\n",
       "      <th>1</th>\n",
       "      <td>GLP</td>\n",
       "      <td>2</td>\n",
       "    </tr>\n",
       "    <tr>\n",
       "      <th>2</th>\n",
       "      <td>Die Mitte</td>\n",
       "      <td>2</td>\n",
       "    </tr>\n",
       "    <tr>\n",
       "      <th>3</th>\n",
       "      <td>GLP</td>\n",
       "      <td>2</td>\n",
       "    </tr>\n",
       "    <tr>\n",
       "      <th>4</th>\n",
       "      <td>Die Mitte</td>\n",
       "      <td>2</td>\n",
       "    </tr>\n",
       "  </tbody>\n",
       "</table>\n",
       "</div>"
      ],
      "text/plain": [
       "      Partei  ID-Vorstoss\n",
       "0        FDP            1\n",
       "1        GLP            2\n",
       "2  Die Mitte            2\n",
       "3        GLP            2\n",
       "4  Die Mitte            2"
      ]
     },
     "execution_count": 27,
     "metadata": {},
     "output_type": "execute_result"
    }
   ],
   "source": [
    "df_parteien = df_ID.merge(df_parlamentarier, left_on='ID-Politiker', right_on='ID-Politiker', how='left')[['Partei','ID-Vorstoss']]\n",
    "df_parteien.head(5)"
   ]
  },
  {
   "cell_type": "markdown",
   "id": "694297f9",
   "metadata": {},
   "source": [
    "Danach gruppiere ich die Daten und schaue, dass es dank der Funktion .nunique() die Partei nur einmal zählt, wenn mehrere Politiker/innen der selben Partei an einem Vorstoss beteiligt sind. Ich will hier ja wissen, welche Partei - und nicht welche Person - wie oft an einem Vorstoss beteiligt war. Technisch gesehen, zähle ich also eigentlich die Anzahl verschiedener Vorstoss-IDs, an denen eine Partei beteiligt war."
   ]
  },
  {
   "cell_type": "code",
   "execution_count": 11,
   "id": "88f9223d",
   "metadata": {
    "scrolled": true
   },
   "outputs": [
    {
     "data": {
      "text/html": [
       "<div>\n",
       "<style scoped>\n",
       "    .dataframe tbody tr th:only-of-type {\n",
       "        vertical-align: middle;\n",
       "    }\n",
       "\n",
       "    .dataframe tbody tr th {\n",
       "        vertical-align: top;\n",
       "    }\n",
       "\n",
       "    .dataframe thead th {\n",
       "        text-align: right;\n",
       "    }\n",
       "</style>\n",
       "<table border=\"1\" class=\"dataframe\">\n",
       "  <thead>\n",
       "    <tr style=\"text-align: right;\">\n",
       "      <th></th>\n",
       "      <th>Partei</th>\n",
       "      <th>Anzahl_Vorstoesse</th>\n",
       "    </tr>\n",
       "  </thead>\n",
       "  <tbody>\n",
       "    <tr>\n",
       "      <th>0</th>\n",
       "      <td>SP</td>\n",
       "      <td>64</td>\n",
       "    </tr>\n",
       "    <tr>\n",
       "      <th>1</th>\n",
       "      <td>FDP</td>\n",
       "      <td>58</td>\n",
       "    </tr>\n",
       "    <tr>\n",
       "      <th>2</th>\n",
       "      <td>FW</td>\n",
       "      <td>35</td>\n",
       "    </tr>\n",
       "    <tr>\n",
       "      <th>3</th>\n",
       "      <td>Die Mitte</td>\n",
       "      <td>33</td>\n",
       "    </tr>\n",
       "    <tr>\n",
       "      <th>4</th>\n",
       "      <td>SVP</td>\n",
       "      <td>27</td>\n",
       "    </tr>\n",
       "    <tr>\n",
       "      <th>5</th>\n",
       "      <td>Grüne</td>\n",
       "      <td>25</td>\n",
       "    </tr>\n",
       "    <tr>\n",
       "      <th>6</th>\n",
       "      <td>EVP</td>\n",
       "      <td>22</td>\n",
       "    </tr>\n",
       "    <tr>\n",
       "      <th>7</th>\n",
       "      <td>GLP</td>\n",
       "      <td>14</td>\n",
       "    </tr>\n",
       "  </tbody>\n",
       "</table>\n",
       "</div>"
      ],
      "text/plain": [
       "      Partei  Anzahl_Vorstoesse\n",
       "0         SP                 64\n",
       "1        FDP                 58\n",
       "2         FW                 35\n",
       "3  Die Mitte                 33\n",
       "4        SVP                 27\n",
       "5      Grüne                 25\n",
       "6        EVP                 22\n",
       "7        GLP                 14"
      ]
     },
     "execution_count": 11,
     "metadata": {},
     "output_type": "execute_result"
    }
   ],
   "source": [
    "partei_count = df_parteien.groupby('Partei')['ID-Vorstoss'].nunique().sort_values(ascending=False).reset_index()\n",
    "partei_count.columns = ['Partei', 'Anzahl_Vorstoesse']\n",
    "partei_count"
   ]
  },
  {
   "cell_type": "markdown",
   "id": "81f9b0e6",
   "metadata": {},
   "source": [
    "Nun will ich das Resultat in einem Säulendiagramm plotten. Dies auch gleich mit den entsprechenden Parteifarben."
   ]
  },
  {
   "cell_type": "code",
   "execution_count": 12,
   "id": "c04c22f2",
   "metadata": {},
   "outputs": [],
   "source": [
    "partei_farben = {\n",
    "    'SP': 'red',\n",
    "    'FDP': 'blue',\n",
    "    'FW': 'grey',\n",
    "    'Die Mitte': 'orange',\n",
    "    'SVP': 'yellow',\n",
    "    'EVP': 'gold',\n",
    "    'Grüne': 'lime',\n",
    "    'GLP': 'darkgreen'\n",
    "}"
   ]
  },
  {
   "cell_type": "code",
   "execution_count": 13,
   "id": "b622af98",
   "metadata": {
    "scrolled": false
   },
   "outputs": [
    {
     "data": {
      "image/png": "[encoded data removed]",
      "text/plain": [
       "<Figure size 1000x500 with 1 Axes>"
      ]
     },
     "metadata": {},
     "output_type": "display_data"
    }
   ],
   "source": [
    "plt.figure(figsize=(10,5))\n",
    "plt.bar(partei_count['Partei'], partei_count['Anzahl_Vorstoesse'], color=[partei_farben[partei] for partei in partei_count['Partei']])\n",
    "plt.title('So oft waren die Parteien seit 2006 an einem Vorstoss beteiligt')\n",
    "plt.xlabel('Partei')\n",
    "plt.ylabel('Anzahl Vorstösse')\n",
    "plt.show()"
   ]
  },
  {
   "cell_type": "markdown",
   "id": "f00c3ddb",
   "metadata": {},
   "source": [
    "SP und FDP waren also am meisten an Vorstössen beteiligt. Um das etwas einordnen zu können, will ich auch die Anzahl Sitze der Parteien im Parlament ausfindig machen. Diese sind unter www.adliswil.ch/wahlen ersichtlich. Ich habe aus diesen Daten das csv-File \"Parteistärke_Adliswil\" gemacht und importiere es nun."
   ]
  },
  {
   "cell_type": "code",
   "execution_count": 14,
   "id": "08480f17",
   "metadata": {},
   "outputs": [
    {
     "data": {
      "text/html": [
       "<div>\n",
       "<style scoped>\n",
       "    .dataframe tbody tr th:only-of-type {\n",
       "        vertical-align: middle;\n",
       "    }\n",
       "\n",
       "    .dataframe tbody tr th {\n",
       "        vertical-align: top;\n",
       "    }\n",
       "\n",
       "    .dataframe thead th {\n",
       "        text-align: right;\n",
       "    }\n",
       "</style>\n",
       "<table border=\"1\" class=\"dataframe\">\n",
       "  <thead>\n",
       "    <tr style=\"text-align: right;\">\n",
       "      <th></th>\n",
       "      <th>Die Mitte</th>\n",
       "      <th>EVP</th>\n",
       "      <th>FDP</th>\n",
       "      <th>FW</th>\n",
       "      <th>GLP</th>\n",
       "      <th>Grüne</th>\n",
       "      <th>SP</th>\n",
       "      <th>SVP</th>\n",
       "    </tr>\n",
       "    <tr>\n",
       "      <th>Jahr</th>\n",
       "      <th></th>\n",
       "      <th></th>\n",
       "      <th></th>\n",
       "      <th></th>\n",
       "      <th></th>\n",
       "      <th></th>\n",
       "      <th></th>\n",
       "      <th></th>\n",
       "    </tr>\n",
       "  </thead>\n",
       "  <tbody>\n",
       "    <tr>\n",
       "      <th>2006</th>\n",
       "      <td>5</td>\n",
       "      <td>2</td>\n",
       "      <td>6</td>\n",
       "      <td>5</td>\n",
       "      <td>0</td>\n",
       "      <td>0</td>\n",
       "      <td>10</td>\n",
       "      <td>8</td>\n",
       "    </tr>\n",
       "    <tr>\n",
       "      <th>2010</th>\n",
       "      <td>4</td>\n",
       "      <td>2</td>\n",
       "      <td>6</td>\n",
       "      <td>4</td>\n",
       "      <td>0</td>\n",
       "      <td>2</td>\n",
       "      <td>8</td>\n",
       "      <td>10</td>\n",
       "    </tr>\n",
       "    <tr>\n",
       "      <th>2014</th>\n",
       "      <td>5</td>\n",
       "      <td>2</td>\n",
       "      <td>6</td>\n",
       "      <td>4</td>\n",
       "      <td>0</td>\n",
       "      <td>2</td>\n",
       "      <td>7</td>\n",
       "      <td>10</td>\n",
       "    </tr>\n",
       "    <tr>\n",
       "      <th>2018</th>\n",
       "      <td>4</td>\n",
       "      <td>2</td>\n",
       "      <td>6</td>\n",
       "      <td>4</td>\n",
       "      <td>2</td>\n",
       "      <td>3</td>\n",
       "      <td>7</td>\n",
       "      <td>8</td>\n",
       "    </tr>\n",
       "    <tr>\n",
       "      <th>2022</th>\n",
       "      <td>4</td>\n",
       "      <td>2</td>\n",
       "      <td>6</td>\n",
       "      <td>4</td>\n",
       "      <td>3</td>\n",
       "      <td>4</td>\n",
       "      <td>6</td>\n",
       "      <td>7</td>\n",
       "    </tr>\n",
       "  </tbody>\n",
       "</table>\n",
       "</div>"
      ],
      "text/plain": [
       "      Die Mitte  EVP  FDP  FW  GLP  Grüne  SP  SVP\n",
       "Jahr                                              \n",
       "2006          5    2    6   5    0      0  10    8\n",
       "2010          4    2    6   4    0      2   8   10\n",
       "2014          5    2    6   4    0      2   7   10\n",
       "2018          4    2    6   4    2      3   7    8\n",
       "2022          4    2    6   4    3      4   6    7"
      ]
     },
     "execution_count": 14,
     "metadata": {},
     "output_type": "execute_result"
    }
   ],
   "source": [
    "path = \"All_Datas/Parteistärke_Adliswil.csv\"\n",
    "df_parteistaerke = pd.read_csv(path)\n",
    "df_parteistaerke.set_index('Jahr', inplace=True)\n",
    "df_parteistaerke.head(10)"
   ]
  },
  {
   "cell_type": "code",
   "execution_count": 15,
   "id": "51942c81",
   "metadata": {},
   "outputs": [
    {
     "data": {
      "text/plain": [
       "SVP          8.6\n",
       "SP           7.6\n",
       "FDP          6.0\n",
       "Die Mitte    4.4\n",
       "FW           4.2\n",
       "Grüne        2.2\n",
       "EVP          2.0\n",
       "GLP          1.0\n",
       "dtype: float64"
      ]
     },
     "execution_count": 15,
     "metadata": {},
     "output_type": "execute_result"
    }
   ],
   "source": [
    "parteistaerke_durchschnitt = df_parteistaerke.mean().sort_values(ascending=False)\n",
    "parteistaerke_durchschnitt"
   ]
  },
  {
   "cell_type": "code",
   "execution_count": 16,
   "id": "28970258",
   "metadata": {
    "scrolled": false
   },
   "outputs": [
    {
     "data": {
      "image/png": "[encoded data removed]",
      "text/plain": [
       "<Figure size 1000x500 with 1 Axes>"
      ]
     },
     "metadata": {},
     "output_type": "display_data"
    }
   ],
   "source": [
    "plt.figure(figsize=(10,5))\n",
    "plt.bar(parteistaerke_durchschnitt.index, parteistaerke_durchschnitt.values, color=[partei_farben[partei] for partei in parteistaerke_durchschnitt.index])\n",
    "plt.title('Durchschnittliche Anzahl Sitze der Parteien in den letzten 5 Legislaturen')\n",
    "plt.xlabel('Partei')\n",
    "plt.ylabel('Durchschnittliche Sitzzahl')\n",
    "plt.show()"
   ]
  },
  {
   "cell_type": "markdown",
   "id": "d2513ea7",
   "metadata": {},
   "source": [
    "Ich möchte nun auf einen Blick erkennbar machen, dass die SVP zwar am meisten Sitze hat, jedoch vergleichsweise nur sehr wenig Vorstösse einreicht. Um beide Auswertungen in einer Grafik anzuzeigen, verwende ich subplots. "
   ]
  },
  {
   "cell_type": "code",
   "execution_count": 24,
   "id": "63d84231",
   "metadata": {
    "scrolled": false
   },
   "outputs": [
    {
     "data": {
      "image/png": "[encoded data removed]",
      "text/plain": [
       "<Figure size 640x480 with 2 Axes>"
      ]
     },
     "metadata": {},
     "output_type": "display_data"
    }
   ],
   "source": [
    "# Zuerst definiere ich die art der Grafik und die erste Achse - und sage, dass es noch eine zweite gibt.\n",
    "fig, ax1 = plt.subplots()\n",
    "\n",
    "# Hier definiere ich die Achse mit den durchschnittlichen Sitzen - es soll eine Linie mit Markern sein\n",
    "# Weil ich auf den y-Achsen zwei verschieden grosse Werte habe, brauche ich unterschiedliche Skalen.\n",
    "ax2 = ax1.twinx()\n",
    "# Die Linie soll blau sein\n",
    "color = 'tab:blue'\n",
    "# Ich definiere den Titel der Achse\n",
    "ax2.set_ylabel('Durchschnittliche Sitze')\n",
    "# Nun definiere ich, was es mir eigentlich anzeigen soll - und dass ich einen blauen, runden Marker will\n",
    "ax2.plot(parteistaerke_durchschnitt.index, parteistaerke_durchschnitt, color=color, marker='o')\n",
    "\n",
    "# Hier definiere ich die Achse mit der Anzahl Vorstössen. Die Farben sollen den Parteien entsprechen\n",
    "color = [partei_farben[partei] for partei in partei_count['Partei']]\n",
    "# Ich definiere die Achsen\n",
    "ax1.set_xlabel('Partei')\n",
    "ax1.set_ylabel('Anzahl Vorstösse')\n",
    "# Und sage auch hier, was es mir eigentlich anzeigen soll. Die Anzahl Vorstösse nach Partei.\n",
    "ax1.bar(partei_count['Partei'], partei_count['Anzahl_Vorstoesse'], color=color)\n",
    "\n",
    "# Zum Schluss setze ich noch einen Titel\n",
    "plt.title('Vergleich zwischen Anzahl Vorstösse und durchschnittlichen Sitzen')\n",
    "plt.show()"
   ]
  },
  {
   "cell_type": "markdown",
   "id": "8a4195af",
   "metadata": {},
   "source": [
    "Mich interessiert als Nächstes, wie oft eine Partei alleine einen Vorstoss einreicht und wie oft Politiker/innen aus mehreren Parteien an einem Vorstoss beteiligt sind. Ich erstelle dazu ein neues Dataframe mit den Spalten \"Einzeln\" und \"Zusammen\" und definiere als erstes einen For-Loop für die Parteien. Dazu reduziere ich mit .unique() zuerst sämtliche doppelte Partei-Vorstoss-Kombinationen. Danach schaue ich, ob die Vorstoss-ID nur einmal vorkommt. Das heisst nämlich, dass nur eine Partei beteiligt ist - wenn sie mehrmals vorkommt, sind noch andere Parteien vorhanden."
   ]
  },
  {
   "cell_type": "code",
   "execution_count": 18,
   "id": "3b361792",
   "metadata": {
    "scrolled": false
   },
   "outputs": [
    {
     "data": {
      "text/html": [
       "<div>\n",
       "<style scoped>\n",
       "    .dataframe tbody tr th:only-of-type {\n",
       "        vertical-align: middle;\n",
       "    }\n",
       "\n",
       "    .dataframe tbody tr th {\n",
       "        vertical-align: top;\n",
       "    }\n",
       "\n",
       "    .dataframe thead th {\n",
       "        text-align: right;\n",
       "    }\n",
       "</style>\n",
       "<table border=\"1\" class=\"dataframe\">\n",
       "  <thead>\n",
       "    <tr style=\"text-align: right;\">\n",
       "      <th></th>\n",
       "      <th>Partei</th>\n",
       "      <th>Einzeln</th>\n",
       "      <th>Zusammen</th>\n",
       "    </tr>\n",
       "  </thead>\n",
       "  <tbody>\n",
       "    <tr>\n",
       "      <th>0</th>\n",
       "      <td>FDP</td>\n",
       "      <td>23</td>\n",
       "      <td>35</td>\n",
       "    </tr>\n",
       "    <tr>\n",
       "      <th>1</th>\n",
       "      <td>GLP</td>\n",
       "      <td>1</td>\n",
       "      <td>13</td>\n",
       "    </tr>\n",
       "    <tr>\n",
       "      <th>2</th>\n",
       "      <td>Die Mitte</td>\n",
       "      <td>10</td>\n",
       "      <td>23</td>\n",
       "    </tr>\n",
       "    <tr>\n",
       "      <th>3</th>\n",
       "      <td>EVP</td>\n",
       "      <td>9</td>\n",
       "      <td>13</td>\n",
       "    </tr>\n",
       "    <tr>\n",
       "      <th>4</th>\n",
       "      <td>SP</td>\n",
       "      <td>29</td>\n",
       "      <td>35</td>\n",
       "    </tr>\n",
       "    <tr>\n",
       "      <th>5</th>\n",
       "      <td>FW</td>\n",
       "      <td>5</td>\n",
       "      <td>30</td>\n",
       "    </tr>\n",
       "    <tr>\n",
       "      <th>6</th>\n",
       "      <td>SVP</td>\n",
       "      <td>9</td>\n",
       "      <td>18</td>\n",
       "    </tr>\n",
       "    <tr>\n",
       "      <th>7</th>\n",
       "      <td>Grüne</td>\n",
       "      <td>3</td>\n",
       "      <td>22</td>\n",
       "    </tr>\n",
       "  </tbody>\n",
       "</table>\n",
       "</div>"
      ],
      "text/plain": [
       "      Partei Einzeln Zusammen\n",
       "0        FDP      23       35\n",
       "1        GLP       1       13\n",
       "2  Die Mitte      10       23\n",
       "3        EVP       9       13\n",
       "4         SP      29       35\n",
       "5         FW       5       30\n",
       "6        SVP       9       18\n",
       "7      Grüne       3       22"
      ]
     },
     "execution_count": 18,
     "metadata": {},
     "output_type": "execute_result"
    }
   ],
   "source": [
    "df_beteiligung_parteien = pd.DataFrame(columns=['Partei', 'Einzeln', 'Zusammen'])\n",
    "\n",
    "for partei in df_parteien['Partei'].unique():\n",
    "    einzel = 0\n",
    "    zusammen = 0\n",
    "\n",
    "    for vorstoss_id in df_parteien[df_parteien['Partei'] == partei]['ID-Vorstoss'].unique():\n",
    "        if len(df_parteien[df_parteien['ID-Vorstoss'] == vorstoss_id]) == 1:\n",
    "            einzel += 1\n",
    "        else:\n",
    "            zusammen += 1\n",
    "\n",
    "    df_beteiligung_parteien = df_beteiligung_parteien.append({'Partei': partei, 'Einzeln': einzel, 'Zusammen': zusammen}, ignore_index=True)\n",
    "\n",
    "df_beteiligung_parteien"
   ]
  },
  {
   "cell_type": "markdown",
   "id": "bf48626d",
   "metadata": {},
   "source": [
    "Man könnte nun auch noch analysieren, welche Partei wie oft welche Art von Vorstoss einreicht. Ich verzichte darauf, weil Begrifflichkeiten wie Postulat, Interpellation oder Motion zu weit weg von den durchschnittlichen Leserinnen und Lesern sind und die Aussagekraft einer solchen Analyse nicht wirklich gross ist."
   ]
  },
  {
   "cell_type": "markdown",
   "id": "32f8d49b",
   "metadata": {},
   "source": [
    "## 2. Wie erfolgreich sind die Parteien mit ihren Vorstössen?"
   ]
  },
  {
   "cell_type": "code",
   "execution_count": null,
   "id": "5a50ae5b",
   "metadata": {},
   "outputs": [],
   "source": []
  },
  {
   "cell_type": "markdown",
   "id": "7078a626",
   "metadata": {},
   "source": [
    "Hier dann noch die Mehrheiten der Lager definieren."
   ]
  },
  {
   "cell_type": "markdown",
   "id": "7e5c8f50",
   "metadata": {},
   "source": [
    "## 3. Welches sind die \"fleissigsten\" Parlamentarier - und wie erfolgreich sind sie?"
   ]
  },
  {
   "cell_type": "code",
   "execution_count": null,
   "id": "6a8430e3",
   "metadata": {},
   "outputs": [],
   "source": []
  },
  {
   "cell_type": "code",
   "execution_count": null,
   "id": "e2034bf2",
   "metadata": {},
   "outputs": [],
   "source": []
  },
  {
   "cell_type": "markdown",
   "id": "4bb4c58f",
   "metadata": {},
   "source": [
    "## 4. Wie viele Vorstösse stammen von Männern und wie viele von Frauen?"
   ]
  },
  {
   "cell_type": "markdown",
   "id": "f44bbd2d",
   "metadata": {},
   "source": [
    "Ich füge als erstes die Dataframes df_ID und df_parlamentarier zusammen."
   ]
  },
  {
   "cell_type": "code",
   "execution_count": 19,
   "id": "b9b2db99",
   "metadata": {
    "scrolled": true
   },
   "outputs": [
    {
     "data": {
      "text/html": [
       "<div>\n",
       "<style scoped>\n",
       "    .dataframe tbody tr th:only-of-type {\n",
       "        vertical-align: middle;\n",
       "    }\n",
       "\n",
       "    .dataframe tbody tr th {\n",
       "        vertical-align: top;\n",
       "    }\n",
       "\n",
       "    .dataframe thead th {\n",
       "        text-align: right;\n",
       "    }\n",
       "</style>\n",
       "<table border=\"1\" class=\"dataframe\">\n",
       "  <thead>\n",
       "    <tr style=\"text-align: right;\">\n",
       "      <th></th>\n",
       "      <th>Partei</th>\n",
       "      <th>Geschlecht</th>\n",
       "      <th>ID-Vorstoss</th>\n",
       "    </tr>\n",
       "  </thead>\n",
       "  <tbody>\n",
       "    <tr>\n",
       "      <th>0</th>\n",
       "      <td>FDP</td>\n",
       "      <td>m</td>\n",
       "      <td>1</td>\n",
       "    </tr>\n",
       "    <tr>\n",
       "      <th>1</th>\n",
       "      <td>GLP</td>\n",
       "      <td>m</td>\n",
       "      <td>2</td>\n",
       "    </tr>\n",
       "    <tr>\n",
       "      <th>2</th>\n",
       "      <td>Die Mitte</td>\n",
       "      <td>m</td>\n",
       "      <td>2</td>\n",
       "    </tr>\n",
       "    <tr>\n",
       "      <th>3</th>\n",
       "      <td>GLP</td>\n",
       "      <td>m</td>\n",
       "      <td>2</td>\n",
       "    </tr>\n",
       "    <tr>\n",
       "      <th>4</th>\n",
       "      <td>Die Mitte</td>\n",
       "      <td>w</td>\n",
       "      <td>2</td>\n",
       "    </tr>\n",
       "  </tbody>\n",
       "</table>\n",
       "</div>"
      ],
      "text/plain": [
       "      Partei Geschlecht  ID-Vorstoss\n",
       "0        FDP          m            1\n",
       "1        GLP          m            2\n",
       "2  Die Mitte          m            2\n",
       "3        GLP          m            2\n",
       "4  Die Mitte          w            2"
      ]
     },
     "execution_count": 19,
     "metadata": {},
     "output_type": "execute_result"
    }
   ],
   "source": [
    "df_geschlechter = df_ID.merge(df_parlamentarier, left_on='ID-Politiker', right_on='ID-Politiker', how='left')[['Partei','Geschlecht','ID-Vorstoss']]\n",
    "df_geschlechter.head(5)"
   ]
  },
  {
   "cell_type": "markdown",
   "id": "ff726e8f",
   "metadata": {},
   "source": [
    "Danach zähle ich, welches Geschlecht wie oft vorkommt..."
   ]
  },
  {
   "cell_type": "code",
   "execution_count": 40,
   "id": "c6d1efaf",
   "metadata": {},
   "outputs": [
    {
     "data": {
      "text/plain": [
       "m    344\n",
       "w     90\n",
       "Name: Geschlecht, dtype: int64"
      ]
     },
     "execution_count": 40,
     "metadata": {},
     "output_type": "execute_result"
    }
   ],
   "source": [
    "geschlechter_counts = df_geschlechter['Geschlecht'].value_counts()\n",
    "geschlechter_counts"
   ]
  },
  {
   "cell_type": "markdown",
   "id": "d3a26e6c",
   "metadata": {},
   "source": [
    "...und stelle die prozentualen Anteile in einem einfachen Kuchendiagramm dar."
   ]
  },
  {
   "cell_type": "code",
   "execution_count": 42,
   "id": "b1d3b26d",
   "metadata": {},
   "outputs": [
    {
     "data": {
      "image/png": "[encoded data removed]",
      "text/plain": [
       "<Figure size 640x480 with 1 Axes>"
      ]
     },
     "metadata": {},
     "output_type": "display_data"
    }
   ],
   "source": [
    "geschlechter_counts.plot(kind=\"pie\", autopct='%1.1f%%', startangle=90, colors=['skyblue', 'pink'])\n",
    "plt.title('Verteilung der Geschlechter bei Vorstössen')\n",
    "plt.show()"
   ]
  },
  {
   "cell_type": "markdown",
   "id": "84d46b18",
   "metadata": {},
   "source": [
    "Wir sehen also, dass nur an jedem fünften Vorstoss eine Frau beteiligt ist. Um etwas mehr als das aussagen zu können, möchte ich die Anzahl Vorstösse nach Geschlechter auf die einzelnen Parteien herunterbrechen."
   ]
  },
  {
   "cell_type": "code",
   "execution_count": 46,
   "id": "4b58e334",
   "metadata": {},
   "outputs": [
    {
     "data": {
      "image/png": "[encoded data removed]",
      "text/plain": [
       "<Figure size 640x480 with 1 Axes>"
      ]
     },
     "metadata": {},
     "output_type": "display_data"
    }
   ],
   "source": [
    "df_geschlechter.groupby(['Partei', 'Geschlecht']).count().unstack().plot(kind='bar', stacked=True, color=['skyblue', 'pink'])\n",
    "plt.title('Vorstösse nach Partei und Geschlechtern')\n",
    "plt.legend(title='Geschlecht', labels=['Männlich', 'Weiblich'], loc='upper left')\n",
    "plt.show()"
   ]
  },
  {
   "cell_type": "markdown",
   "id": "c96eb792",
   "metadata": {},
   "source": [
    "Nun will ich die generelle Frauenquote der einzelnen Parteien im Parlament ermitteln. Dazu gruppiere ich das Dataframe df_parlamentarier zuerst nach Partei und Geschlect und suche dann mit der lambda Methode alle \"w\" heraus und berechne den Anteil mal 100, um auf die Prozente zu kommen."
   ]
  },
  {
   "cell_type": "code",
   "execution_count": 22,
   "id": "ee7ede5f",
   "metadata": {},
   "outputs": [
    {
     "data": {
      "text/html": [
       "<div>\n",
       "<style scoped>\n",
       "    .dataframe tbody tr th:only-of-type {\n",
       "        vertical-align: middle;\n",
       "    }\n",
       "\n",
       "    .dataframe tbody tr th {\n",
       "        vertical-align: top;\n",
       "    }\n",
       "\n",
       "    .dataframe thead th {\n",
       "        text-align: right;\n",
       "    }\n",
       "</style>\n",
       "<table border=\"1\" class=\"dataframe\">\n",
       "  <thead>\n",
       "    <tr style=\"text-align: right;\">\n",
       "      <th></th>\n",
       "      <th>Partei</th>\n",
       "      <th>Anteil Frauen</th>\n",
       "    </tr>\n",
       "  </thead>\n",
       "  <tbody>\n",
       "    <tr>\n",
       "      <th>5</th>\n",
       "      <td>Grüne</td>\n",
       "      <td>50.000000</td>\n",
       "    </tr>\n",
       "    <tr>\n",
       "      <th>6</th>\n",
       "      <td>SP</td>\n",
       "      <td>38.095238</td>\n",
       "    </tr>\n",
       "    <tr>\n",
       "      <th>4</th>\n",
       "      <td>GLP</td>\n",
       "      <td>33.333333</td>\n",
       "    </tr>\n",
       "    <tr>\n",
       "      <th>2</th>\n",
       "      <td>FDP</td>\n",
       "      <td>26.315789</td>\n",
       "    </tr>\n",
       "    <tr>\n",
       "      <th>0</th>\n",
       "      <td>Die Mitte</td>\n",
       "      <td>25.000000</td>\n",
       "    </tr>\n",
       "    <tr>\n",
       "      <th>1</th>\n",
       "      <td>EVP</td>\n",
       "      <td>20.000000</td>\n",
       "    </tr>\n",
       "    <tr>\n",
       "      <th>7</th>\n",
       "      <td>SVP</td>\n",
       "      <td>15.384615</td>\n",
       "    </tr>\n",
       "    <tr>\n",
       "      <th>3</th>\n",
       "      <td>FW</td>\n",
       "      <td>10.000000</td>\n",
       "    </tr>\n",
       "  </tbody>\n",
       "</table>\n",
       "</div>"
      ],
      "text/plain": [
       "      Partei  Anteil Frauen\n",
       "5      Grüne      50.000000\n",
       "6         SP      38.095238\n",
       "4        GLP      33.333333\n",
       "2        FDP      26.315789\n",
       "0  Die Mitte      25.000000\n",
       "1        EVP      20.000000\n",
       "7        SVP      15.384615\n",
       "3         FW      10.000000"
      ]
     },
     "execution_count": 22,
     "metadata": {},
     "output_type": "execute_result"
    }
   ],
   "source": [
    "df_geschlechtsanteil_partei = df_parlamentarier.groupby('Partei')['Geschlecht'].apply(lambda x: (x == 'w').mean() * 100).reset_index()\n",
    "df_geschlechtsanteil_partei.columns = ['Partei', 'Anteil Frauen']\n",
    "df_geschlechtsanteil_sortiert = df_geschlechtsanteil_partei.sort_values(['Anteil Frauen'],ascending=False)\n",
    "df_geschlechtsanteil_sortiert"
   ]
  },
  {
   "cell_type": "markdown",
   "id": "b444e8ea",
   "metadata": {},
   "source": [
    "Das Ganze lasse ich mir wiederum in einer Grafik anzeigen. Interessant ist, dass die SP zwar einen relativ hohen Frauenanteil im Parlament hat, an den Vorstössen aber in der Regel Männer beteiligt sind."
   ]
  },
  {
   "cell_type": "code",
   "execution_count": 23,
   "id": "06d36567",
   "metadata": {},
   "outputs": [
    {
     "data": {
      "image/png": "[encoded data removed]",
      "text/plain": [
       "<Figure size 1000x600 with 1 Axes>"
      ]
     },
     "metadata": {},
     "output_type": "display_data"
    }
   ],
   "source": [
    "plt.figure(figsize=(10, 6))\n",
    "plt.bar(df_geschlechtsanteil_sortiert ['Partei'], df_geschlechtsanteil_sortiert ['Anteil Frauen'], color=[partei_farben[partei] for partei in df_geschlechtsanteil_sortiert['Partei']])\n",
    "plt.title('Anteil Parlamentarierinnen pro Partei zwischen 2006 und 2023')\n",
    "plt.xlabel('Partei')\n",
    "plt.ylabel('Anteil Frauen in Prozent')\n",
    "plt.show()"
   ]
  }
 ],
 "metadata": {
  "kernelspec": {
   "display_name": "Python 3 (ipykernel)",
   "language": "python",
   "name": "python3"
  },
  "language_info": {
   "codemirror_mode": {
    "name": "ipython",
    "version": 3
   },
   "file_extension": ".py",
   "mimetype": "text/x-python",
   "name": "python",
   "nbconvert_exporter": "python",
   "pygments_lexer": "ipython3",
   "version": "3.8.17"
  }
 },
 "nbformat": 4,
 "nbformat_minor": 5
}
