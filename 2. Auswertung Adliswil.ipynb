{
 "cells": [
  {
   "cell_type": "markdown",
   "id": "a3090913",
   "metadata": {},
   "source": [
    "# Auswertung Adliswil"
   ]
  },
  {
   "cell_type": "markdown",
   "id": "e9ea2ddf",
   "metadata": {},
   "source": [
    "# 1. Vorbereitung"
   ]
  },
  {
   "cell_type": "markdown",
   "id": "ab1e3270",
   "metadata": {},
   "source": [
    "Zuerst importiere ich die nötigen Libraries."
   ]
  },
  {
   "cell_type": "code",
   "execution_count": 1,
   "id": "37b08bbc",
   "metadata": {},
   "outputs": [],
   "source": [
    "import pandas as pd"
   ]
  },
  {
   "cell_type": "markdown",
   "id": "68ba7c14",
   "metadata": {},
   "source": [
    "Ich setze die Option, dass ich später in den Dataframes alle Angaben sehe."
   ]
  },
  {
   "cell_type": "code",
   "execution_count": 2,
   "id": "623ca638",
   "metadata": {},
   "outputs": [],
   "source": [
    "pd.set_option('display.max_rows', None)\n",
    "pd.set_option('display.max_colwidth', None)"
   ]
  },
  {
   "cell_type": "markdown",
   "id": "cc04a7d3",
   "metadata": {},
   "source": [
    "Danach importiere ich die beiden Listen, die ich brauche. Jene mit den Vorstössen und jene mit den Namen und Parteien der Politiker/innen."
   ]
  },
  {
   "cell_type": "code",
   "execution_count": 3,
   "id": "0edfd1ee",
   "metadata": {},
   "outputs": [],
   "source": [
    "path = \"All_Datas/daten_adliswil.csv\"\n",
    "df= pd.read_csv(path)"
   ]
  },
  {
   "cell_type": "code",
   "execution_count": 4,
   "id": "cd19e30b",
   "metadata": {},
   "outputs": [],
   "source": [
    "path2 = \"All_Datas/Parlamentarier_Adliswil.csv\"\n",
    "df_parlamentarier = pd.read_csv(path2)"
   ]
  },
  {
   "cell_type": "markdown",
   "id": "69376744",
   "metadata": {},
   "source": [
    "Damit ich die beiden Listen später mergen kann, muss ich aus den Listen in der Spalte Namen-neu des Vorstoss-Dataframes die einzelnen Elemente herausziehen. Ich will also eine separate Zeile für jede Person, die an einem Vorstoss beteilitgt war. Dazu mache ich eine Kopie des Dataframes, um nichts zu überschreiben. Danach zerteile ich mit der lambda-Funktion die Liste in einzelne Elemente. Und zwar immer dann, wenn ein Komma kommt. Mit der Funktion .explode teile ich die definierten Namen in der Liste schliesslich in einzelne Zeilen auf."
   ]
  },
  {
   "cell_type": "code",
   "execution_count": 17,
   "id": "c7dd823c",
   "metadata": {
    "scrolled": true
   },
   "outputs": [
    {
     "data": {
      "text/html": [
       "<div>\n",
       "<style scoped>\n",
       "    .dataframe tbody tr th:only-of-type {\n",
       "        vertical-align: middle;\n",
       "    }\n",
       "\n",
       "    .dataframe tbody tr th {\n",
       "        vertical-align: top;\n",
       "    }\n",
       "\n",
       "    .dataframe thead th {\n",
       "        text-align: right;\n",
       "    }\n",
       "</style>\n",
       "<table border=\"1\" class=\"dataframe\">\n",
       "  <thead>\n",
       "    <tr style=\"text-align: right;\">\n",
       "      <th></th>\n",
       "      <th>Titel</th>\n",
       "      <th>Geschaeftsart</th>\n",
       "      <th>Status</th>\n",
       "      <th>Datum</th>\n",
       "      <th>Namen</th>\n",
       "      <th>Namen-neu</th>\n",
       "      <th>ID-Vorstoss</th>\n",
       "    </tr>\n",
       "  </thead>\n",
       "  <tbody>\n",
       "    <tr>\n",
       "      <th>0</th>\n",
       "      <td>Städtische Beteiligung an Unternehmungen</td>\n",
       "      <td>Postulat</td>\n",
       "      <td>Abgeschrieben</td>\n",
       "      <td>2014-11-21</td>\n",
       "      <td>[' Senn Mario']</td>\n",
       "      <td>['Senn Mario']</td>\n",
       "      <td>1</td>\n",
       "    </tr>\n",
       "    <tr>\n",
       "      <th>1</th>\n",
       "      <td>ZKB Jubiläums-Dividende</td>\n",
       "      <td>Interpellation</td>\n",
       "      <td>Beantwortet</td>\n",
       "      <td>2019-11-06</td>\n",
       "      <td>[' Mäder Gabriel', ' Schanz Simon', '', 'Stefan Neubert (Mitunterzeichner/in)\\n Anke Würl (Mitunterzeichner/in)\\n Martin Rüttimann (Mitunterzeichner/in)\\n Walter Uebersax (Erstunterzeichner/in)', '', '', '']</td>\n",
       "      <td>['Mäder Gabriel', 'Schanz Simon', 'Stefan Neubert', 'Anke Würl', 'Martin Rüttimann', 'Walter Uebersax']</td>\n",
       "      <td>2</td>\n",
       "    </tr>\n",
       "    <tr>\n",
       "      <th>2</th>\n",
       "      <td>Zwischennutzung Stadthausareal</td>\n",
       "      <td>Postulat</td>\n",
       "      <td>Überwiesen</td>\n",
       "      <td>2011-09-07</td>\n",
       "      <td>[' Clesle Hanspeter']</td>\n",
       "      <td>['Clesle Hanspeter']</td>\n",
       "      <td>3</td>\n",
       "    </tr>\n",
       "  </tbody>\n",
       "</table>\n",
       "</div>"
      ],
      "text/plain": [
       "                                      Titel   Geschaeftsart         Status  \\\n",
       "0  Städtische Beteiligung an Unternehmungen        Postulat  Abgeschrieben   \n",
       "1                   ZKB Jubiläums-Dividende  Interpellation    Beantwortet   \n",
       "2            Zwischennutzung Stadthausareal        Postulat     Überwiesen   \n",
       "\n",
       "        Datum  \\\n",
       "0  2014-11-21   \n",
       "1  2019-11-06   \n",
       "2  2011-09-07   \n",
       "\n",
       "                                                                                                                                                                                                             Namen  \\\n",
       "0                                                                                                                                                                                                  [' Senn Mario']   \n",
       "1  [' Mäder Gabriel', ' Schanz Simon', '', 'Stefan Neubert (Mitunterzeichner/in)\\n Anke Würl (Mitunterzeichner/in)\\n Martin Rüttimann (Mitunterzeichner/in)\\n Walter Uebersax (Erstunterzeichner/in)', '', '', '']   \n",
       "2                                                                                                                                                                                            [' Clesle Hanspeter']   \n",
       "\n",
       "                                                                                                 Namen-neu  \\\n",
       "0                                                                                           ['Senn Mario']   \n",
       "1  ['Mäder Gabriel', 'Schanz Simon', 'Stefan Neubert', 'Anke Würl', 'Martin Rüttimann', 'Walter Uebersax']   \n",
       "2                                                                                     ['Clesle Hanspeter']   \n",
       "\n",
       "   ID-Vorstoss  \n",
       "0            1  \n",
       "1            2  \n",
       "2            3  "
      ]
     },
     "execution_count": 17,
     "metadata": {},
     "output_type": "execute_result"
    }
   ],
   "source": [
    "df.head(3)"
   ]
  },
  {
   "cell_type": "code",
   "execution_count": 18,
   "id": "820a0126",
   "metadata": {},
   "outputs": [
    {
     "data": {
      "text/html": [
       "<div>\n",
       "<style scoped>\n",
       "    .dataframe tbody tr th:only-of-type {\n",
       "        vertical-align: middle;\n",
       "    }\n",
       "\n",
       "    .dataframe tbody tr th {\n",
       "        vertical-align: top;\n",
       "    }\n",
       "\n",
       "    .dataframe thead th {\n",
       "        text-align: right;\n",
       "    }\n",
       "</style>\n",
       "<table border=\"1\" class=\"dataframe\">\n",
       "  <thead>\n",
       "    <tr style=\"text-align: right;\">\n",
       "      <th></th>\n",
       "      <th>Titel</th>\n",
       "      <th>Geschaeftsart</th>\n",
       "      <th>Status</th>\n",
       "      <th>Datum</th>\n",
       "      <th>Namen</th>\n",
       "      <th>Namen-neu</th>\n",
       "      <th>ID-Vorstoss</th>\n",
       "    </tr>\n",
       "  </thead>\n",
       "  <tbody>\n",
       "    <tr>\n",
       "      <th>0</th>\n",
       "      <td>Städtische Beteiligung an Unternehmungen</td>\n",
       "      <td>Postulat</td>\n",
       "      <td>Abgeschrieben</td>\n",
       "      <td>2014-11-21</td>\n",
       "      <td>[' Senn Mario']</td>\n",
       "      <td>['Senn Mario']</td>\n",
       "      <td>1</td>\n",
       "    </tr>\n",
       "    <tr>\n",
       "      <th>1</th>\n",
       "      <td>ZKB Jubiläums-Dividende</td>\n",
       "      <td>Interpellation</td>\n",
       "      <td>Beantwortet</td>\n",
       "      <td>2019-11-06</td>\n",
       "      <td>[' Mäder Gabriel', ' Schanz Simon', '', 'Stefan Neubert (Mitunterzeichner/in)\\n Anke Würl (Mitunterzeichner/in)\\n Martin Rüttimann (Mitunterzeichner/in)\\n Walter Uebersax (Erstunterzeichner/in)', '', '', '']</td>\n",
       "      <td>['Mäder Gabriel'</td>\n",
       "      <td>2</td>\n",
       "    </tr>\n",
       "    <tr>\n",
       "      <th>1</th>\n",
       "      <td>ZKB Jubiläums-Dividende</td>\n",
       "      <td>Interpellation</td>\n",
       "      <td>Beantwortet</td>\n",
       "      <td>2019-11-06</td>\n",
       "      <td>[' Mäder Gabriel', ' Schanz Simon', '', 'Stefan Neubert (Mitunterzeichner/in)\\n Anke Würl (Mitunterzeichner/in)\\n Martin Rüttimann (Mitunterzeichner/in)\\n Walter Uebersax (Erstunterzeichner/in)', '', '', '']</td>\n",
       "      <td>'Schanz Simon'</td>\n",
       "      <td>2</td>\n",
       "    </tr>\n",
       "  </tbody>\n",
       "</table>\n",
       "</div>"
      ],
      "text/plain": [
       "                                      Titel   Geschaeftsart         Status  \\\n",
       "0  Städtische Beteiligung an Unternehmungen        Postulat  Abgeschrieben   \n",
       "1                   ZKB Jubiläums-Dividende  Interpellation    Beantwortet   \n",
       "1                   ZKB Jubiläums-Dividende  Interpellation    Beantwortet   \n",
       "\n",
       "        Datum  \\\n",
       "0  2014-11-21   \n",
       "1  2019-11-06   \n",
       "1  2019-11-06   \n",
       "\n",
       "                                                                                                                                                                                                             Namen  \\\n",
       "0                                                                                                                                                                                                  [' Senn Mario']   \n",
       "1  [' Mäder Gabriel', ' Schanz Simon', '', 'Stefan Neubert (Mitunterzeichner/in)\\n Anke Würl (Mitunterzeichner/in)\\n Martin Rüttimann (Mitunterzeichner/in)\\n Walter Uebersax (Erstunterzeichner/in)', '', '', '']   \n",
       "1  [' Mäder Gabriel', ' Schanz Simon', '', 'Stefan Neubert (Mitunterzeichner/in)\\n Anke Würl (Mitunterzeichner/in)\\n Martin Rüttimann (Mitunterzeichner/in)\\n Walter Uebersax (Erstunterzeichner/in)', '', '', '']   \n",
       "\n",
       "          Namen-neu  ID-Vorstoss  \n",
       "0    ['Senn Mario']            1  \n",
       "1  ['Mäder Gabriel'            2  \n",
       "1    'Schanz Simon'            2  "
      ]
     },
     "execution_count": 18,
     "metadata": {},
     "output_type": "execute_result"
    }
   ],
   "source": [
    "df_vorstoesse = df.copy()\n",
    "\n",
    "df_vorstoesse['Namen-neu'] = df_vorstoesse['Namen-neu'].apply(lambda x: x if pd.isna(x) else x.split(','))\n",
    "df_vorstoesse = df_vorstoesse.explode('Namen-neu')\n",
    "df_vorstoesse.head(3)"
   ]
  },
  {
   "cell_type": "markdown",
   "id": "b256db1b",
   "metadata": {},
   "source": [
    "Nun habe ich für alle Personen, die an einem Vorstoss beteiligt waren, eine einzelne Zeile. Um sie mit der Namensliste mergen zu können, müssen die Namen identisch sein. Ich muss also noch sämtliche Klammern und Anführungszeichen eliminieren. Das mache ich mit Hilfe von Regex."
   ]
  },
  {
   "cell_type": "code",
   "execution_count": 19,
   "id": "ee57304b",
   "metadata": {
    "scrolled": false
   },
   "outputs": [
    {
     "name": "stderr",
     "output_type": "stream",
     "text": [
      "/var/folders/0_/g6gf3kvd4wd5y2c_ls8l_k280000gn/T/ipykernel_32044/273107438.py:1: FutureWarning: The default value of regex will change from True to False in a future version.\n",
      "  df_vorstoesse['Namen-neu'] = df_vorstoesse['Namen-neu'].str.replace(r\"[\\[\\]']|''\", '').str.strip()\n"
     ]
    },
    {
     "data": {
      "text/html": [
       "<div>\n",
       "<style scoped>\n",
       "    .dataframe tbody tr th:only-of-type {\n",
       "        vertical-align: middle;\n",
       "    }\n",
       "\n",
       "    .dataframe tbody tr th {\n",
       "        vertical-align: top;\n",
       "    }\n",
       "\n",
       "    .dataframe thead th {\n",
       "        text-align: right;\n",
       "    }\n",
       "</style>\n",
       "<table border=\"1\" class=\"dataframe\">\n",
       "  <thead>\n",
       "    <tr style=\"text-align: right;\">\n",
       "      <th></th>\n",
       "      <th>Titel</th>\n",
       "      <th>Geschaeftsart</th>\n",
       "      <th>Status</th>\n",
       "      <th>Datum</th>\n",
       "      <th>Namen</th>\n",
       "      <th>Namen-neu</th>\n",
       "      <th>ID-Vorstoss</th>\n",
       "    </tr>\n",
       "  </thead>\n",
       "  <tbody>\n",
       "    <tr>\n",
       "      <th>0</th>\n",
       "      <td>Städtische Beteiligung an Unternehmungen</td>\n",
       "      <td>Postulat</td>\n",
       "      <td>Abgeschrieben</td>\n",
       "      <td>2014-11-21</td>\n",
       "      <td>[' Senn Mario']</td>\n",
       "      <td>Senn Mario</td>\n",
       "      <td>1</td>\n",
       "    </tr>\n",
       "    <tr>\n",
       "      <th>1</th>\n",
       "      <td>ZKB Jubiläums-Dividende</td>\n",
       "      <td>Interpellation</td>\n",
       "      <td>Beantwortet</td>\n",
       "      <td>2019-11-06</td>\n",
       "      <td>[' Mäder Gabriel', ' Schanz Simon', '', 'Stefan Neubert (Mitunterzeichner/in)\\n Anke Würl (Mitunterzeichner/in)\\n Martin Rüttimann (Mitunterzeichner/in)\\n Walter Uebersax (Erstunterzeichner/in)', '', '', '']</td>\n",
       "      <td>Mäder Gabriel</td>\n",
       "      <td>2</td>\n",
       "    </tr>\n",
       "    <tr>\n",
       "      <th>1</th>\n",
       "      <td>ZKB Jubiläums-Dividende</td>\n",
       "      <td>Interpellation</td>\n",
       "      <td>Beantwortet</td>\n",
       "      <td>2019-11-06</td>\n",
       "      <td>[' Mäder Gabriel', ' Schanz Simon', '', 'Stefan Neubert (Mitunterzeichner/in)\\n Anke Würl (Mitunterzeichner/in)\\n Martin Rüttimann (Mitunterzeichner/in)\\n Walter Uebersax (Erstunterzeichner/in)', '', '', '']</td>\n",
       "      <td>Schanz Simon</td>\n",
       "      <td>2</td>\n",
       "    </tr>\n",
       "  </tbody>\n",
       "</table>\n",
       "</div>"
      ],
      "text/plain": [
       "                                      Titel   Geschaeftsart         Status  \\\n",
       "0  Städtische Beteiligung an Unternehmungen        Postulat  Abgeschrieben   \n",
       "1                   ZKB Jubiläums-Dividende  Interpellation    Beantwortet   \n",
       "1                   ZKB Jubiläums-Dividende  Interpellation    Beantwortet   \n",
       "\n",
       "        Datum  \\\n",
       "0  2014-11-21   \n",
       "1  2019-11-06   \n",
       "1  2019-11-06   \n",
       "\n",
       "                                                                                                                                                                                                             Namen  \\\n",
       "0                                                                                                                                                                                                  [' Senn Mario']   \n",
       "1  [' Mäder Gabriel', ' Schanz Simon', '', 'Stefan Neubert (Mitunterzeichner/in)\\n Anke Würl (Mitunterzeichner/in)\\n Martin Rüttimann (Mitunterzeichner/in)\\n Walter Uebersax (Erstunterzeichner/in)', '', '', '']   \n",
       "1  [' Mäder Gabriel', ' Schanz Simon', '', 'Stefan Neubert (Mitunterzeichner/in)\\n Anke Würl (Mitunterzeichner/in)\\n Martin Rüttimann (Mitunterzeichner/in)\\n Walter Uebersax (Erstunterzeichner/in)', '', '', '']   \n",
       "\n",
       "       Namen-neu  ID-Vorstoss  \n",
       "0     Senn Mario            1  \n",
       "1  Mäder Gabriel            2  \n",
       "1   Schanz Simon            2  "
      ]
     },
     "execution_count": 19,
     "metadata": {},
     "output_type": "execute_result"
    }
   ],
   "source": [
    "df_vorstoesse['Namen-neu'] = df_vorstoesse['Namen-neu'].str.replace(r\"[\\[\\]']|''\", '').str.strip()\n",
    "df_vorstoesse.head(3)"
   ]
  },
  {
   "cell_type": "markdown",
   "id": "088093c6",
   "metadata": {},
   "source": [
    "Als nächstes will ich die beiden Listen so zusammenfügen, dass ich mit den IDs der Politiker und der Vorstösse arbeiten kann. So kann ich verhindern, dass sich Fehler einschleichen, falls zwei Politiker/innen gleich heissen. Ich merge die beiden Listen zur df_ID"
   ]
  },
  {
   "cell_type": "code",
   "execution_count": 20,
   "id": "570e1f84",
   "metadata": {},
   "outputs": [],
   "source": [
    "df_ID = df_vorstoesse.merge(df_parlamentarier, left_on='Namen-neu', right_on='Name', how='left')[['ID-Vorstoss', 'ID-Politiker']]"
   ]
  },
  {
   "cell_type": "code",
   "execution_count": 21,
   "id": "1a6674cb",
   "metadata": {
    "scrolled": true
   },
   "outputs": [
    {
     "data": {
      "text/html": [
       "<div>\n",
       "<style scoped>\n",
       "    .dataframe tbody tr th:only-of-type {\n",
       "        vertical-align: middle;\n",
       "    }\n",
       "\n",
       "    .dataframe tbody tr th {\n",
       "        vertical-align: top;\n",
       "    }\n",
       "\n",
       "    .dataframe thead th {\n",
       "        text-align: right;\n",
       "    }\n",
       "</style>\n",
       "<table border=\"1\" class=\"dataframe\">\n",
       "  <thead>\n",
       "    <tr style=\"text-align: right;\">\n",
       "      <th></th>\n",
       "      <th>ID-Vorstoss</th>\n",
       "      <th>ID-Politiker</th>\n",
       "    </tr>\n",
       "  </thead>\n",
       "  <tbody>\n",
       "    <tr>\n",
       "      <th>0</th>\n",
       "      <td>1</td>\n",
       "      <td>91.0</td>\n",
       "    </tr>\n",
       "    <tr>\n",
       "      <th>1</th>\n",
       "      <td>2</td>\n",
       "      <td>62.0</td>\n",
       "    </tr>\n",
       "    <tr>\n",
       "      <th>2</th>\n",
       "      <td>2</td>\n",
       "      <td>86.0</td>\n",
       "    </tr>\n",
       "    <tr>\n",
       "      <th>3</th>\n",
       "      <td>2</td>\n",
       "      <td>96.0</td>\n",
       "    </tr>\n",
       "    <tr>\n",
       "      <th>4</th>\n",
       "      <td>2</td>\n",
       "      <td>6.0</td>\n",
       "    </tr>\n",
       "  </tbody>\n",
       "</table>\n",
       "</div>"
      ],
      "text/plain": [
       "   ID-Vorstoss  ID-Politiker\n",
       "0            1          91.0\n",
       "1            2          62.0\n",
       "2            2          86.0\n",
       "3            2          96.0\n",
       "4            2           6.0"
      ]
     },
     "execution_count": 21,
     "metadata": {},
     "output_type": "execute_result"
    }
   ],
   "source": [
    "df_ID.head(5)"
   ]
  },
  {
   "cell_type": "markdown",
   "id": "32019f31",
   "metadata": {},
   "source": [
    "Jetzt habe ich die Grundlage geschaffen, um mit den konkreten Auswertungen beginnen zu konnen."
   ]
  },
  {
   "cell_type": "markdown",
   "id": "c5ed125c",
   "metadata": {},
   "source": [
    "## 1. Welche Parteien reichen die häufigsten Vorstösse ein?"
   ]
  },
  {
   "cell_type": "code",
   "execution_count": null,
   "id": "21397ab2",
   "metadata": {},
   "outputs": [],
   "source": []
  },
  {
   "cell_type": "code",
   "execution_count": null,
   "id": "cc1df55c",
   "metadata": {},
   "outputs": [],
   "source": []
  },
  {
   "cell_type": "code",
   "execution_count": null,
   "id": "d9fd218c",
   "metadata": {},
   "outputs": [],
   "source": []
  }
 ],
 "metadata": {
  "kernelspec": {
   "display_name": "Python 3 (ipykernel)",
   "language": "python",
   "name": "python3"
  },
  "language_info": {
   "codemirror_mode": {
    "name": "ipython",
    "version": 3
   },
   "file_extension": ".py",
   "mimetype": "text/x-python",
   "name": "python",
   "nbconvert_exporter": "python",
   "pygments_lexer": "ipython3",
   "version": "3.8.17"
  }
 },
 "nbformat": 4,
 "nbformat_minor": 5
}
