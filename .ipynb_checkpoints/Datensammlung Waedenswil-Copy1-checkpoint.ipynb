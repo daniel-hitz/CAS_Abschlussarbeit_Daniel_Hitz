{
 "cells": [
  {
   "cell_type": "markdown",
   "id": "607f3652",
   "metadata": {},
   "source": [
    "# Datenbeschaffung Wädenswil"
   ]
  },
  {
   "cell_type": "code",
   "execution_count": 38,
   "id": "2e6de77e",
   "metadata": {},
   "outputs": [],
   "source": [
    "import requests\n",
    "from bs4 import BeautifulSoup\n",
    "import pandas as pd\n",
    "from selenium import webdriver\n",
    "from selenium.webdriver.common.keys import Keys\n",
    "from selenium.webdriver.common.by import By\n",
    "from selenium.webdriver.support.ui import Select\n",
    "import time"
   ]
  },
  {
   "cell_type": "code",
   "execution_count": 71,
   "id": "6f76d658",
   "metadata": {},
   "outputs": [
    {
     "name": "stdout",
     "output_type": "stream",
     "text": [
      "Error: list index out of range\n",
      "Error: list index out of range\n",
      "Error: list index out of range\n",
      "Error: list index out of range\n",
      "Error: list index out of range\n",
      "Error: list index out of range\n",
      "Error: list index out of range\n",
      "Error: list index out of range\n",
      "Error: list index out of range\n",
      "Error: list index out of range\n",
      "Error: list index out of range\n",
      "Error: list index out of range\n",
      "Error: list index out of range\n"
     ]
    }
   ],
   "source": [
    "# Wir starten den Browser\n",
    "driver = webdriver.Firefox()\n",
    "\n",
    "# Wir sagen dem Browser, welche Seite er besuchen sollte.\n",
    "driver.get('https://www.waedenswil.ch/politbusiness?politische_geschaefte_suchformular%5Bkeyword%5D=&politische_geschaefte_suchformular%5Bnummer%5D=&politische_geschaefte_suchformular%5BvomStart%5D=1.1.2000&politische_geschaefte_suchformular%5BvomEnd%5D=1.1.2024&politische_geschaefte_suchformular%5BstatusId%5D=&politische_geschaefte_suchformular%5BkategorieId%5D%5B%5D=anfrage&politische_geschaefte_suchformular%5BkategorieId%5D%5B%5D=dringliche_interpellation&politische_geschaefte_suchformular%5BkategorieId%5D%5B%5D=einzelinitiative&politische_geschaefte_suchformular%5BkategorieId%5D%5B%5D=erklaerung&politische_geschaefte_suchformular%5BkategorieId%5D%5B%5D=interpellation&politische_geschaefte_suchformular%5BkategorieId%5D%5B%5D=kleine_anfrage&politische_geschaefte_suchformular%5BkategorieId%5D%5B%5D=motion&politische_geschaefte_suchformular%5BkategorieId%5D%5B%5D=petition&politische_geschaefte_suchformular%5BkategorieId%5D%5B%5D=postulat&politische_geschaefte_suchformular%5BkategorieId%5D%5B%5D=volksinitiative&politische_geschaefte_suchformular%5BsearchBtn%5D=&politische_geschaefte_suchformular%5B_token%5D=-LtVJxTP2UgxWDiJ-lelrrHUs5y8lSRjhXGqmJd9gYc#')\n",
    "#Die Hauptseite lädt relativ schnell, 2 Sekunden sollten reichen.\n",
    "time.sleep(2)\n",
    "#Es wird später das Problem auftauchen, dass die Elemente auf der Seite beim Laden in unterschiedlicher \n",
    "#Reihenfolge angezeigt werden. So werden Elemente mehrmals und andere gar nicht gespeichert. Ich sortiere also\n",
    "#nach Datum, um das Problem zu beheben.\n",
    "driver.find_element(By.CLASS_NAME, 'sorting').click()\n",
    "\n",
    "\n",
    "# Nun gebe ich den Befehl, auf jede der 26 Seiten zuzugreifen.\n",
    "for page_number in range(26):\n",
    "    #Als nächstes muss ich auf die 20 Subpages zugreifen, die jeweils auf einer der 26 Seiten sind.\n",
    "    for link_number in range(20):\n",
    "        #Den Namen der Elemente suche ich über das Entwicklertool\n",
    "        elements = driver.find_elements(By.XPATH,'//td[@class=\"icms-datatable-col-title\"]/a')\n",
    "        \n",
    "    #Es gibt auf der Seite noch ein Weiteres Element mit dem gesuchten Namen. Das soll er ignorieren, \n",
    "    #deshalb die Try-Funktion.\n",
    "        try:\n",
    "            elements[link_number].click()\n",
    "            time.sleep(6)\n",
    "            #Ich speichere die Subpages in einem Ordner als htm Datei ab\n",
    "            subpage = driver.page_source.encode('utf-8')\n",
    "            with open(\"subpages_waedenswil/\"+str(page_number)+'_'+str(link_number)+\".htm\", \"wb+\") as file:\n",
    "                file.write(subpage)\n",
    "\n",
    "            #Gehe zurück zur vorherigen Seite\n",
    "            driver.back()\n",
    "        #Hier überspringe ich das falsche Element.\n",
    "        except Exception as e:\n",
    "            print(f\"Error: {e}\")\n",
    "            continue\n",
    "        #Es dauert auch hier etwas\n",
    "        time.sleep(3)\n",
    "\n",
    "    #Dann soll das Programm zu nächsten Seite gehen. und in der Schlaufe oben wieder beginnen. Die Webseite\n",
    "    #weist die aktuelle Seitenzahl leider nicht in der URL aus. Ich muss die Seite also mit einem Selenium-Befehl\n",
    "    #wechseln...\n",
    "    driver.find_element(By.ID, 'icmsTable-geschaefteList_next').click()\n",
    "    time.sleep(4)\n",
    "\n",
    "#Am Ende soll das Programm den Browser schliessen\n",
    "driver.quit()"
   ]
  },
  {
   "cell_type": "code",
   "execution_count": null,
   "id": "6df28892",
   "metadata": {},
   "outputs": [],
   "source": []
  }
 ],
 "metadata": {
  "kernelspec": {
   "display_name": "Python 3 (ipykernel)",
   "language": "python",
   "name": "python3"
  },
  "language_info": {
   "codemirror_mode": {
    "name": "ipython",
    "version": 3
   },
   "file_extension": ".py",
   "mimetype": "text/x-python",
   "name": "python",
   "nbconvert_exporter": "python",
   "pygments_lexer": "ipython3",
   "version": "3.11.6"
  }
 },
 "nbformat": 4,
 "nbformat_minor": 5
}
