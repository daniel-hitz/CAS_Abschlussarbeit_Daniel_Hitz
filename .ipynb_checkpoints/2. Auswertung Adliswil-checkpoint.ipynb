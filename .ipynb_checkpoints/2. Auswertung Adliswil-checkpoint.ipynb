{
 "cells": [
  {
   "cell_type": "markdown",
   "id": "a3090913",
   "metadata": {},
   "source": [
    "# Auswertung Adliswil"
   ]
  },
  {
   "cell_type": "markdown",
   "id": "239fe8be",
   "metadata": {},
   "source": [
    "## Vorbereitung"
   ]
  },
  {
   "cell_type": "markdown",
   "id": "e10e4fd6",
   "metadata": {},
   "source": [
    "Zuerst importiere ich die nötigen Libraries."
   ]
  },
  {
   "cell_type": "code",
   "execution_count": 1,
   "id": "37b08bbc",
   "metadata": {},
   "outputs": [],
   "source": [
    "import pandas as pd\n",
    "import matplotlib.pyplot as plt\n",
    "import numpy as np\n",
    "import warnings"
   ]
  },
  {
   "cell_type": "markdown",
   "id": "1163787c",
   "metadata": {},
   "source": [
    "Ich setze die Option, dass ich später in den Dataframes alle Angaben sehe. Warnungen, dass gewisse Funktionen nach Updates nicht mehr funktionieren könnten, schalte ich der Leserfreundlchkeit halber aus."
   ]
  },
  {
   "cell_type": "code",
   "execution_count": 2,
   "id": "623ca638",
   "metadata": {},
   "outputs": [],
   "source": [
    "pd.set_option('display.max_rows', None)\n",
    "pd.set_option('display.max_colwidth', None)\n",
    "warnings.simplefilter(action='ignore', category=FutureWarning)"
   ]
  },
  {
   "cell_type": "markdown",
   "id": "a19f1c92",
   "metadata": {},
   "source": [
    "Danach importiere ich die beiden Hauptfiles. Jenes mit den Vorstössen und jenes mit den Namen und Parteien der Politiker/innen. Die Daten für die Namen und der Parteien habe ich von der Stadt erhalten."
   ]
  },
  {
   "cell_type": "code",
   "execution_count": 3,
   "id": "416bea0b",
   "metadata": {},
   "outputs": [
    {
     "data": {
      "text/html": [
       "<div>\n",
       "<style scoped>\n",
       "    .dataframe tbody tr th:only-of-type {\n",
       "        vertical-align: middle;\n",
       "    }\n",
       "\n",
       "    .dataframe tbody tr th {\n",
       "        vertical-align: top;\n",
       "    }\n",
       "\n",
       "    .dataframe thead th {\n",
       "        text-align: right;\n",
       "    }\n",
       "</style>\n",
       "<table border=\"1\" class=\"dataframe\">\n",
       "  <thead>\n",
       "    <tr style=\"text-align: right;\">\n",
       "      <th></th>\n",
       "      <th>Name</th>\n",
       "      <th>Partei</th>\n",
       "      <th>ID-Politiker</th>\n",
       "      <th>Geschlecht</th>\n",
       "    </tr>\n",
       "  </thead>\n",
       "  <tbody>\n",
       "    <tr>\n",
       "      <th>0</th>\n",
       "      <td>Acar Sait</td>\n",
       "      <td>SP</td>\n",
       "      <td>1</td>\n",
       "      <td>m</td>\n",
       "    </tr>\n",
       "    <tr>\n",
       "      <th>1</th>\n",
       "      <td>Aebli Daniel</td>\n",
       "      <td>SVP</td>\n",
       "      <td>2</td>\n",
       "      <td>m</td>\n",
       "    </tr>\n",
       "    <tr>\n",
       "      <th>2</th>\n",
       "      <td>Andrea Blümli</td>\n",
       "      <td>Die Mitte</td>\n",
       "      <td>3</td>\n",
       "      <td>w</td>\n",
       "    </tr>\n",
       "  </tbody>\n",
       "</table>\n",
       "</div>"
      ],
      "text/plain": [
       "            Name     Partei  ID-Politiker Geschlecht\n",
       "0      Acar Sait         SP             1          m\n",
       "1   Aebli Daniel        SVP             2          m\n",
       "2  Andrea Blümli  Die Mitte             3          w"
      ]
     },
     "execution_count": 3,
     "metadata": {},
     "output_type": "execute_result"
    }
   ],
   "source": [
    "path2 = \"All_Datas/Parlamentarier_Adliswil.csv\"\n",
    "df_parlamentarier = pd.read_csv(path2)\n",
    "df_parlamentarier.head(3)"
   ]
  },
  {
   "cell_type": "code",
   "execution_count": 4,
   "id": "0edfd1ee",
   "metadata": {},
   "outputs": [
    {
     "data": {
      "text/html": [
       "<div>\n",
       "<style scoped>\n",
       "    .dataframe tbody tr th:only-of-type {\n",
       "        vertical-align: middle;\n",
       "    }\n",
       "\n",
       "    .dataframe tbody tr th {\n",
       "        vertical-align: top;\n",
       "    }\n",
       "\n",
       "    .dataframe thead th {\n",
       "        text-align: right;\n",
       "    }\n",
       "</style>\n",
       "<table border=\"1\" class=\"dataframe\">\n",
       "  <thead>\n",
       "    <tr style=\"text-align: right;\">\n",
       "      <th></th>\n",
       "      <th>Titel</th>\n",
       "      <th>Geschaeftsart</th>\n",
       "      <th>Status</th>\n",
       "      <th>Datum</th>\n",
       "      <th>Namen</th>\n",
       "      <th>Namen-neu</th>\n",
       "      <th>ID-Vorstoss</th>\n",
       "    </tr>\n",
       "  </thead>\n",
       "  <tbody>\n",
       "    <tr>\n",
       "      <th>0</th>\n",
       "      <td>Städtische Beteiligung an Unternehmungen</td>\n",
       "      <td>Postulat</td>\n",
       "      <td>Abgeschrieben</td>\n",
       "      <td>2014-11-21</td>\n",
       "      <td>[' Senn Mario']</td>\n",
       "      <td>['Senn Mario']</td>\n",
       "      <td>1</td>\n",
       "    </tr>\n",
       "    <tr>\n",
       "      <th>1</th>\n",
       "      <td>ZKB Jubiläums-Dividende</td>\n",
       "      <td>Interpellation</td>\n",
       "      <td>Beantwortet</td>\n",
       "      <td>2019-11-06</td>\n",
       "      <td>[' Mäder Gabriel', ' Schanz Simon', '', 'Stefan Neubert (Mitunterzeichner/in)\\n Anke Würl (Mitunterzeichner/in)\\n Martin  Rüttimann (Mitunterzeichner/in)\\n Walter Uebersax (Erstunterzeichner/in)', '', '', '']</td>\n",
       "      <td>['Mäder Gabriel', 'Schanz Simon', 'Stefan Neubert', 'Anke Würl', 'Martin Rüttimann', 'Walter Uebersax']</td>\n",
       "      <td>2</td>\n",
       "    </tr>\n",
       "    <tr>\n",
       "      <th>2</th>\n",
       "      <td>Zwischennutzung Stadthausareal</td>\n",
       "      <td>Postulat</td>\n",
       "      <td>Überwiesen</td>\n",
       "      <td>2011-09-07</td>\n",
       "      <td>[' Clesle Hanspeter']</td>\n",
       "      <td>['Clesle Hanspeter']</td>\n",
       "      <td>3</td>\n",
       "    </tr>\n",
       "  </tbody>\n",
       "</table>\n",
       "</div>"
      ],
      "text/plain": [
       "                                      Titel   Geschaeftsart         Status  \\\n",
       "0  Städtische Beteiligung an Unternehmungen        Postulat  Abgeschrieben   \n",
       "1                   ZKB Jubiläums-Dividende  Interpellation    Beantwortet   \n",
       "2            Zwischennutzung Stadthausareal        Postulat     Überwiesen   \n",
       "\n",
       "        Datum  \\\n",
       "0  2014-11-21   \n",
       "1  2019-11-06   \n",
       "2  2011-09-07   \n",
       "\n",
       "                                                                                                                                                                                                              Namen  \\\n",
       "0                                                                                                                                                                                                   [' Senn Mario']   \n",
       "1  [' Mäder Gabriel', ' Schanz Simon', '', 'Stefan Neubert (Mitunterzeichner/in)\\n Anke Würl (Mitunterzeichner/in)\\n Martin  Rüttimann (Mitunterzeichner/in)\\n Walter Uebersax (Erstunterzeichner/in)', '', '', '']   \n",
       "2                                                                                                                                                                                             [' Clesle Hanspeter']   \n",
       "\n",
       "                                                                                                 Namen-neu  \\\n",
       "0                                                                                           ['Senn Mario']   \n",
       "1  ['Mäder Gabriel', 'Schanz Simon', 'Stefan Neubert', 'Anke Würl', 'Martin Rüttimann', 'Walter Uebersax']   \n",
       "2                                                                                     ['Clesle Hanspeter']   \n",
       "\n",
       "   ID-Vorstoss  \n",
       "0            1  \n",
       "1            2  \n",
       "2            3  "
      ]
     },
     "execution_count": 4,
     "metadata": {},
     "output_type": "execute_result"
    }
   ],
   "source": [
    "path = \"All_Datas/daten_adliswil.csv\"\n",
    "df = pd.read_csv(path)\n",
    "df.head(3)"
   ]
  },
  {
   "cell_type": "markdown",
   "id": "676a3a19",
   "metadata": {},
   "source": [
    "Damit ich die beiden Listen später mergen kann, muss ich aus den Namenslisten in der Spalte Namen-neu des Vorstoss-Dataframes die einzelnen Elemente herausziehen. Ich will also eine separate Zeile für jede Person, die an einem Vorstoss beteilitgt war. Dazu mache ich eine Kopie des Dataframes, um nichts zu überschreiben. Danach zerteile ich mit der lambda-Funktion die Liste in einzelne Elemente. Und zwar immer dann, wenn ein Komma kommt. Mit der Funktion .explode teile ich die definierten Namen in der Liste schliesslich in einzelne Zeilen auf."
   ]
  },
  {
   "cell_type": "code",
   "execution_count": 5,
   "id": "1701330b",
   "metadata": {},
   "outputs": [
    {
     "data": {
      "text/html": [
       "<div>\n",
       "<style scoped>\n",
       "    .dataframe tbody tr th:only-of-type {\n",
       "        vertical-align: middle;\n",
       "    }\n",
       "\n",
       "    .dataframe tbody tr th {\n",
       "        vertical-align: top;\n",
       "    }\n",
       "\n",
       "    .dataframe thead th {\n",
       "        text-align: right;\n",
       "    }\n",
       "</style>\n",
       "<table border=\"1\" class=\"dataframe\">\n",
       "  <thead>\n",
       "    <tr style=\"text-align: right;\">\n",
       "      <th></th>\n",
       "      <th>Titel</th>\n",
       "      <th>Geschaeftsart</th>\n",
       "      <th>Status</th>\n",
       "      <th>Datum</th>\n",
       "      <th>Namen</th>\n",
       "      <th>Namen-neu</th>\n",
       "      <th>ID-Vorstoss</th>\n",
       "    </tr>\n",
       "  </thead>\n",
       "  <tbody>\n",
       "    <tr>\n",
       "      <th>0</th>\n",
       "      <td>Städtische Beteiligung an Unternehmungen</td>\n",
       "      <td>Postulat</td>\n",
       "      <td>Abgeschrieben</td>\n",
       "      <td>2014-11-21</td>\n",
       "      <td>[' Senn Mario']</td>\n",
       "      <td>['Senn Mario']</td>\n",
       "      <td>1</td>\n",
       "    </tr>\n",
       "    <tr>\n",
       "      <th>1</th>\n",
       "      <td>ZKB Jubiläums-Dividende</td>\n",
       "      <td>Interpellation</td>\n",
       "      <td>Beantwortet</td>\n",
       "      <td>2019-11-06</td>\n",
       "      <td>[' Mäder Gabriel', ' Schanz Simon', '', 'Stefan Neubert (Mitunterzeichner/in)\\n Anke Würl (Mitunterzeichner/in)\\n Martin  Rüttimann (Mitunterzeichner/in)\\n Walter Uebersax (Erstunterzeichner/in)', '', '', '']</td>\n",
       "      <td>['Mäder Gabriel'</td>\n",
       "      <td>2</td>\n",
       "    </tr>\n",
       "    <tr>\n",
       "      <th>1</th>\n",
       "      <td>ZKB Jubiläums-Dividende</td>\n",
       "      <td>Interpellation</td>\n",
       "      <td>Beantwortet</td>\n",
       "      <td>2019-11-06</td>\n",
       "      <td>[' Mäder Gabriel', ' Schanz Simon', '', 'Stefan Neubert (Mitunterzeichner/in)\\n Anke Würl (Mitunterzeichner/in)\\n Martin  Rüttimann (Mitunterzeichner/in)\\n Walter Uebersax (Erstunterzeichner/in)', '', '', '']</td>\n",
       "      <td>'Schanz Simon'</td>\n",
       "      <td>2</td>\n",
       "    </tr>\n",
       "  </tbody>\n",
       "</table>\n",
       "</div>"
      ],
      "text/plain": [
       "                                      Titel   Geschaeftsart         Status  \\\n",
       "0  Städtische Beteiligung an Unternehmungen        Postulat  Abgeschrieben   \n",
       "1                   ZKB Jubiläums-Dividende  Interpellation    Beantwortet   \n",
       "1                   ZKB Jubiläums-Dividende  Interpellation    Beantwortet   \n",
       "\n",
       "        Datum  \\\n",
       "0  2014-11-21   \n",
       "1  2019-11-06   \n",
       "1  2019-11-06   \n",
       "\n",
       "                                                                                                                                                                                                              Namen  \\\n",
       "0                                                                                                                                                                                                   [' Senn Mario']   \n",
       "1  [' Mäder Gabriel', ' Schanz Simon', '', 'Stefan Neubert (Mitunterzeichner/in)\\n Anke Würl (Mitunterzeichner/in)\\n Martin  Rüttimann (Mitunterzeichner/in)\\n Walter Uebersax (Erstunterzeichner/in)', '', '', '']   \n",
       "1  [' Mäder Gabriel', ' Schanz Simon', '', 'Stefan Neubert (Mitunterzeichner/in)\\n Anke Würl (Mitunterzeichner/in)\\n Martin  Rüttimann (Mitunterzeichner/in)\\n Walter Uebersax (Erstunterzeichner/in)', '', '', '']   \n",
       "\n",
       "          Namen-neu  ID-Vorstoss  \n",
       "0    ['Senn Mario']            1  \n",
       "1  ['Mäder Gabriel'            2  \n",
       "1    'Schanz Simon'            2  "
      ]
     },
     "execution_count": 5,
     "metadata": {},
     "output_type": "execute_result"
    }
   ],
   "source": [
    "df_vorstoesse = df.copy()\n",
    "df_vorstoesse['Namen-neu'] = df_vorstoesse['Namen-neu'].apply(lambda x: x if pd.isna(x) else x.split(','))\n",
    "df_vorstoesse = df_vorstoesse.explode('Namen-neu')\n",
    "df_vorstoesse.head(3)"
   ]
  },
  {
   "cell_type": "markdown",
   "id": "95c77847",
   "metadata": {},
   "source": [
    "Nun habe ich für alle Personen, die an einem Vorstoss beteiligt waren, eine einzelne Zeile. Um sie mit der Namensliste mergen zu können, müssen die Namen identisch sein. Ich muss also noch sämtliche Klammern und Anführungszeichen eliminieren. Das mache ich mit Hilfe von Regex."
   ]
  },
  {
   "cell_type": "code",
   "execution_count": 6,
   "id": "b91f089a",
   "metadata": {
    "scrolled": true
   },
   "outputs": [
    {
     "data": {
      "text/html": [
       "<div>\n",
       "<style scoped>\n",
       "    .dataframe tbody tr th:only-of-type {\n",
       "        vertical-align: middle;\n",
       "    }\n",
       "\n",
       "    .dataframe tbody tr th {\n",
       "        vertical-align: top;\n",
       "    }\n",
       "\n",
       "    .dataframe thead th {\n",
       "        text-align: right;\n",
       "    }\n",
       "</style>\n",
       "<table border=\"1\" class=\"dataframe\">\n",
       "  <thead>\n",
       "    <tr style=\"text-align: right;\">\n",
       "      <th></th>\n",
       "      <th>Titel</th>\n",
       "      <th>Geschaeftsart</th>\n",
       "      <th>Status</th>\n",
       "      <th>Datum</th>\n",
       "      <th>Namen</th>\n",
       "      <th>Namen-neu</th>\n",
       "      <th>ID-Vorstoss</th>\n",
       "    </tr>\n",
       "  </thead>\n",
       "  <tbody>\n",
       "    <tr>\n",
       "      <th>0</th>\n",
       "      <td>Städtische Beteiligung an Unternehmungen</td>\n",
       "      <td>Postulat</td>\n",
       "      <td>Abgeschrieben</td>\n",
       "      <td>2014-11-21</td>\n",
       "      <td>[' Senn Mario']</td>\n",
       "      <td>Senn Mario</td>\n",
       "      <td>1</td>\n",
       "    </tr>\n",
       "    <tr>\n",
       "      <th>1</th>\n",
       "      <td>ZKB Jubiläums-Dividende</td>\n",
       "      <td>Interpellation</td>\n",
       "      <td>Beantwortet</td>\n",
       "      <td>2019-11-06</td>\n",
       "      <td>[' Mäder Gabriel', ' Schanz Simon', '', 'Stefan Neubert (Mitunterzeichner/in)\\n Anke Würl (Mitunterzeichner/in)\\n Martin  Rüttimann (Mitunterzeichner/in)\\n Walter Uebersax (Erstunterzeichner/in)', '', '', '']</td>\n",
       "      <td>Mäder Gabriel</td>\n",
       "      <td>2</td>\n",
       "    </tr>\n",
       "    <tr>\n",
       "      <th>1</th>\n",
       "      <td>ZKB Jubiläums-Dividende</td>\n",
       "      <td>Interpellation</td>\n",
       "      <td>Beantwortet</td>\n",
       "      <td>2019-11-06</td>\n",
       "      <td>[' Mäder Gabriel', ' Schanz Simon', '', 'Stefan Neubert (Mitunterzeichner/in)\\n Anke Würl (Mitunterzeichner/in)\\n Martin  Rüttimann (Mitunterzeichner/in)\\n Walter Uebersax (Erstunterzeichner/in)', '', '', '']</td>\n",
       "      <td>Schanz Simon</td>\n",
       "      <td>2</td>\n",
       "    </tr>\n",
       "    <tr>\n",
       "      <th>1</th>\n",
       "      <td>ZKB Jubiläums-Dividende</td>\n",
       "      <td>Interpellation</td>\n",
       "      <td>Beantwortet</td>\n",
       "      <td>2019-11-06</td>\n",
       "      <td>[' Mäder Gabriel', ' Schanz Simon', '', 'Stefan Neubert (Mitunterzeichner/in)\\n Anke Würl (Mitunterzeichner/in)\\n Martin  Rüttimann (Mitunterzeichner/in)\\n Walter Uebersax (Erstunterzeichner/in)', '', '', '']</td>\n",
       "      <td>Stefan Neubert</td>\n",
       "      <td>2</td>\n",
       "    </tr>\n",
       "    <tr>\n",
       "      <th>1</th>\n",
       "      <td>ZKB Jubiläums-Dividende</td>\n",
       "      <td>Interpellation</td>\n",
       "      <td>Beantwortet</td>\n",
       "      <td>2019-11-06</td>\n",
       "      <td>[' Mäder Gabriel', ' Schanz Simon', '', 'Stefan Neubert (Mitunterzeichner/in)\\n Anke Würl (Mitunterzeichner/in)\\n Martin  Rüttimann (Mitunterzeichner/in)\\n Walter Uebersax (Erstunterzeichner/in)', '', '', '']</td>\n",
       "      <td>Anke Würl</td>\n",
       "      <td>2</td>\n",
       "    </tr>\n",
       "  </tbody>\n",
       "</table>\n",
       "</div>"
      ],
      "text/plain": [
       "                                      Titel   Geschaeftsart         Status  \\\n",
       "0  Städtische Beteiligung an Unternehmungen        Postulat  Abgeschrieben   \n",
       "1                   ZKB Jubiläums-Dividende  Interpellation    Beantwortet   \n",
       "1                   ZKB Jubiläums-Dividende  Interpellation    Beantwortet   \n",
       "1                   ZKB Jubiläums-Dividende  Interpellation    Beantwortet   \n",
       "1                   ZKB Jubiläums-Dividende  Interpellation    Beantwortet   \n",
       "\n",
       "        Datum  \\\n",
       "0  2014-11-21   \n",
       "1  2019-11-06   \n",
       "1  2019-11-06   \n",
       "1  2019-11-06   \n",
       "1  2019-11-06   \n",
       "\n",
       "                                                                                                                                                                                                              Namen  \\\n",
       "0                                                                                                                                                                                                   [' Senn Mario']   \n",
       "1  [' Mäder Gabriel', ' Schanz Simon', '', 'Stefan Neubert (Mitunterzeichner/in)\\n Anke Würl (Mitunterzeichner/in)\\n Martin  Rüttimann (Mitunterzeichner/in)\\n Walter Uebersax (Erstunterzeichner/in)', '', '', '']   \n",
       "1  [' Mäder Gabriel', ' Schanz Simon', '', 'Stefan Neubert (Mitunterzeichner/in)\\n Anke Würl (Mitunterzeichner/in)\\n Martin  Rüttimann (Mitunterzeichner/in)\\n Walter Uebersax (Erstunterzeichner/in)', '', '', '']   \n",
       "1  [' Mäder Gabriel', ' Schanz Simon', '', 'Stefan Neubert (Mitunterzeichner/in)\\n Anke Würl (Mitunterzeichner/in)\\n Martin  Rüttimann (Mitunterzeichner/in)\\n Walter Uebersax (Erstunterzeichner/in)', '', '', '']   \n",
       "1  [' Mäder Gabriel', ' Schanz Simon', '', 'Stefan Neubert (Mitunterzeichner/in)\\n Anke Würl (Mitunterzeichner/in)\\n Martin  Rüttimann (Mitunterzeichner/in)\\n Walter Uebersax (Erstunterzeichner/in)', '', '', '']   \n",
       "\n",
       "        Namen-neu  ID-Vorstoss  \n",
       "0      Senn Mario            1  \n",
       "1   Mäder Gabriel            2  \n",
       "1    Schanz Simon            2  \n",
       "1  Stefan Neubert            2  \n",
       "1       Anke Würl            2  "
      ]
     },
     "execution_count": 6,
     "metadata": {},
     "output_type": "execute_result"
    }
   ],
   "source": [
    "df_vorstoesse['Namen-neu'] = df_vorstoesse['Namen-neu'].str.replace(r\"[\\[\\]']|''\", '').str.strip()\n",
    "df_vorstoesse.head(5)"
   ]
  },
  {
   "cell_type": "markdown",
   "id": "69b285c4",
   "metadata": {},
   "source": [
    "Als nächstes will ich die beiden Listen so zusammenfügen, dass ich mit den IDs der Politiker und der Vorstösse arbeiten kann. So kann ich verhindern, dass sich Fehler einschleichen, falls zwei Politiker/innen gleich heissen. Ich merge die beiden Listen zur df_ID."
   ]
  },
  {
   "cell_type": "code",
   "execution_count": 7,
   "id": "559c9c62",
   "metadata": {},
   "outputs": [],
   "source": [
    "df_ID = df_vorstoesse.merge(df_parlamentarier, left_on='Namen-neu', right_on='Name', how='left')[['ID-Vorstoss', 'ID-Politiker']]"
   ]
  },
  {
   "cell_type": "code",
   "execution_count": 8,
   "id": "b38cca65",
   "metadata": {
    "scrolled": true
   },
   "outputs": [
    {
     "data": {
      "text/html": [
       "<div>\n",
       "<style scoped>\n",
       "    .dataframe tbody tr th:only-of-type {\n",
       "        vertical-align: middle;\n",
       "    }\n",
       "\n",
       "    .dataframe tbody tr th {\n",
       "        vertical-align: top;\n",
       "    }\n",
       "\n",
       "    .dataframe thead th {\n",
       "        text-align: right;\n",
       "    }\n",
       "</style>\n",
       "<table border=\"1\" class=\"dataframe\">\n",
       "  <thead>\n",
       "    <tr style=\"text-align: right;\">\n",
       "      <th></th>\n",
       "      <th>ID-Vorstoss</th>\n",
       "      <th>ID-Politiker</th>\n",
       "    </tr>\n",
       "  </thead>\n",
       "  <tbody>\n",
       "    <tr>\n",
       "      <th>0</th>\n",
       "      <td>1</td>\n",
       "      <td>77</td>\n",
       "    </tr>\n",
       "    <tr>\n",
       "      <th>1</th>\n",
       "      <td>2</td>\n",
       "      <td>54</td>\n",
       "    </tr>\n",
       "    <tr>\n",
       "      <th>2</th>\n",
       "      <td>2</td>\n",
       "      <td>73</td>\n",
       "    </tr>\n",
       "    <tr>\n",
       "      <th>3</th>\n",
       "      <td>2</td>\n",
       "      <td>81</td>\n",
       "    </tr>\n",
       "    <tr>\n",
       "      <th>4</th>\n",
       "      <td>2</td>\n",
       "      <td>6</td>\n",
       "    </tr>\n",
       "  </tbody>\n",
       "</table>\n",
       "</div>"
      ],
      "text/plain": [
       "   ID-Vorstoss  ID-Politiker\n",
       "0            1            77\n",
       "1            2            54\n",
       "2            2            73\n",
       "3            2            81\n",
       "4            2             6"
      ]
     },
     "execution_count": 8,
     "metadata": {},
     "output_type": "execute_result"
    }
   ],
   "source": [
    "df_ID.head(5)"
   ]
  },
  {
   "cell_type": "markdown",
   "id": "f6c9ac47",
   "metadata": {},
   "source": [
    "Jetzt habe ich die Grundlage geschaffen, um mit den Auswertungen beginnen zu konnen."
   ]
  },
  {
   "cell_type": "markdown",
   "id": "e290af76",
   "metadata": {},
   "source": [
    "## 1. Welche Parteien reichen am häufigsten Vorstösse ein?"
   ]
  },
  {
   "cell_type": "markdown",
   "id": "15138351",
   "metadata": {},
   "source": [
    "Als erstes merge ich die Dataframes df_ID und df_parlamentarier so, dass ich die Parteien pro Vorstoss sehe."
   ]
  },
  {
   "cell_type": "code",
   "execution_count": 9,
   "id": "61c7a345",
   "metadata": {
    "scrolled": true
   },
   "outputs": [
    {
     "data": {
      "text/html": [
       "<div>\n",
       "<style scoped>\n",
       "    .dataframe tbody tr th:only-of-type {\n",
       "        vertical-align: middle;\n",
       "    }\n",
       "\n",
       "    .dataframe tbody tr th {\n",
       "        vertical-align: top;\n",
       "    }\n",
       "\n",
       "    .dataframe thead th {\n",
       "        text-align: right;\n",
       "    }\n",
       "</style>\n",
       "<table border=\"1\" class=\"dataframe\">\n",
       "  <thead>\n",
       "    <tr style=\"text-align: right;\">\n",
       "      <th></th>\n",
       "      <th>Partei</th>\n",
       "      <th>ID-Vorstoss</th>\n",
       "    </tr>\n",
       "  </thead>\n",
       "  <tbody>\n",
       "    <tr>\n",
       "      <th>0</th>\n",
       "      <td>FDP</td>\n",
       "      <td>1</td>\n",
       "    </tr>\n",
       "    <tr>\n",
       "      <th>1</th>\n",
       "      <td>GLP</td>\n",
       "      <td>2</td>\n",
       "    </tr>\n",
       "    <tr>\n",
       "      <th>2</th>\n",
       "      <td>Die Mitte</td>\n",
       "      <td>2</td>\n",
       "    </tr>\n",
       "    <tr>\n",
       "      <th>3</th>\n",
       "      <td>GLP</td>\n",
       "      <td>2</td>\n",
       "    </tr>\n",
       "    <tr>\n",
       "      <th>4</th>\n",
       "      <td>Die Mitte</td>\n",
       "      <td>2</td>\n",
       "    </tr>\n",
       "    <tr>\n",
       "      <th>5</th>\n",
       "      <td>Die Mitte</td>\n",
       "      <td>2</td>\n",
       "    </tr>\n",
       "    <tr>\n",
       "      <th>6</th>\n",
       "      <td>Die Mitte</td>\n",
       "      <td>2</td>\n",
       "    </tr>\n",
       "    <tr>\n",
       "      <th>7</th>\n",
       "      <td>EVP</td>\n",
       "      <td>3</td>\n",
       "    </tr>\n",
       "    <tr>\n",
       "      <th>8</th>\n",
       "      <td>SP</td>\n",
       "      <td>4</td>\n",
       "    </tr>\n",
       "    <tr>\n",
       "      <th>9</th>\n",
       "      <td>SP</td>\n",
       "      <td>4</td>\n",
       "    </tr>\n",
       "  </tbody>\n",
       "</table>\n",
       "</div>"
      ],
      "text/plain": [
       "      Partei  ID-Vorstoss\n",
       "0        FDP            1\n",
       "1        GLP            2\n",
       "2  Die Mitte            2\n",
       "3        GLP            2\n",
       "4  Die Mitte            2\n",
       "5  Die Mitte            2\n",
       "6  Die Mitte            2\n",
       "7        EVP            3\n",
       "8         SP            4\n",
       "9         SP            4"
      ]
     },
     "execution_count": 9,
     "metadata": {},
     "output_type": "execute_result"
    }
   ],
   "source": [
    "df_parteien = df_ID.merge(df_parlamentarier, left_on='ID-Politiker', right_on='ID-Politiker', how='left')[['Partei','ID-Vorstoss']]\n",
    "df_parteien.head(10)"
   ]
  },
  {
   "cell_type": "markdown",
   "id": "883af851",
   "metadata": {},
   "source": [
    "Danach gruppiere ich die Daten und schaue, dass es dank der Funktion .nunique() die Partei nur einmal zählt, wenn mehrere Politiker/innen der selben Partei an einem Vorstoss beteiligt sind. Ich will hier ja wissen, welche Partei - und nicht welche Person - wie oft an einem Vorstoss beteiligt war. Technisch gesehen, zähle ich also eigentlich die Anzahl verschiedener Vorstoss-IDs, an denen eine Partei beteiligt war."
   ]
  },
  {
   "cell_type": "code",
   "execution_count": 10,
   "id": "ef4a04d1",
   "metadata": {
    "scrolled": true
   },
   "outputs": [
    {
     "data": {
      "text/html": [
       "<div>\n",
       "<style scoped>\n",
       "    .dataframe tbody tr th:only-of-type {\n",
       "        vertical-align: middle;\n",
       "    }\n",
       "\n",
       "    .dataframe tbody tr th {\n",
       "        vertical-align: top;\n",
       "    }\n",
       "\n",
       "    .dataframe thead th {\n",
       "        text-align: right;\n",
       "    }\n",
       "</style>\n",
       "<table border=\"1\" class=\"dataframe\">\n",
       "  <thead>\n",
       "    <tr style=\"text-align: right;\">\n",
       "      <th></th>\n",
       "      <th>Partei</th>\n",
       "      <th>Anzahl_Vorstoesse</th>\n",
       "    </tr>\n",
       "  </thead>\n",
       "  <tbody>\n",
       "    <tr>\n",
       "      <th>0</th>\n",
       "      <td>SP</td>\n",
       "      <td>60</td>\n",
       "    </tr>\n",
       "    <tr>\n",
       "      <th>1</th>\n",
       "      <td>FDP</td>\n",
       "      <td>56</td>\n",
       "    </tr>\n",
       "    <tr>\n",
       "      <th>2</th>\n",
       "      <td>FW</td>\n",
       "      <td>35</td>\n",
       "    </tr>\n",
       "    <tr>\n",
       "      <th>3</th>\n",
       "      <td>Die Mitte</td>\n",
       "      <td>30</td>\n",
       "    </tr>\n",
       "    <tr>\n",
       "      <th>4</th>\n",
       "      <td>Grüne</td>\n",
       "      <td>25</td>\n",
       "    </tr>\n",
       "    <tr>\n",
       "      <th>5</th>\n",
       "      <td>SVP</td>\n",
       "      <td>25</td>\n",
       "    </tr>\n",
       "    <tr>\n",
       "      <th>6</th>\n",
       "      <td>EVP</td>\n",
       "      <td>20</td>\n",
       "    </tr>\n",
       "    <tr>\n",
       "      <th>7</th>\n",
       "      <td>GLP</td>\n",
       "      <td>14</td>\n",
       "    </tr>\n",
       "  </tbody>\n",
       "</table>\n",
       "</div>"
      ],
      "text/plain": [
       "      Partei  Anzahl_Vorstoesse\n",
       "0         SP                 60\n",
       "1        FDP                 56\n",
       "2         FW                 35\n",
       "3  Die Mitte                 30\n",
       "4      Grüne                 25\n",
       "5        SVP                 25\n",
       "6        EVP                 20\n",
       "7        GLP                 14"
      ]
     },
     "execution_count": 10,
     "metadata": {},
     "output_type": "execute_result"
    }
   ],
   "source": [
    "partei_count = df_parteien.groupby('Partei')['ID-Vorstoss'].nunique().sort_values(ascending=False).reset_index()\n",
    "partei_count.columns = ['Partei', 'Anzahl_Vorstoesse']\n",
    "partei_count"
   ]
  },
  {
   "cell_type": "markdown",
   "id": "52af8e22",
   "metadata": {},
   "source": [
    "Nun will ich das Resultat in einem Säulendiagramm plotten. Dies auch gleich mit den entsprechenden Parteifarben."
   ]
  },
  {
   "cell_type": "code",
   "execution_count": 11,
   "id": "66ee10a4",
   "metadata": {},
   "outputs": [],
   "source": [
    "partei_farben = {\n",
    "    'SP': 'red',\n",
    "    'FDP': 'blue',\n",
    "    'FW': 'grey',\n",
    "    'Die Mitte': 'orange',\n",
    "    'SVP': 'yellow',\n",
    "    'EVP': 'gold',\n",
    "    'Grüne': 'lime',\n",
    "    'GLP': 'darkgreen'\n",
    "}"
   ]
  },
  {
   "cell_type": "code",
   "execution_count": 12,
   "id": "6e2f8af1",
   "metadata": {
    "scrolled": false
   },
   "outputs": [
    {
     "data": {
      "image/png": "[encoded data removed]",
      "text/plain": [
       "<Figure size 1000x500 with 1 Axes>"
      ]
     },
     "metadata": {},
     "output_type": "display_data"
    }
   ],
   "source": [
    "plt.figure(figsize=(10,5))\n",
    "plt.bar(partei_count['Partei'], partei_count['Anzahl_Vorstoesse'], color=[partei_farben[partei] for partei in partei_count['Partei']])\n",
    "plt.title('So oft waren die Parteien seit 2010 an einem Vorstoss beteiligt')\n",
    "plt.xlabel('Partei')\n",
    "plt.ylabel('Anzahl Vorstösse')\n",
    "plt.show()"
   ]
  },
  {
   "cell_type": "markdown",
   "id": "cd0e593e",
   "metadata": {},
   "source": [
    "SP und FDP waren also am meisten an Vorstössen beteiligt. Um das etwas einordnen zu können, will ich auch die Anzahl Sitze der Parteien im Parlament ausfindig machen. Diese sind unter www.adliswil.ch/wahlen ersichtlich. Ich habe aus diesen Daten das csv-File \"Parteistärke_Adliswil\" gemacht und importiere es nun."
   ]
  },
  {
   "cell_type": "code",
   "execution_count": 13,
   "id": "16cc8d0d",
   "metadata": {},
   "outputs": [
    {
     "data": {
      "text/html": [
       "<div>\n",
       "<style scoped>\n",
       "    .dataframe tbody tr th:only-of-type {\n",
       "        vertical-align: middle;\n",
       "    }\n",
       "\n",
       "    .dataframe tbody tr th {\n",
       "        vertical-align: top;\n",
       "    }\n",
       "\n",
       "    .dataframe thead th {\n",
       "        text-align: right;\n",
       "    }\n",
       "</style>\n",
       "<table border=\"1\" class=\"dataframe\">\n",
       "  <thead>\n",
       "    <tr style=\"text-align: right;\">\n",
       "      <th></th>\n",
       "      <th>Die Mitte</th>\n",
       "      <th>EVP</th>\n",
       "      <th>FDP</th>\n",
       "      <th>FW</th>\n",
       "      <th>GLP</th>\n",
       "      <th>Grüne</th>\n",
       "      <th>SP</th>\n",
       "      <th>SVP</th>\n",
       "    </tr>\n",
       "    <tr>\n",
       "      <th>Jahr</th>\n",
       "      <th></th>\n",
       "      <th></th>\n",
       "      <th></th>\n",
       "      <th></th>\n",
       "      <th></th>\n",
       "      <th></th>\n",
       "      <th></th>\n",
       "      <th></th>\n",
       "    </tr>\n",
       "  </thead>\n",
       "  <tbody>\n",
       "    <tr>\n",
       "      <th>2010</th>\n",
       "      <td>4</td>\n",
       "      <td>2</td>\n",
       "      <td>6</td>\n",
       "      <td>4</td>\n",
       "      <td>0</td>\n",
       "      <td>2</td>\n",
       "      <td>8</td>\n",
       "      <td>10</td>\n",
       "    </tr>\n",
       "    <tr>\n",
       "      <th>2014</th>\n",
       "      <td>5</td>\n",
       "      <td>2</td>\n",
       "      <td>6</td>\n",
       "      <td>4</td>\n",
       "      <td>0</td>\n",
       "      <td>2</td>\n",
       "      <td>7</td>\n",
       "      <td>10</td>\n",
       "    </tr>\n",
       "    <tr>\n",
       "      <th>2018</th>\n",
       "      <td>4</td>\n",
       "      <td>2</td>\n",
       "      <td>6</td>\n",
       "      <td>4</td>\n",
       "      <td>2</td>\n",
       "      <td>3</td>\n",
       "      <td>7</td>\n",
       "      <td>8</td>\n",
       "    </tr>\n",
       "    <tr>\n",
       "      <th>2022</th>\n",
       "      <td>4</td>\n",
       "      <td>2</td>\n",
       "      <td>6</td>\n",
       "      <td>4</td>\n",
       "      <td>3</td>\n",
       "      <td>4</td>\n",
       "      <td>6</td>\n",
       "      <td>7</td>\n",
       "    </tr>\n",
       "  </tbody>\n",
       "</table>\n",
       "</div>"
      ],
      "text/plain": [
       "      Die Mitte  EVP  FDP  FW  GLP  Grüne  SP  SVP\n",
       "Jahr                                              \n",
       "2010          4    2    6   4    0      2   8   10\n",
       "2014          5    2    6   4    0      2   7   10\n",
       "2018          4    2    6   4    2      3   7    8\n",
       "2022          4    2    6   4    3      4   6    7"
      ]
     },
     "execution_count": 13,
     "metadata": {},
     "output_type": "execute_result"
    }
   ],
   "source": [
    "path = \"All_Datas/Parteistärke_Adliswil.csv\"\n",
    "df_parteistaerke = pd.read_csv(path)\n",
    "df_parteistaerke.set_index('Jahr', inplace=True)\n",
    "df_parteistaerke.head(10)"
   ]
  },
  {
   "cell_type": "markdown",
   "id": "b3331146",
   "metadata": {},
   "source": [
    "Um es grafisch sinnvoll zeigen zu können, berechne ich die durchschnittliche Sitzzahl über die letzten 4 Legislaturen hinweg für jede Partei."
   ]
  },
  {
   "cell_type": "code",
   "execution_count": 14,
   "id": "7fb7a0a1",
   "metadata": {},
   "outputs": [
    {
     "data": {
      "text/plain": [
       "SVP          8.75\n",
       "SP           7.00\n",
       "FDP          6.00\n",
       "Die Mitte    4.25\n",
       "FW           4.00\n",
       "Grüne        2.75\n",
       "EVP          2.00\n",
       "GLP          1.25\n",
       "dtype: float64"
      ]
     },
     "execution_count": 14,
     "metadata": {},
     "output_type": "execute_result"
    }
   ],
   "source": [
    "parteistaerke_durchschnitt = df_parteistaerke.mean().sort_values(ascending=False)\n",
    "parteistaerke_durchschnitt"
   ]
  },
  {
   "cell_type": "markdown",
   "id": "ee6348ee",
   "metadata": {},
   "source": [
    "Und plotte das ganze ebenfalls als Balkendiagramm mit den Parteifarben."
   ]
  },
  {
   "cell_type": "code",
   "execution_count": 15,
   "id": "81ca336b",
   "metadata": {
    "scrolled": false
   },
   "outputs": [
    {
     "data": {
      "image/png": "[encoded data removed]",
      "text/plain": [
       "<Figure size 1000x500 with 1 Axes>"
      ]
     },
     "metadata": {},
     "output_type": "display_data"
    }
   ],
   "source": [
    "plt.figure(figsize=(10,5))\n",
    "plt.barh(parteistaerke_durchschnitt.index, parteistaerke_durchschnitt.values, color=[partei_farben[partei] for partei in parteistaerke_durchschnitt.index])\n",
    "plt.title('Durchschnittliche Anzahl Sitze der Parteien in den letzten 4 Legislaturen')\n",
    "plt.xlabel('Durchschnittliche Sitzzahl')\n",
    "plt.ylabel('Partei')\n",
    "plt.show()"
   ]
  },
  {
   "cell_type": "markdown",
   "id": "77ebf0d5",
   "metadata": {},
   "source": [
    "Ich möchte nun auf einen Blick erkennbar machen, dass die SVP zwar am meisten Sitze hat, jedoch vergleichsweise nur sehr wenig Vorstösse einreicht. Um beide Auswertungen in einer Grafik anzuzeigen, verwende ich subplots. "
   ]
  },
  {
   "cell_type": "code",
   "execution_count": 68,
   "id": "49051366",
   "metadata": {
    "scrolled": false
   },
   "outputs": [
    {
     "data": {
      "image/png": "[encoded data removed]",
      "text/plain": [
       "<Figure size 640x480 with 2 Axes>"
      ]
     },
     "metadata": {},
     "output_type": "display_data"
    }
   ],
   "source": [
    "# Zuerst definiere ich die Art der Grafik und die erste Achse - und sage, dass es noch eine zweite gibt.\n",
    "fig, ax1 = plt.subplots()\n",
    "\n",
    "# Hier definiere ich die Achse mit den durchschnittlichen Sitzen - es soll später eine Linie mit Markern sein\n",
    "# Weil ich auf den y-Achsen zwei verschieden grosse Werte habe, brauche ich unterschiedliche Skalen.\n",
    "ax2 = ax1.twinx()\n",
    "# Die Linie soll blau sein\n",
    "color = 'tab:blue'\n",
    "# Ich definiere den Titel der Achse\n",
    "ax2.set_ylabel('Durchschnittliche Sitze')\n",
    "# Nun definiere ich, was es mir eigentlich anzeigen soll - und dass ich einen blauen, runden Marker will\n",
    "ax2.plot(parteistaerke_durchschnitt.index, parteistaerke_durchschnitt, color=color, marker='o')\n",
    "# Hier definiere ich die Achse mit der Anzahl Vorstössen. Die Farben sollen den Parteien entsprechen\n",
    "color = [partei_farben[partei] for partei in partei_count['Partei']]\n",
    "# Ich definiere die Achsen\n",
    "ax1.set_xlabel('Partei')\n",
    "ax1.set_ylabel('Anzahl Vorstösse')\n",
    "# Und sage auch hier, was es mir eigentlich anzeigen soll. Die Anzahl Vorstösse nach Partei.\n",
    "ax1.bar(partei_count['Partei'], partei_count['Anzahl_Vorstoesse'], color=color)\n",
    "\n",
    "# Zum Schluss setze ich noch einen Titel\n",
    "plt.title('Vergleich zwischen Anzahl Vorstösse und durchschnittlichen Sitzen')\n",
    "plt.legend(['Durchschnittliche Sitzzahl'])\n",
    "plt.show()"
   ]
  },
  {
   "cell_type": "markdown",
   "id": "5b5e4669",
   "metadata": {},
   "source": [
    "Mich interessiert als Nächstes, wie oft eine Partei alleine einen Vorstoss einreicht und wie oft Politiker/innen aus mehreren Parteien an einem Vorstoss beteiligt sind. Ich erstelle dazu ein neues Dataframe mit den Spalten \"Einzeln\" und \"Zusammen\" und definiere als erstes einen For-Loop für die Parteien. Dazu reduziere ich mit .unique() zuerst sämtliche doppelte Partei-Vorstoss-Kombinationen. Danach schaue ich, ob die Vorstoss-ID nur einmal vorkommt. Das heisst nämlich, dass nur eine Partei beteiligt ist - wenn sie mehrmals vorkommt, sind noch andere Parteien vorhanden."
   ]
  },
  {
   "cell_type": "code",
   "execution_count": 17,
   "id": "a7aabae4",
   "metadata": {
    "scrolled": true
   },
   "outputs": [
    {
     "data": {
      "text/html": [
       "<div>\n",
       "<style scoped>\n",
       "    .dataframe tbody tr th:only-of-type {\n",
       "        vertical-align: middle;\n",
       "    }\n",
       "\n",
       "    .dataframe tbody tr th {\n",
       "        vertical-align: top;\n",
       "    }\n",
       "\n",
       "    .dataframe thead th {\n",
       "        text-align: right;\n",
       "    }\n",
       "</style>\n",
       "<table border=\"1\" class=\"dataframe\">\n",
       "  <thead>\n",
       "    <tr style=\"text-align: right;\">\n",
       "      <th></th>\n",
       "      <th>Partei</th>\n",
       "      <th>Einzeln</th>\n",
       "      <th>Mit anderen Parteien</th>\n",
       "    </tr>\n",
       "  </thead>\n",
       "  <tbody>\n",
       "    <tr>\n",
       "      <th>0</th>\n",
       "      <td>FDP</td>\n",
       "      <td>21</td>\n",
       "      <td>35</td>\n",
       "    </tr>\n",
       "    <tr>\n",
       "      <th>1</th>\n",
       "      <td>GLP</td>\n",
       "      <td>1</td>\n",
       "      <td>13</td>\n",
       "    </tr>\n",
       "    <tr>\n",
       "      <th>2</th>\n",
       "      <td>Die Mitte</td>\n",
       "      <td>7</td>\n",
       "      <td>23</td>\n",
       "    </tr>\n",
       "    <tr>\n",
       "      <th>3</th>\n",
       "      <td>EVP</td>\n",
       "      <td>7</td>\n",
       "      <td>13</td>\n",
       "    </tr>\n",
       "    <tr>\n",
       "      <th>4</th>\n",
       "      <td>SP</td>\n",
       "      <td>25</td>\n",
       "      <td>35</td>\n",
       "    </tr>\n",
       "    <tr>\n",
       "      <th>5</th>\n",
       "      <td>FW</td>\n",
       "      <td>5</td>\n",
       "      <td>30</td>\n",
       "    </tr>\n",
       "    <tr>\n",
       "      <th>6</th>\n",
       "      <td>SVP</td>\n",
       "      <td>7</td>\n",
       "      <td>18</td>\n",
       "    </tr>\n",
       "    <tr>\n",
       "      <th>7</th>\n",
       "      <td>Grüne</td>\n",
       "      <td>3</td>\n",
       "      <td>22</td>\n",
       "    </tr>\n",
       "  </tbody>\n",
       "</table>\n",
       "</div>"
      ],
      "text/plain": [
       "      Partei Einzeln Mit anderen Parteien\n",
       "0        FDP      21                   35\n",
       "1        GLP       1                   13\n",
       "2  Die Mitte       7                   23\n",
       "3        EVP       7                   13\n",
       "4         SP      25                   35\n",
       "5         FW       5                   30\n",
       "6        SVP       7                   18\n",
       "7      Grüne       3                   22"
      ]
     },
     "execution_count": 17,
     "metadata": {},
     "output_type": "execute_result"
    }
   ],
   "source": [
    "df_beteiligung_parteien = pd.DataFrame(columns=['Partei', 'Einzeln', 'Mit anderen Parteien'])\n",
    "\n",
    "for partei in df_parteien['Partei'].unique():\n",
    "    einzel = 0\n",
    "    zusammen = 0\n",
    "\n",
    "    for vorstoss_id in df_parteien[df_parteien['Partei'] == partei]['ID-Vorstoss'].unique():\n",
    "        if len(df_parteien[df_parteien['ID-Vorstoss'] == vorstoss_id]) == 1:\n",
    "            einzel += 1\n",
    "        else:\n",
    "            zusammen += 1\n",
    "\n",
    "    df_beteiligung_parteien = df_beteiligung_parteien.append({'Partei': partei, 'Einzeln': einzel, 'Mit anderen Parteien': zusammen}, ignore_index=True)\n",
    "\n",
    "df_beteiligung_parteien"
   ]
  },
  {
   "cell_type": "markdown",
   "id": "5f4238d3",
   "metadata": {},
   "source": [
    "Fazit des 1. Kapitels: Die SVP hat deutlich am meisten Sitze - reicht vergleichsweise aber nur sehr wenige Vorstösse ein. Anders als die SP und die FDP, die in Adliswil die meisten Vorstösse einreichen."
   ]
  },
  {
   "cell_type": "markdown",
   "id": "f409d927",
   "metadata": {},
   "source": [
    "## 2. Wie erfolgreich sind die Parteien mit ihren Vorstössen?"
   ]
  },
  {
   "cell_type": "markdown",
   "id": "f04bf8ee",
   "metadata": {},
   "source": [
    "Zuerst merge ich die Dataframes so zusammen, dass ich die Parteien, die Vorstoss-ID, den Status und die Geschäftsart habe."
   ]
  },
  {
   "cell_type": "code",
   "execution_count": 18,
   "id": "58b31f02",
   "metadata": {},
   "outputs": [
    {
     "data": {
      "text/html": [
       "<div>\n",
       "<style scoped>\n",
       "    .dataframe tbody tr th:only-of-type {\n",
       "        vertical-align: middle;\n",
       "    }\n",
       "\n",
       "    .dataframe tbody tr th {\n",
       "        vertical-align: top;\n",
       "    }\n",
       "\n",
       "    .dataframe thead th {\n",
       "        text-align: right;\n",
       "    }\n",
       "</style>\n",
       "<table border=\"1\" class=\"dataframe\">\n",
       "  <thead>\n",
       "    <tr style=\"text-align: right;\">\n",
       "      <th></th>\n",
       "      <th>ID-Vorstoss</th>\n",
       "      <th>Partei</th>\n",
       "      <th>Status</th>\n",
       "      <th>Geschaeftsart</th>\n",
       "    </tr>\n",
       "  </thead>\n",
       "  <tbody>\n",
       "    <tr>\n",
       "      <th>0</th>\n",
       "      <td>1</td>\n",
       "      <td>FDP</td>\n",
       "      <td>Abgeschrieben</td>\n",
       "      <td>Postulat</td>\n",
       "    </tr>\n",
       "    <tr>\n",
       "      <th>1</th>\n",
       "      <td>2</td>\n",
       "      <td>GLP</td>\n",
       "      <td>Beantwortet</td>\n",
       "      <td>Interpellation</td>\n",
       "    </tr>\n",
       "    <tr>\n",
       "      <th>2</th>\n",
       "      <td>2</td>\n",
       "      <td>Die Mitte</td>\n",
       "      <td>Beantwortet</td>\n",
       "      <td>Interpellation</td>\n",
       "    </tr>\n",
       "    <tr>\n",
       "      <th>37</th>\n",
       "      <td>3</td>\n",
       "      <td>EVP</td>\n",
       "      <td>Überwiesen</td>\n",
       "      <td>Postulat</td>\n",
       "    </tr>\n",
       "    <tr>\n",
       "      <th>38</th>\n",
       "      <td>4</td>\n",
       "      <td>SP</td>\n",
       "      <td>Abgelehnt</td>\n",
       "      <td>Postulat</td>\n",
       "    </tr>\n",
       "  </tbody>\n",
       "</table>\n",
       "</div>"
      ],
      "text/plain": [
       "    ID-Vorstoss     Partei         Status   Geschaeftsart\n",
       "0             1        FDP  Abgeschrieben        Postulat\n",
       "1             2        GLP    Beantwortet  Interpellation\n",
       "2             2  Die Mitte    Beantwortet  Interpellation\n",
       "37            3        EVP     Überwiesen        Postulat\n",
       "38            4         SP      Abgelehnt        Postulat"
      ]
     },
     "execution_count": 18,
     "metadata": {},
     "output_type": "execute_result"
    }
   ],
   "source": [
    "df_erfolgreich = df_ID.merge(df_parlamentarier, left_on='ID-Politiker', right_on='ID-Politiker', how='left')[['Partei','ID-Vorstoss']]\n",
    "df_erfolg_alle = df_erfolgreich.merge(df_vorstoesse, left_on = 'ID-Vorstoss', right_on='ID-Vorstoss', how='right')[['ID-Vorstoss','Partei','Status','Geschaeftsart']].drop_duplicates()\n",
    "df_erfolg_alle.head(5)"
   ]
  },
  {
   "cell_type": "markdown",
   "id": "8692cb9e",
   "metadata": {},
   "source": [
    "Um den Erfolg einer Partei mit einem Vorstoss zu messen, muss ich zuerst definieren, was überhaupt erfolgreich bedeutet und was nicht. Das mache ich über den Status der Geschäftsarten. Zuerst muss ich also mal schauen, was ich überhaupt für Geschäftsarten habe."
   ]
  },
  {
   "cell_type": "code",
   "execution_count": 19,
   "id": "855d9b2d",
   "metadata": {},
   "outputs": [
    {
     "data": {
      "text/plain": [
       "array(['Postulat', 'Interpellation', 'Anfrage', 'Motion',\n",
       "       'Dringliches Postulat', 'Parlamentarische Initiative'],\n",
       "      dtype=object)"
      ]
     },
     "execution_count": 19,
     "metadata": {},
     "output_type": "execute_result"
    }
   ],
   "source": [
    "df_vorstoesse['Geschaeftsart'].unique()"
   ]
  },
  {
   "cell_type": "markdown",
   "id": "04daabdd",
   "metadata": {},
   "source": [
    "Sicher ist, dass bei dieser Auswertung Interpellationen und Anfragen keine Rolle spielen. Über diese wird nicht abgestimmt - es kann also weder Erfolg noch Nicht-Erfolg geben. Deshalb beschränkt sich diese Auswertung auf Motionen, Postulate und parlamentarische Initiativen. Ich filtere meine Daten entsprechend."
   ]
  },
  {
   "cell_type": "code",
   "execution_count": 20,
   "id": "00d475bf",
   "metadata": {
    "scrolled": false
   },
   "outputs": [
    {
     "data": {
      "text/html": [
       "<div>\n",
       "<style scoped>\n",
       "    .dataframe tbody tr th:only-of-type {\n",
       "        vertical-align: middle;\n",
       "    }\n",
       "\n",
       "    .dataframe tbody tr th {\n",
       "        vertical-align: top;\n",
       "    }\n",
       "\n",
       "    .dataframe thead th {\n",
       "        text-align: right;\n",
       "    }\n",
       "</style>\n",
       "<table border=\"1\" class=\"dataframe\">\n",
       "  <thead>\n",
       "    <tr style=\"text-align: right;\">\n",
       "      <th></th>\n",
       "      <th>ID-Vorstoss</th>\n",
       "      <th>Partei</th>\n",
       "      <th>Status</th>\n",
       "      <th>Geschaeftsart</th>\n",
       "    </tr>\n",
       "  </thead>\n",
       "  <tbody>\n",
       "    <tr>\n",
       "      <th>0</th>\n",
       "      <td>1</td>\n",
       "      <td>FDP</td>\n",
       "      <td>Abgeschrieben</td>\n",
       "      <td>Postulat</td>\n",
       "    </tr>\n",
       "    <tr>\n",
       "      <th>37</th>\n",
       "      <td>3</td>\n",
       "      <td>EVP</td>\n",
       "      <td>Überwiesen</td>\n",
       "      <td>Postulat</td>\n",
       "    </tr>\n",
       "    <tr>\n",
       "      <th>38</th>\n",
       "      <td>4</td>\n",
       "      <td>SP</td>\n",
       "      <td>Abgelehnt</td>\n",
       "      <td>Postulat</td>\n",
       "    </tr>\n",
       "    <tr>\n",
       "      <th>84</th>\n",
       "      <td>9</td>\n",
       "      <td>FDP</td>\n",
       "      <td>Erledigt</td>\n",
       "      <td>Postulat</td>\n",
       "    </tr>\n",
       "    <tr>\n",
       "      <th>113</th>\n",
       "      <td>15</td>\n",
       "      <td>Grüne</td>\n",
       "      <td>Überwiesen</td>\n",
       "      <td>Postulat</td>\n",
       "    </tr>\n",
       "  </tbody>\n",
       "</table>\n",
       "</div>"
      ],
      "text/plain": [
       "     ID-Vorstoss Partei         Status Geschaeftsart\n",
       "0              1    FDP  Abgeschrieben      Postulat\n",
       "37             3    EVP     Überwiesen      Postulat\n",
       "38             4     SP      Abgelehnt      Postulat\n",
       "84             9    FDP       Erledigt      Postulat\n",
       "113           15  Grüne     Überwiesen      Postulat"
      ]
     },
     "execution_count": 20,
     "metadata": {},
     "output_type": "execute_result"
    }
   ],
   "source": [
    "df_erfolg = df_erfolg_alle[df_erfolg_alle['Geschaeftsart'].isin(['Motion', 'Postulat', 'Dringliches Postulat', 'Parlamentarische Initiative'])]\n",
    "df_erfolg.head(5)"
   ]
  },
  {
   "cell_type": "markdown",
   "id": "5ea91d2d",
   "metadata": {},
   "source": [
    "Um zu sehen, was die möglichen Status sind, zeige ich mir diese mal an."
   ]
  },
  {
   "cell_type": "code",
   "execution_count": 21,
   "id": "6d6a8493",
   "metadata": {},
   "outputs": [
    {
     "data": {
      "text/plain": [
       "array(['Abgeschrieben', 'Überwiesen', 'Abgelehnt', 'Erledigt',\n",
       "       'Nicht überwiesen', 'Nicht zustandegekommen', 'Beantwortet',\n",
       "       'Beschlossen', 'Teilweise überwiesen', nan], dtype=object)"
      ]
     },
     "execution_count": 21,
     "metadata": {},
     "output_type": "execute_result"
    }
   ],
   "source": [
    "df_erfolg['Status'].unique()"
   ]
  },
  {
   "cell_type": "markdown",
   "id": "bfd20135",
   "metadata": {},
   "source": [
    "Ich mache zwei Listen. Eine mit den Begriffen, die für Erfolg stehen, eine mit Begriffen, die für Nicht-Erfolg stehen."
   ]
  },
  {
   "cell_type": "code",
   "execution_count": 22,
   "id": "f13931f8",
   "metadata": {},
   "outputs": [],
   "source": [
    "erfolgreich = ['Abgeschrieben', 'Überwiesen', 'Beschlossen', 'Teilweise überwiesen','Teilweise überwiesen','Beantwortet']\n",
    "nicht_erfolgreich = ['Abgelehnt', 'Nicht überwiesen', 'Nicht zustandegekommen']"
   ]
  },
  {
   "cell_type": "markdown",
   "id": "65776448",
   "metadata": {},
   "source": [
    "Die Begriffe \"Erledigt\" und \"Pendent Legislative\" lasse ich bewusst weg, da er nichts über Efolg oder Nicht-Erfolg aussagt. "
   ]
  },
  {
   "cell_type": "code",
   "execution_count": 23,
   "id": "f9ff6820",
   "metadata": {},
   "outputs": [
    {
     "data": {
      "text/html": [
       "<div>\n",
       "<style scoped>\n",
       "    .dataframe tbody tr th:only-of-type {\n",
       "        vertical-align: middle;\n",
       "    }\n",
       "\n",
       "    .dataframe tbody tr th {\n",
       "        vertical-align: top;\n",
       "    }\n",
       "\n",
       "    .dataframe thead th {\n",
       "        text-align: right;\n",
       "    }\n",
       "</style>\n",
       "<table border=\"1\" class=\"dataframe\">\n",
       "  <thead>\n",
       "    <tr style=\"text-align: right;\">\n",
       "      <th></th>\n",
       "      <th>ID-Vorstoss</th>\n",
       "      <th>Partei</th>\n",
       "      <th>Status</th>\n",
       "      <th>Geschaeftsart</th>\n",
       "    </tr>\n",
       "  </thead>\n",
       "  <tbody>\n",
       "    <tr>\n",
       "      <th>0</th>\n",
       "      <td>1</td>\n",
       "      <td>FDP</td>\n",
       "      <td>Abgeschrieben</td>\n",
       "      <td>Postulat</td>\n",
       "    </tr>\n",
       "    <tr>\n",
       "      <th>37</th>\n",
       "      <td>3</td>\n",
       "      <td>EVP</td>\n",
       "      <td>Überwiesen</td>\n",
       "      <td>Postulat</td>\n",
       "    </tr>\n",
       "    <tr>\n",
       "      <th>38</th>\n",
       "      <td>4</td>\n",
       "      <td>SP</td>\n",
       "      <td>Abgelehnt</td>\n",
       "      <td>Postulat</td>\n",
       "    </tr>\n",
       "    <tr>\n",
       "      <th>113</th>\n",
       "      <td>15</td>\n",
       "      <td>Grüne</td>\n",
       "      <td>Überwiesen</td>\n",
       "      <td>Postulat</td>\n",
       "    </tr>\n",
       "    <tr>\n",
       "      <th>115</th>\n",
       "      <td>15</td>\n",
       "      <td>GLP</td>\n",
       "      <td>Überwiesen</td>\n",
       "      <td>Postulat</td>\n",
       "    </tr>\n",
       "  </tbody>\n",
       "</table>\n",
       "</div>"
      ],
      "text/plain": [
       "     ID-Vorstoss Partei         Status Geschaeftsart\n",
       "0              1    FDP  Abgeschrieben      Postulat\n",
       "37             3    EVP     Überwiesen      Postulat\n",
       "38             4     SP      Abgelehnt      Postulat\n",
       "113           15  Grüne     Überwiesen      Postulat\n",
       "115           15    GLP     Überwiesen      Postulat"
      ]
     },
     "execution_count": 23,
     "metadata": {},
     "output_type": "execute_result"
    }
   ],
   "source": [
    "df_erfolg_gefiltert = df_erfolg[-df_erfolg['Status'].isin(['Erledigt','Pendent Legislative'])]\n",
    "df_erfolg_gefiltert.head(5)"
   ]
  },
  {
   "cell_type": "markdown",
   "id": "91b1c5e0",
   "metadata": {},
   "source": [
    "Nun schaue ich, wie oft ein Begriff aus welcher Liste bei welcher Partei vorkommt."
   ]
  },
  {
   "cell_type": "code",
   "execution_count": 24,
   "id": "ca3f2dac",
   "metadata": {},
   "outputs": [
    {
     "data": {
      "text/html": [
       "<div>\n",
       "<style scoped>\n",
       "    .dataframe tbody tr th:only-of-type {\n",
       "        vertical-align: middle;\n",
       "    }\n",
       "\n",
       "    .dataframe tbody tr th {\n",
       "        vertical-align: top;\n",
       "    }\n",
       "\n",
       "    .dataframe thead th {\n",
       "        text-align: right;\n",
       "    }\n",
       "</style>\n",
       "<table border=\"1\" class=\"dataframe\">\n",
       "  <thead>\n",
       "    <tr style=\"text-align: right;\">\n",
       "      <th></th>\n",
       "      <th>Partei</th>\n",
       "      <th>Erfolgreich</th>\n",
       "      <th>Nicht Erfolgreich</th>\n",
       "    </tr>\n",
       "  </thead>\n",
       "  <tbody>\n",
       "    <tr>\n",
       "      <th>0</th>\n",
       "      <td>Die Mitte</td>\n",
       "      <td>5</td>\n",
       "      <td>6</td>\n",
       "    </tr>\n",
       "    <tr>\n",
       "      <th>1</th>\n",
       "      <td>EVP</td>\n",
       "      <td>10</td>\n",
       "      <td>1</td>\n",
       "    </tr>\n",
       "    <tr>\n",
       "      <th>2</th>\n",
       "      <td>FDP</td>\n",
       "      <td>15</td>\n",
       "      <td>4</td>\n",
       "    </tr>\n",
       "    <tr>\n",
       "      <th>3</th>\n",
       "      <td>FW</td>\n",
       "      <td>12</td>\n",
       "      <td>2</td>\n",
       "    </tr>\n",
       "    <tr>\n",
       "      <th>4</th>\n",
       "      <td>GLP</td>\n",
       "      <td>2</td>\n",
       "      <td>2</td>\n",
       "    </tr>\n",
       "    <tr>\n",
       "      <th>5</th>\n",
       "      <td>Grüne</td>\n",
       "      <td>5</td>\n",
       "      <td>7</td>\n",
       "    </tr>\n",
       "    <tr>\n",
       "      <th>6</th>\n",
       "      <td>SP</td>\n",
       "      <td>3</td>\n",
       "      <td>15</td>\n",
       "    </tr>\n",
       "    <tr>\n",
       "      <th>7</th>\n",
       "      <td>SVP</td>\n",
       "      <td>12</td>\n",
       "      <td>0</td>\n",
       "    </tr>\n",
       "  </tbody>\n",
       "</table>\n",
       "</div>"
      ],
      "text/plain": [
       "      Partei  Erfolgreich  Nicht Erfolgreich\n",
       "0  Die Mitte            5                  6\n",
       "1        EVP           10                  1\n",
       "2        FDP           15                  4\n",
       "3         FW           12                  2\n",
       "4        GLP            2                  2\n",
       "5      Grüne            5                  7\n",
       "6         SP            3                 15\n",
       "7        SVP           12                  0"
      ]
     },
     "execution_count": 24,
     "metadata": {},
     "output_type": "execute_result"
    }
   ],
   "source": [
    "df_erfolg_gefiltert = df_erfolg_gefiltert.copy()\n",
    "df_erfolg_gefiltert['Erfolgreich'] = df_erfolg_gefiltert['Status'].isin(erfolgreich)\n",
    "df_erfolg_gefiltert['Nicht Erfolgreich'] = df_erfolg_gefiltert['Status'].isin(nicht_erfolgreich)\n",
    "df_parteien_erfolg = df_erfolg_gefiltert.groupby('Partei')[['Erfolgreich', 'Nicht Erfolgreich']].sum().reset_index()\n",
    "df_parteien_erfolg"
   ]
  },
  {
   "cell_type": "markdown",
   "id": "48ac3178",
   "metadata": {},
   "source": [
    "Um das Ganze grafisch darstellen zu können, rechne ich zuerst den Erfolgsanteil in Prozenten aus."
   ]
  },
  {
   "cell_type": "code",
   "execution_count": 25,
   "id": "ede79289",
   "metadata": {},
   "outputs": [
    {
     "data": {
      "text/html": [
       "<div>\n",
       "<style scoped>\n",
       "    .dataframe tbody tr th:only-of-type {\n",
       "        vertical-align: middle;\n",
       "    }\n",
       "\n",
       "    .dataframe tbody tr th {\n",
       "        vertical-align: top;\n",
       "    }\n",
       "\n",
       "    .dataframe thead th {\n",
       "        text-align: right;\n",
       "    }\n",
       "</style>\n",
       "<table border=\"1\" class=\"dataframe\">\n",
       "  <thead>\n",
       "    <tr style=\"text-align: right;\">\n",
       "      <th></th>\n",
       "      <th>Partei</th>\n",
       "      <th>Erfolgreich</th>\n",
       "      <th>Nicht Erfolgreich</th>\n",
       "      <th>Erfolgsrate</th>\n",
       "    </tr>\n",
       "  </thead>\n",
       "  <tbody>\n",
       "    <tr>\n",
       "      <th>6</th>\n",
       "      <td>SP</td>\n",
       "      <td>3</td>\n",
       "      <td>15</td>\n",
       "      <td>16.666667</td>\n",
       "    </tr>\n",
       "    <tr>\n",
       "      <th>5</th>\n",
       "      <td>Grüne</td>\n",
       "      <td>5</td>\n",
       "      <td>7</td>\n",
       "      <td>41.666667</td>\n",
       "    </tr>\n",
       "    <tr>\n",
       "      <th>0</th>\n",
       "      <td>Die Mitte</td>\n",
       "      <td>5</td>\n",
       "      <td>6</td>\n",
       "      <td>45.454545</td>\n",
       "    </tr>\n",
       "    <tr>\n",
       "      <th>4</th>\n",
       "      <td>GLP</td>\n",
       "      <td>2</td>\n",
       "      <td>2</td>\n",
       "      <td>50.000000</td>\n",
       "    </tr>\n",
       "    <tr>\n",
       "      <th>2</th>\n",
       "      <td>FDP</td>\n",
       "      <td>15</td>\n",
       "      <td>4</td>\n",
       "      <td>78.947368</td>\n",
       "    </tr>\n",
       "    <tr>\n",
       "      <th>3</th>\n",
       "      <td>FW</td>\n",
       "      <td>12</td>\n",
       "      <td>2</td>\n",
       "      <td>85.714286</td>\n",
       "    </tr>\n",
       "    <tr>\n",
       "      <th>1</th>\n",
       "      <td>EVP</td>\n",
       "      <td>10</td>\n",
       "      <td>1</td>\n",
       "      <td>90.909091</td>\n",
       "    </tr>\n",
       "    <tr>\n",
       "      <th>7</th>\n",
       "      <td>SVP</td>\n",
       "      <td>12</td>\n",
       "      <td>0</td>\n",
       "      <td>100.000000</td>\n",
       "    </tr>\n",
       "  </tbody>\n",
       "</table>\n",
       "</div>"
      ],
      "text/plain": [
       "      Partei  Erfolgreich  Nicht Erfolgreich  Erfolgsrate\n",
       "6         SP            3                 15    16.666667\n",
       "5      Grüne            5                  7    41.666667\n",
       "0  Die Mitte            5                  6    45.454545\n",
       "4        GLP            2                  2    50.000000\n",
       "2        FDP           15                  4    78.947368\n",
       "3         FW           12                  2    85.714286\n",
       "1        EVP           10                  1    90.909091\n",
       "7        SVP           12                  0   100.000000"
      ]
     },
     "execution_count": 25,
     "metadata": {},
     "output_type": "execute_result"
    }
   ],
   "source": [
    "df_parteien_erfolg['Erfolgsrate'] = (df_parteien_erfolg['Erfolgreich'] / (df_parteien_erfolg['Erfolgreich'] + df_parteien_erfolg['Nicht Erfolgreich'])) * 100\n",
    "df_parteien_erfolg = df_parteien_erfolg.sort_values(by='Erfolgsrate', ascending=True)\n",
    "df_parteien_erfolg"
   ]
  },
  {
   "cell_type": "markdown",
   "id": "e4b26d2c",
   "metadata": {},
   "source": [
    "Und plotte anschliessend die Erfolgsrate der Parteien in einem Balkendiagramm."
   ]
  },
  {
   "cell_type": "code",
   "execution_count": 80,
   "id": "81a20156",
   "metadata": {
    "scrolled": false
   },
   "outputs": [
    {
     "data": {
      "image/png": "[encoded data removed]",
      "text/plain": [
       "<Figure size 800x400 with 1 Axes>"
      ]
     },
     "metadata": {},
     "output_type": "display_data"
    }
   ],
   "source": [
    "plt.figure(figsize=(8, 4))\n",
    "color = [partei_farben[partei] for partei in df_parteien_erfolg['Partei']]\n",
    "plt.barh(df_parteien_erfolg['Partei'], df_parteien_erfolg['Erfolgsrate'], color=color, height=0.5)\n",
    "plt.title('Erfolgsrate der Parteien')\n",
    "plt.xlabel('Erfolgsrate in Prozent')\n",
    "plt.ylabel('Partei')\n",
    "plt.show()"
   ]
  },
  {
   "cell_type": "markdown",
   "id": "4e9a7628",
   "metadata": {},
   "source": [
    "Die SP bringt kaum einen Vorstoss durch, die SVP jeden. Woran liegt das? Öffenen wir den Blick auf die Lager im Parlament. Dazu bündle ich die Parteien zu drei Lagern."
   ]
  },
  {
   "cell_type": "code",
   "execution_count": 27,
   "id": "77bfc86a",
   "metadata": {},
   "outputs": [],
   "source": [
    "bürgerlich = ['SVP','FDP','FW']\n",
    "mitte = ['Die Mitte', 'GLP','EVP']\n",
    "links = ['SP','Grüne']"
   ]
  },
  {
   "cell_type": "markdown",
   "id": "1eff1147",
   "metadata": {},
   "source": [
    "Ich erstelle eine neue Spalte in der Kopie von df_erfolg_gefiltert und ordne den Parteien mit der lamda Methode ein Lager zu. "
   ]
  },
  {
   "cell_type": "code",
   "execution_count": 28,
   "id": "1bb3054e",
   "metadata": {
    "scrolled": false
   },
   "outputs": [
    {
     "data": {
      "text/html": [
       "<div>\n",
       "<style scoped>\n",
       "    .dataframe tbody tr th:only-of-type {\n",
       "        vertical-align: middle;\n",
       "    }\n",
       "\n",
       "    .dataframe tbody tr th {\n",
       "        vertical-align: top;\n",
       "    }\n",
       "\n",
       "    .dataframe thead th {\n",
       "        text-align: right;\n",
       "    }\n",
       "</style>\n",
       "<table border=\"1\" class=\"dataframe\">\n",
       "  <thead>\n",
       "    <tr style=\"text-align: right;\">\n",
       "      <th></th>\n",
       "      <th>ID-Vorstoss</th>\n",
       "      <th>Partei</th>\n",
       "      <th>Status</th>\n",
       "      <th>Geschaeftsart</th>\n",
       "      <th>Erfolgreich</th>\n",
       "      <th>Nicht Erfolgreich</th>\n",
       "      <th>Lager</th>\n",
       "    </tr>\n",
       "  </thead>\n",
       "  <tbody>\n",
       "    <tr>\n",
       "      <th>0</th>\n",
       "      <td>1</td>\n",
       "      <td>FDP</td>\n",
       "      <td>Abgeschrieben</td>\n",
       "      <td>Postulat</td>\n",
       "      <td>True</td>\n",
       "      <td>False</td>\n",
       "      <td>bürgerlich</td>\n",
       "    </tr>\n",
       "    <tr>\n",
       "      <th>37</th>\n",
       "      <td>3</td>\n",
       "      <td>EVP</td>\n",
       "      <td>Überwiesen</td>\n",
       "      <td>Postulat</td>\n",
       "      <td>True</td>\n",
       "      <td>False</td>\n",
       "      <td>mitte</td>\n",
       "    </tr>\n",
       "    <tr>\n",
       "      <th>38</th>\n",
       "      <td>4</td>\n",
       "      <td>SP</td>\n",
       "      <td>Abgelehnt</td>\n",
       "      <td>Postulat</td>\n",
       "      <td>False</td>\n",
       "      <td>True</td>\n",
       "      <td>links</td>\n",
       "    </tr>\n",
       "    <tr>\n",
       "      <th>113</th>\n",
       "      <td>15</td>\n",
       "      <td>Grüne</td>\n",
       "      <td>Überwiesen</td>\n",
       "      <td>Postulat</td>\n",
       "      <td>True</td>\n",
       "      <td>False</td>\n",
       "      <td>links</td>\n",
       "    </tr>\n",
       "    <tr>\n",
       "      <th>115</th>\n",
       "      <td>15</td>\n",
       "      <td>GLP</td>\n",
       "      <td>Überwiesen</td>\n",
       "      <td>Postulat</td>\n",
       "      <td>True</td>\n",
       "      <td>False</td>\n",
       "      <td>mitte</td>\n",
       "    </tr>\n",
       "  </tbody>\n",
       "</table>\n",
       "</div>"
      ],
      "text/plain": [
       "     ID-Vorstoss Partei         Status Geschaeftsart  Erfolgreich  \\\n",
       "0              1    FDP  Abgeschrieben      Postulat         True   \n",
       "37             3    EVP     Überwiesen      Postulat         True   \n",
       "38             4     SP      Abgelehnt      Postulat        False   \n",
       "113           15  Grüne     Überwiesen      Postulat         True   \n",
       "115           15    GLP     Überwiesen      Postulat         True   \n",
       "\n",
       "     Nicht Erfolgreich       Lager  \n",
       "0                False  bürgerlich  \n",
       "37               False       mitte  \n",
       "38                True       links  \n",
       "113              False       links  \n",
       "115              False       mitte  "
      ]
     },
     "execution_count": 28,
     "metadata": {},
     "output_type": "execute_result"
    }
   ],
   "source": [
    "df_erfolg_gefiltert = df_erfolg_gefiltert.copy()\n",
    "df_erfolg_gefiltert['Lager'] = df_erfolg_gefiltert['Partei'].apply(lambda x: 'bürgerlich' if x in bürgerlich else ('mitte' if x in mitte else 'links'))\n",
    "df_erfolg_gefiltert.head(5)"
   ]
  },
  {
   "cell_type": "markdown",
   "id": "37cc6a56",
   "metadata": {},
   "source": [
    "Nun will ich sehen, wie erfolgreich welches Lager ist."
   ]
  },
  {
   "cell_type": "code",
   "execution_count": 29,
   "id": "17246147",
   "metadata": {},
   "outputs": [
    {
     "data": {
      "text/html": [
       "<div>\n",
       "<style scoped>\n",
       "    .dataframe tbody tr th:only-of-type {\n",
       "        vertical-align: middle;\n",
       "    }\n",
       "\n",
       "    .dataframe tbody tr th {\n",
       "        vertical-align: top;\n",
       "    }\n",
       "\n",
       "    .dataframe thead th {\n",
       "        text-align: right;\n",
       "    }\n",
       "</style>\n",
       "<table border=\"1\" class=\"dataframe\">\n",
       "  <thead>\n",
       "    <tr style=\"text-align: right;\">\n",
       "      <th></th>\n",
       "      <th>Lager</th>\n",
       "      <th>Erfolgreich</th>\n",
       "      <th>Nicht Erfolgreich</th>\n",
       "    </tr>\n",
       "  </thead>\n",
       "  <tbody>\n",
       "    <tr>\n",
       "      <th>0</th>\n",
       "      <td>bürgerlich</td>\n",
       "      <td>39</td>\n",
       "      <td>6</td>\n",
       "    </tr>\n",
       "    <tr>\n",
       "      <th>1</th>\n",
       "      <td>links</td>\n",
       "      <td>8</td>\n",
       "      <td>22</td>\n",
       "    </tr>\n",
       "    <tr>\n",
       "      <th>2</th>\n",
       "      <td>mitte</td>\n",
       "      <td>17</td>\n",
       "      <td>9</td>\n",
       "    </tr>\n",
       "  </tbody>\n",
       "</table>\n",
       "</div>"
      ],
      "text/plain": [
       "        Lager  Erfolgreich  Nicht Erfolgreich\n",
       "0  bürgerlich           39                  6\n",
       "1       links            8                 22\n",
       "2       mitte           17                  9"
      ]
     },
     "execution_count": 29,
     "metadata": {},
     "output_type": "execute_result"
    }
   ],
   "source": [
    "df_lager_erfolg = df_erfolg_gefiltert.groupby('Lager')[['Erfolgreich', 'Nicht Erfolgreich']].sum().reset_index()\n",
    "df_lager_erfolg"
   ]
  },
  {
   "cell_type": "markdown",
   "id": "b4cb4d1a",
   "metadata": {},
   "source": [
    "Das stelle ich noch grafisch in einem Säulendiagramm dar, geordnet von plitisch links nach politisch rechts."
   ]
  },
  {
   "cell_type": "code",
   "execution_count": 30,
   "id": "577a1f0b",
   "metadata": {
    "scrolled": false
   },
   "outputs": [
    {
     "data": {
      "image/png": "[encoded data removed]",
      "text/plain": [
       "<Figure size 640x480 with 1 Axes>"
      ]
     },
     "metadata": {},
     "output_type": "display_data"
    }
   ],
   "source": [
    "ax = df_lager_erfolg.set_index('Lager').loc[['links', 'mitte', 'bürgerlich']].plot(kind='bar', color=['green', 'red'])\n",
    "plt.title('Anzahl Vorstösse nach Erfolg und Lager')\n",
    "plt.xlabel('Lager')\n",
    "plt.ylabel('Anzahl')\n",
    "plt.legend([\"Erfolgreich\", \"Nicht Erfolgreich\"])\n",
    "plt.show()"
   ]
  },
  {
   "cell_type": "markdown",
   "id": "5796dd0c",
   "metadata": {},
   "source": [
    "Die Grafik zeigt gut, dass die Ausgangsthese stimmt: Die Bürgerlichen dominieren in Adliswil, die linken Parteien haben wenig Chancen mit ihren Vorstössen. Als Letztes bringe ich nun noch das Sitzverhältnis ins Spiel. Ich greife dazu auf ein csv-File zurück, das die Sitzverteilung nach Lagern zeigt. Dieses habe ich ebenfalls anhand der Seite www.adliswil.ch/wahlen erstellt."
   ]
  },
  {
   "cell_type": "code",
   "execution_count": 31,
   "id": "1bb2037b",
   "metadata": {
    "scrolled": true
   },
   "outputs": [
    {
     "data": {
      "text/html": [
       "<div>\n",
       "<style scoped>\n",
       "    .dataframe tbody tr th:only-of-type {\n",
       "        vertical-align: middle;\n",
       "    }\n",
       "\n",
       "    .dataframe tbody tr th {\n",
       "        vertical-align: top;\n",
       "    }\n",
       "\n",
       "    .dataframe thead th {\n",
       "        text-align: right;\n",
       "    }\n",
       "</style>\n",
       "<table border=\"1\" class=\"dataframe\">\n",
       "  <thead>\n",
       "    <tr style=\"text-align: right;\">\n",
       "      <th></th>\n",
       "      <th>links</th>\n",
       "      <th>mitte</th>\n",
       "      <th>bürgerlich</th>\n",
       "    </tr>\n",
       "    <tr>\n",
       "      <th>Jahr</th>\n",
       "      <th></th>\n",
       "      <th></th>\n",
       "      <th></th>\n",
       "    </tr>\n",
       "  </thead>\n",
       "  <tbody>\n",
       "    <tr>\n",
       "      <th>2010</th>\n",
       "      <td>10</td>\n",
       "      <td>6</td>\n",
       "      <td>20</td>\n",
       "    </tr>\n",
       "    <tr>\n",
       "      <th>2014</th>\n",
       "      <td>9</td>\n",
       "      <td>7</td>\n",
       "      <td>20</td>\n",
       "    </tr>\n",
       "    <tr>\n",
       "      <th>2018</th>\n",
       "      <td>10</td>\n",
       "      <td>8</td>\n",
       "      <td>18</td>\n",
       "    </tr>\n",
       "    <tr>\n",
       "      <th>2022</th>\n",
       "      <td>10</td>\n",
       "      <td>9</td>\n",
       "      <td>17</td>\n",
       "    </tr>\n",
       "  </tbody>\n",
       "</table>\n",
       "</div>"
      ],
      "text/plain": [
       "      links  mitte  bürgerlich\n",
       "Jahr                          \n",
       "2010     10      6          20\n",
       "2014      9      7          20\n",
       "2018     10      8          18\n",
       "2022     10      9          17"
      ]
     },
     "execution_count": 31,
     "metadata": {},
     "output_type": "execute_result"
    }
   ],
   "source": [
    "path = \"All_Datas/Lagerstärke_Adliswil.csv\"\n",
    "df_lagerstaerke = pd.read_csv(path)\n",
    "df_lagerstaerke.set_index('Jahr', inplace=True)\n",
    "df_lagerstaerke.head(10)"
   ]
  },
  {
   "cell_type": "markdown",
   "id": "a3997b1a",
   "metadata": {},
   "source": [
    "Diese Tabelle sagt eigentlich schon alles. Dennoch plotte ich es in ein Liniendiagram, das zeigt, dass die bürgerlichen Parteien in den letzten 4 Legislaturen unantastbar sind."
   ]
  },
  {
   "cell_type": "code",
   "execution_count": 32,
   "id": "b5f79b8d",
   "metadata": {},
   "outputs": [
    {
     "data": {
      "image/png": "[encoded data removed]",
      "text/plain": [
       "<Figure size 1000x600 with 1 Axes>"
      ]
     },
     "metadata": {},
     "output_type": "display_data"
    }
   ],
   "source": [
    "plt.figure(figsize=(10, 6))\n",
    "# Hier mache ich ein Liniendiagramm für jedes Lager\n",
    "plt.plot(df_lagerstaerke.index, df_lagerstaerke['links'], marker='o', label='links', color='red')\n",
    "plt.plot(df_lagerstaerke.index, df_lagerstaerke['mitte'], marker='o', label='mitte', color='orange')\n",
    "plt.plot(df_lagerstaerke.index, df_lagerstaerke['bürgerlich'], marker='o', label='bürgerlich', color='blue')\n",
    "\n",
    "# Und füge Titel und Beschriftungen hinzu\n",
    "plt.title('Stärke der politischen Lager über die Jahre')\n",
    "plt.xlabel('Jahr')\n",
    "plt.ylabel('Anzahl Sitze')\n",
    "plt.legend(title='Lager')\n",
    "plt.xticks(df_lagerstaerke.index)\n",
    "plt.grid(True)\n",
    "plt.show()"
   ]
  },
  {
   "cell_type": "markdown",
   "id": "315ea188",
   "metadata": {},
   "source": [
    "Fazit Kapitel 2: Die SVP reicht zwar im Verhältnis zur Sitzzahl am wenigsten Vorstösse ein - bringt diese aber öfter als alle anderen Parteien durchs Parlament. Ein Grund dafür ist sicherlich, dass die bürgerlichen Parteien im gesamten Zeitraum der Auswertung die Mehrheit im Parlament hatte."
   ]
  },
  {
   "cell_type": "markdown",
   "id": "6934c490",
   "metadata": {},
   "source": [
    "## 3. Welches sind die \"fleissigsten\" Parlamentarier/innen - und wie erfolgreich sind sie?"
   ]
  },
  {
   "cell_type": "markdown",
   "id": "5d9dfe10",
   "metadata": {},
   "source": [
    "Um herauszufinden, wer die Parlamentarier/innen mit den meisten Vorstössen sind, merge ich zuerst das Dataframe df_ID mit df_parlamentarier zum neuen Dataframe df_namen"
   ]
  },
  {
   "cell_type": "code",
   "execution_count": 33,
   "id": "a15cd6ae",
   "metadata": {
    "scrolled": true
   },
   "outputs": [
    {
     "data": {
      "text/html": [
       "<div>\n",
       "<style scoped>\n",
       "    .dataframe tbody tr th:only-of-type {\n",
       "        vertical-align: middle;\n",
       "    }\n",
       "\n",
       "    .dataframe tbody tr th {\n",
       "        vertical-align: top;\n",
       "    }\n",
       "\n",
       "    .dataframe thead th {\n",
       "        text-align: right;\n",
       "    }\n",
       "</style>\n",
       "<table border=\"1\" class=\"dataframe\">\n",
       "  <thead>\n",
       "    <tr style=\"text-align: right;\">\n",
       "      <th></th>\n",
       "      <th>Name</th>\n",
       "      <th>Partei</th>\n",
       "      <th>ID-Vorstoss</th>\n",
       "    </tr>\n",
       "  </thead>\n",
       "  <tbody>\n",
       "    <tr>\n",
       "      <th>0</th>\n",
       "      <td>Senn Mario</td>\n",
       "      <td>FDP</td>\n",
       "      <td>1</td>\n",
       "    </tr>\n",
       "    <tr>\n",
       "      <th>1</th>\n",
       "      <td>Mäder Gabriel</td>\n",
       "      <td>GLP</td>\n",
       "      <td>2</td>\n",
       "    </tr>\n",
       "    <tr>\n",
       "      <th>2</th>\n",
       "      <td>Schanz Simon</td>\n",
       "      <td>Die Mitte</td>\n",
       "      <td>2</td>\n",
       "    </tr>\n",
       "  </tbody>\n",
       "</table>\n",
       "</div>"
      ],
      "text/plain": [
       "            Name     Partei  ID-Vorstoss\n",
       "0     Senn Mario        FDP            1\n",
       "1  Mäder Gabriel        GLP            2\n",
       "2   Schanz Simon  Die Mitte            2"
      ]
     },
     "execution_count": 33,
     "metadata": {},
     "output_type": "execute_result"
    }
   ],
   "source": [
    "df_namen = df_ID.merge(df_parlamentarier, left_on='ID-Politiker', right_on='ID-Politiker', how='left')[['Name','Partei','ID-Vorstoss']]\n",
    "df_namen.head(3)"
   ]
  },
  {
   "cell_type": "markdown",
   "id": "ca98b9f4",
   "metadata": {},
   "source": [
    "Ich zähle mit value_counts() wie oft welcher Name vorkommt. Aus dem Resultat mache ich gleich wieder ein Dataframe. Das ist nötig für einen Trick, den ich gleich bei der Grafik anwenden will."
   ]
  },
  {
   "cell_type": "code",
   "execution_count": 34,
   "id": "45fcc50f",
   "metadata": {},
   "outputs": [
    {
     "data": {
      "text/html": [
       "<div>\n",
       "<style scoped>\n",
       "    .dataframe tbody tr th:only-of-type {\n",
       "        vertical-align: middle;\n",
       "    }\n",
       "\n",
       "    .dataframe tbody tr th {\n",
       "        vertical-align: top;\n",
       "    }\n",
       "\n",
       "    .dataframe thead th {\n",
       "        text-align: right;\n",
       "    }\n",
       "</style>\n",
       "<table border=\"1\" class=\"dataframe\">\n",
       "  <thead>\n",
       "    <tr style=\"text-align: right;\">\n",
       "      <th></th>\n",
       "      <th>Name</th>\n",
       "      <th>Count</th>\n",
       "    </tr>\n",
       "  </thead>\n",
       "  <tbody>\n",
       "    <tr>\n",
       "      <th>0</th>\n",
       "      <td>Senn Mario</td>\n",
       "      <td>30</td>\n",
       "    </tr>\n",
       "    <tr>\n",
       "      <th>1</th>\n",
       "      <td>Corrodi Bernie</td>\n",
       "      <td>20</td>\n",
       "    </tr>\n",
       "    <tr>\n",
       "      <th>2</th>\n",
       "      <td>Liedtke Wolfgang</td>\n",
       "      <td>20</td>\n",
       "    </tr>\n",
       "  </tbody>\n",
       "</table>\n",
       "</div>"
      ],
      "text/plain": [
       "               Name  Count\n",
       "0        Senn Mario     30\n",
       "1    Corrodi Bernie     20\n",
       "2  Liedtke Wolfgang     20"
      ]
     },
     "execution_count": 34,
     "metadata": {},
     "output_type": "execute_result"
    }
   ],
   "source": [
    "df_namen_count = df_namen['Name'].value_counts().reset_index()\n",
    "df_namen_count = df_namen_count.rename(columns={'index': 'Name', 'Name': 'Count'})\n",
    "df_namen_count.head(3)"
   ]
  },
  {
   "cell_type": "markdown",
   "id": "71a89478",
   "metadata": {},
   "source": [
    "Ich will nun nämlich nicht nur die 25 Politiker/innen mit den meisten Vorstössen in einem Säulendiagramm darstellen, sondern die einzelnen Säulen der Parlamentarier/innen in der Farbe ihrer Partei erscheinen lassen."
   ]
  },
  {
   "cell_type": "code",
   "execution_count": 35,
   "id": "af23b505",
   "metadata": {
    "scrolled": false
   },
   "outputs": [
    {
     "data": {
      "image/png": "[encoded data removed]",
      "text/plain": [
       "<Figure size 640x480 with 1 Axes>"
      ]
     },
     "metadata": {},
     "output_type": "display_data"
    }
   ],
   "source": [
    "# Dafür definiere ich zuerst die Farben (analog Kapitel 1, wo ich sie bereits definiert habe)\n",
    "farben = [partei_farben[df_namen.loc[df_namen['Name'] == name, 'Partei'].iloc[0]] for name in df_namen_count['Name']]\n",
    "\n",
    "# Danach plotte ich die Grafik und nehme noch die Legende raus (da dort sonst \"Name\" steht, was irritiert)\n",
    "ax = df_namen_count.head(25).plot(kind='bar', color=farben, x='Name', y='Count')\n",
    "ax.legend().set_visible(False)\n",
    "ax.set_title('Diese 25 Politiker/innen haben die meisten Vorstösse eingereicht')\n",
    "\n",
    "plt.show()"
   ]
  },
  {
   "cell_type": "markdown",
   "id": "510107d1",
   "metadata": {},
   "source": [
    "Viel Vorstösse einreichen kann jeder. Nun will ich wissen, welche Politker/in auch am häufigsten Erfolg mit den Vorstössen hatte. Dafür erstelle ich als erstes ein neues Dataframe mit weiteren Spalten aus dem Dataframe \"df_vorstoesse\"."
   ]
  },
  {
   "cell_type": "code",
   "execution_count": 36,
   "id": "fba54ac9",
   "metadata": {},
   "outputs": [
    {
     "data": {
      "text/html": [
       "<div>\n",
       "<style scoped>\n",
       "    .dataframe tbody tr th:only-of-type {\n",
       "        vertical-align: middle;\n",
       "    }\n",
       "\n",
       "    .dataframe tbody tr th {\n",
       "        vertical-align: top;\n",
       "    }\n",
       "\n",
       "    .dataframe thead th {\n",
       "        text-align: right;\n",
       "    }\n",
       "</style>\n",
       "<table border=\"1\" class=\"dataframe\">\n",
       "  <thead>\n",
       "    <tr style=\"text-align: right;\">\n",
       "      <th></th>\n",
       "      <th>ID-Vorstoss</th>\n",
       "      <th>Name</th>\n",
       "      <th>Partei</th>\n",
       "      <th>Status</th>\n",
       "      <th>Geschaeftsart</th>\n",
       "    </tr>\n",
       "  </thead>\n",
       "  <tbody>\n",
       "    <tr>\n",
       "      <th>0</th>\n",
       "      <td>1</td>\n",
       "      <td>Senn Mario</td>\n",
       "      <td>FDP</td>\n",
       "      <td>Abgeschrieben</td>\n",
       "      <td>Postulat</td>\n",
       "    </tr>\n",
       "    <tr>\n",
       "      <th>1</th>\n",
       "      <td>2</td>\n",
       "      <td>Mäder Gabriel</td>\n",
       "      <td>GLP</td>\n",
       "      <td>Beantwortet</td>\n",
       "      <td>Interpellation</td>\n",
       "    </tr>\n",
       "    <tr>\n",
       "      <th>2</th>\n",
       "      <td>2</td>\n",
       "      <td>Schanz Simon</td>\n",
       "      <td>Die Mitte</td>\n",
       "      <td>Beantwortet</td>\n",
       "      <td>Interpellation</td>\n",
       "    </tr>\n",
       "    <tr>\n",
       "      <th>3</th>\n",
       "      <td>2</td>\n",
       "      <td>Stefan Neubert</td>\n",
       "      <td>GLP</td>\n",
       "      <td>Beantwortet</td>\n",
       "      <td>Interpellation</td>\n",
       "    </tr>\n",
       "    <tr>\n",
       "      <th>4</th>\n",
       "      <td>2</td>\n",
       "      <td>Anke Würl</td>\n",
       "      <td>Die Mitte</td>\n",
       "      <td>Beantwortet</td>\n",
       "      <td>Interpellation</td>\n",
       "    </tr>\n",
       "  </tbody>\n",
       "</table>\n",
       "</div>"
      ],
      "text/plain": [
       "   ID-Vorstoss            Name     Partei         Status   Geschaeftsart\n",
       "0            1      Senn Mario        FDP  Abgeschrieben        Postulat\n",
       "1            2   Mäder Gabriel        GLP    Beantwortet  Interpellation\n",
       "2            2    Schanz Simon  Die Mitte    Beantwortet  Interpellation\n",
       "3            2  Stefan Neubert        GLP    Beantwortet  Interpellation\n",
       "4            2       Anke Würl  Die Mitte    Beantwortet  Interpellation"
      ]
     },
     "execution_count": 36,
     "metadata": {},
     "output_type": "execute_result"
    }
   ],
   "source": [
    "df_erfolg_namen = df_namen.merge(df_vorstoesse, left_on = 'ID-Vorstoss', right_on='ID-Vorstoss', how='right')[['ID-Vorstoss','Name','Partei','Status','Geschaeftsart']].drop_duplicates()\n",
    "df_erfolg_namen.head(5)"
   ]
  },
  {
   "cell_type": "markdown",
   "id": "d29578a5",
   "metadata": {},
   "source": [
    "Wie schon im Code von Kapitel 2 filtere ich auch hier zuerst die unnötigen Geschäftsarten raus."
   ]
  },
  {
   "cell_type": "code",
   "execution_count": 37,
   "id": "80d447bd",
   "metadata": {},
   "outputs": [
    {
     "data": {
      "text/html": [
       "<div>\n",
       "<style scoped>\n",
       "    .dataframe tbody tr th:only-of-type {\n",
       "        vertical-align: middle;\n",
       "    }\n",
       "\n",
       "    .dataframe tbody tr th {\n",
       "        vertical-align: top;\n",
       "    }\n",
       "\n",
       "    .dataframe thead th {\n",
       "        text-align: right;\n",
       "    }\n",
       "</style>\n",
       "<table border=\"1\" class=\"dataframe\">\n",
       "  <thead>\n",
       "    <tr style=\"text-align: right;\">\n",
       "      <th></th>\n",
       "      <th>ID-Vorstoss</th>\n",
       "      <th>Name</th>\n",
       "      <th>Partei</th>\n",
       "      <th>Status</th>\n",
       "      <th>Geschaeftsart</th>\n",
       "    </tr>\n",
       "  </thead>\n",
       "  <tbody>\n",
       "    <tr>\n",
       "      <th>0</th>\n",
       "      <td>1</td>\n",
       "      <td>Senn Mario</td>\n",
       "      <td>FDP</td>\n",
       "      <td>Abgeschrieben</td>\n",
       "      <td>Postulat</td>\n",
       "    </tr>\n",
       "    <tr>\n",
       "      <th>37</th>\n",
       "      <td>3</td>\n",
       "      <td>Clesle Hanspeter</td>\n",
       "      <td>EVP</td>\n",
       "      <td>Überwiesen</td>\n",
       "      <td>Postulat</td>\n",
       "    </tr>\n",
       "    <tr>\n",
       "      <th>38</th>\n",
       "      <td>4</td>\n",
       "      <td>Muthuthamby Kannathasan</td>\n",
       "      <td>SP</td>\n",
       "      <td>Abgelehnt</td>\n",
       "      <td>Postulat</td>\n",
       "    </tr>\n",
       "    <tr>\n",
       "      <th>39</th>\n",
       "      <td>4</td>\n",
       "      <td>Acar Sait</td>\n",
       "      <td>SP</td>\n",
       "      <td>Abgelehnt</td>\n",
       "      <td>Postulat</td>\n",
       "    </tr>\n",
       "    <tr>\n",
       "      <th>84</th>\n",
       "      <td>9</td>\n",
       "      <td>Senn Mario</td>\n",
       "      <td>FDP</td>\n",
       "      <td>Erledigt</td>\n",
       "      <td>Postulat</td>\n",
       "    </tr>\n",
       "  </tbody>\n",
       "</table>\n",
       "</div>"
      ],
      "text/plain": [
       "    ID-Vorstoss                     Name Partei         Status Geschaeftsart\n",
       "0             1               Senn Mario    FDP  Abgeschrieben      Postulat\n",
       "37            3         Clesle Hanspeter    EVP     Überwiesen      Postulat\n",
       "38            4  Muthuthamby Kannathasan     SP      Abgelehnt      Postulat\n",
       "39            4                Acar Sait     SP      Abgelehnt      Postulat\n",
       "84            9               Senn Mario    FDP       Erledigt      Postulat"
      ]
     },
     "execution_count": 37,
     "metadata": {},
     "output_type": "execute_result"
    }
   ],
   "source": [
    "df_erfolg_namen_filt = df_erfolg_namen[df_erfolg_namen['Geschaeftsart'].isin(['Motion', 'Postulat', 'Dringliches Postulat', 'Parlamentarische Initiative'])]\n",
    "df_erfolg_namen_filt.head(5)"
   ]
  },
  {
   "cell_type": "markdown",
   "id": "ae61552d",
   "metadata": {},
   "source": [
    "Danach teile ich den Status wie in Kapitel 2 auch hier in erfolgreich und nicht erfolgreich ein. Anstatt nach Partei weise ich hier das Ergebnis aber nach Namen aus."
   ]
  },
  {
   "cell_type": "code",
   "execution_count": 38,
   "id": "4f720e80",
   "metadata": {},
   "outputs": [
    {
     "data": {
      "text/html": [
       "<div>\n",
       "<style scoped>\n",
       "    .dataframe tbody tr th:only-of-type {\n",
       "        vertical-align: middle;\n",
       "    }\n",
       "\n",
       "    .dataframe tbody tr th {\n",
       "        vertical-align: top;\n",
       "    }\n",
       "\n",
       "    .dataframe thead th {\n",
       "        text-align: right;\n",
       "    }\n",
       "</style>\n",
       "<table border=\"1\" class=\"dataframe\">\n",
       "  <thead>\n",
       "    <tr style=\"text-align: right;\">\n",
       "      <th></th>\n",
       "      <th>Name</th>\n",
       "      <th>Erfolgreich</th>\n",
       "      <th>Nicht Erfolgreich</th>\n",
       "    </tr>\n",
       "  </thead>\n",
       "  <tbody>\n",
       "    <tr>\n",
       "      <th>0</th>\n",
       "      <td>Acar Sait</td>\n",
       "      <td>0</td>\n",
       "      <td>5</td>\n",
       "    </tr>\n",
       "    <tr>\n",
       "      <th>1</th>\n",
       "      <td>Andrea Blümli</td>\n",
       "      <td>0</td>\n",
       "      <td>1</td>\n",
       "    </tr>\n",
       "    <tr>\n",
       "      <th>2</th>\n",
       "      <td>Angelika Sulser</td>\n",
       "      <td>0</td>\n",
       "      <td>3</td>\n",
       "    </tr>\n",
       "  </tbody>\n",
       "</table>\n",
       "</div>"
      ],
      "text/plain": [
       "              Name  Erfolgreich  Nicht Erfolgreich\n",
       "0        Acar Sait            0                  5\n",
       "1    Andrea Blümli            0                  1\n",
       "2  Angelika Sulser            0                  3"
      ]
     },
     "execution_count": 38,
     "metadata": {},
     "output_type": "execute_result"
    }
   ],
   "source": [
    "df_erfolg_namen_filt = df_erfolg_namen_filt.copy()\n",
    "df_erfolg_namen_filt['Erfolgreich'] = df_erfolg_namen_filt['Status'].isin(erfolgreich)\n",
    "df_erfolg_namen_filt['Nicht Erfolgreich'] = df_erfolg_namen_filt['Status'].isin(nicht_erfolgreich)\n",
    "df_namen_erfolg = df_erfolg_namen_filt.groupby('Name')[['Erfolgreich', 'Nicht Erfolgreich']].sum().reset_index()\n",
    "df_namen_erfolg.head(3)"
   ]
  },
  {
   "cell_type": "markdown",
   "id": "3b736a8f",
   "metadata": {},
   "source": [
    "Nun will ich sehen, wer am meisten Vorstösse erfolgreich durchgebracht hat. Ich rechne dazu die erfolgreichen minus die nicht erfolgreichen Vorstösse. Das Resultat lasse ich in der Spalte \"Erfolg kumuliert\" anzeigen."
   ]
  },
  {
   "cell_type": "code",
   "execution_count": 39,
   "id": "4bfa9cd7",
   "metadata": {},
   "outputs": [
    {
     "data": {
      "text/html": [
       "<div>\n",
       "<style scoped>\n",
       "    .dataframe tbody tr th:only-of-type {\n",
       "        vertical-align: middle;\n",
       "    }\n",
       "\n",
       "    .dataframe tbody tr th {\n",
       "        vertical-align: top;\n",
       "    }\n",
       "\n",
       "    .dataframe thead th {\n",
       "        text-align: right;\n",
       "    }\n",
       "</style>\n",
       "<table border=\"1\" class=\"dataframe\">\n",
       "  <thead>\n",
       "    <tr style=\"text-align: right;\">\n",
       "      <th></th>\n",
       "      <th>Name</th>\n",
       "      <th>Erfolgreich</th>\n",
       "      <th>Nicht Erfolgreich</th>\n",
       "      <th>Erfolg kumuliert</th>\n",
       "    </tr>\n",
       "  </thead>\n",
       "  <tbody>\n",
       "    <tr>\n",
       "      <th>37</th>\n",
       "      <td>Senn Mario</td>\n",
       "      <td>11</td>\n",
       "      <td>1</td>\n",
       "      <td>10</td>\n",
       "    </tr>\n",
       "    <tr>\n",
       "      <th>17</th>\n",
       "      <td>Frei Daniel</td>\n",
       "      <td>10</td>\n",
       "      <td>0</td>\n",
       "      <td>10</td>\n",
       "    </tr>\n",
       "    <tr>\n",
       "      <th>9</th>\n",
       "      <td>Clesle Hanspeter</td>\n",
       "      <td>6</td>\n",
       "      <td>0</td>\n",
       "      <td>6</td>\n",
       "    </tr>\n",
       "    <tr>\n",
       "      <th>4</th>\n",
       "      <td>Baldegger Harry</td>\n",
       "      <td>5</td>\n",
       "      <td>0</td>\n",
       "      <td>5</td>\n",
       "    </tr>\n",
       "    <tr>\n",
       "      <th>28</th>\n",
       "      <td>Melliger Heinz</td>\n",
       "      <td>4</td>\n",
       "      <td>0</td>\n",
       "      <td>4</td>\n",
       "    </tr>\n",
       "  </tbody>\n",
       "</table>\n",
       "</div>"
      ],
      "text/plain": [
       "                Name  Erfolgreich  Nicht Erfolgreich  Erfolg kumuliert\n",
       "37        Senn Mario           11                  1                10\n",
       "17       Frei Daniel           10                  0                10\n",
       "9   Clesle Hanspeter            6                  0                 6\n",
       "4    Baldegger Harry            5                  0                 5\n",
       "28    Melliger Heinz            4                  0                 4"
      ]
     },
     "execution_count": 39,
     "metadata": {},
     "output_type": "execute_result"
    }
   ],
   "source": [
    "df_namen_erfolg['Erfolg kumuliert'] = df_namen_erfolg['Erfolgreich'] - df_namen_erfolg['Nicht Erfolgreich']\n",
    "df_namen_erfolg.sort_values(by='Erfolg kumuliert', ascending=False).head(5)"
   ]
  },
  {
   "cell_type": "markdown",
   "id": "1e09ede5",
   "metadata": {},
   "source": [
    "Ich will nun sehen, wie erfolgreich die 25 Politiker/innen mit den meisten Vorstössen sind. Die Reihenfolge soll in der nächsten Grafik also die selbe sein, wie jene oben. Ich merge dazu den Erfolg kumuliert mit der Spalte Count aus dem obigen Dataframe zusammen."
   ]
  },
  {
   "cell_type": "code",
   "execution_count": 40,
   "id": "09c73106",
   "metadata": {
    "scrolled": true
   },
   "outputs": [
    {
     "data": {
      "text/html": [
       "<div>\n",
       "<style scoped>\n",
       "    .dataframe tbody tr th:only-of-type {\n",
       "        vertical-align: middle;\n",
       "    }\n",
       "\n",
       "    .dataframe tbody tr th {\n",
       "        vertical-align: top;\n",
       "    }\n",
       "\n",
       "    .dataframe thead th {\n",
       "        text-align: right;\n",
       "    }\n",
       "</style>\n",
       "<table border=\"1\" class=\"dataframe\">\n",
       "  <thead>\n",
       "    <tr style=\"text-align: right;\">\n",
       "      <th></th>\n",
       "      <th>Name</th>\n",
       "      <th>Erfolg kumuliert</th>\n",
       "      <th>Count</th>\n",
       "    </tr>\n",
       "  </thead>\n",
       "  <tbody>\n",
       "    <tr>\n",
       "      <th>0</th>\n",
       "      <td>Acar Sait</td>\n",
       "      <td>-5</td>\n",
       "      <td>17</td>\n",
       "    </tr>\n",
       "    <tr>\n",
       "      <th>1</th>\n",
       "      <td>Andrea Blümli</td>\n",
       "      <td>-1</td>\n",
       "      <td>2</td>\n",
       "    </tr>\n",
       "    <tr>\n",
       "      <th>2</th>\n",
       "      <td>Angelika Sulser</td>\n",
       "      <td>-3</td>\n",
       "      <td>7</td>\n",
       "    </tr>\n",
       "    <tr>\n",
       "      <th>3</th>\n",
       "      <td>Anke Würl</td>\n",
       "      <td>-4</td>\n",
       "      <td>11</td>\n",
       "    </tr>\n",
       "    <tr>\n",
       "      <th>4</th>\n",
       "      <td>Baldegger Harry</td>\n",
       "      <td>5</td>\n",
       "      <td>14</td>\n",
       "    </tr>\n",
       "  </tbody>\n",
       "</table>\n",
       "</div>"
      ],
      "text/plain": [
       "              Name  Erfolg kumuliert  Count\n",
       "0        Acar Sait                -5     17\n",
       "1    Andrea Blümli                -1      2\n",
       "2  Angelika Sulser                -3      7\n",
       "3        Anke Würl                -4     11\n",
       "4  Baldegger Harry                 5     14"
      ]
     },
     "execution_count": 40,
     "metadata": {},
     "output_type": "execute_result"
    }
   ],
   "source": [
    "df_erfolg_final = df_namen_count.merge(df_namen_erfolg, left_on = 'Name', right_on='Name', how='right')[['Name','Erfolg kumuliert','Count']].drop_duplicates()\n",
    "df_erfolg_final.head()"
   ]
  },
  {
   "cell_type": "markdown",
   "id": "1756f202",
   "metadata": {},
   "source": [
    "Nun kann ich eine Grafik erstellen, die sich an der Reihenfolge von Count orientiert aber die Werte von Erfolg kumuliert ausgibt. Danach definiere ich die x-Achse nochmals neu, sodass mir nicht die Anzahl \"Counts\" ausgewiesen wird, sondern die entsprechenden Namen."
   ]
  },
  {
   "cell_type": "code",
   "execution_count": 41,
   "id": "6b032b93",
   "metadata": {},
   "outputs": [
    {
     "data": {
      "image/png": "[encoded data removed]",
      "text/plain": [
       "<Figure size 640x480 with 1 Axes>"
      ]
     },
     "metadata": {},
     "output_type": "display_data"
    }
   ],
   "source": [
    "df_erfolg_final_sorted = df_erfolg_final.sort_values(by='Count', ascending=False).head(25)\n",
    "# Ich definiere die Farben, die Achse und die Beschriftungen\n",
    "farben = [partei_farben[df_namen.loc[df_namen['Name'] == name, 'Partei'].iloc[0]] for name in df_erfolg_final_sorted['Name']]\n",
    "ax = df_erfolg_final_sorted.plot(kind='bar', color=farben, x='Count', y='Erfolg kumuliert', legend=False)\n",
    "ax.set_xticklabels(df_erfolg_final_sorted['Name'])\n",
    "ax.set_title('So erfolgreich sind die 25 Politiker/innen mit den meisten Vorstössen')\n",
    "plt.show()"
   ]
  },
  {
   "cell_type": "markdown",
   "id": "cc50cdf0",
   "metadata": {},
   "source": [
    "Fazit Kapitel 3: Es zeigt sich auch hier: die linken Politiker/innen haben kaum Chancen, mit ihren Vorstössen durchzukommen. Auch wenn viele von ihnen zu den Spitzenreitern an Anzahl Vorstössen gehören."
   ]
  },
  {
   "cell_type": "markdown",
   "id": "4e86fa16",
   "metadata": {},
   "source": [
    "## 4. Wie viele Vorstösse stammen von Männern und wie viele von Frauen?"
   ]
  },
  {
   "cell_type": "markdown",
   "id": "ae23f60a",
   "metadata": {},
   "source": [
    "Ich füge als erstes die Dataframes df_ID und df_parlamentarier zusammen. Ich lasse mir Parteien und Geschlecht anzeigen."
   ]
  },
  {
   "cell_type": "code",
   "execution_count": 42,
   "id": "496f80a6",
   "metadata": {
    "scrolled": true
   },
   "outputs": [
    {
     "data": {
      "text/html": [
       "<div>\n",
       "<style scoped>\n",
       "    .dataframe tbody tr th:only-of-type {\n",
       "        vertical-align: middle;\n",
       "    }\n",
       "\n",
       "    .dataframe tbody tr th {\n",
       "        vertical-align: top;\n",
       "    }\n",
       "\n",
       "    .dataframe thead th {\n",
       "        text-align: right;\n",
       "    }\n",
       "</style>\n",
       "<table border=\"1\" class=\"dataframe\">\n",
       "  <thead>\n",
       "    <tr style=\"text-align: right;\">\n",
       "      <th></th>\n",
       "      <th>Partei</th>\n",
       "      <th>Geschlecht</th>\n",
       "      <th>ID-Vorstoss</th>\n",
       "    </tr>\n",
       "  </thead>\n",
       "  <tbody>\n",
       "    <tr>\n",
       "      <th>0</th>\n",
       "      <td>FDP</td>\n",
       "      <td>m</td>\n",
       "      <td>1</td>\n",
       "    </tr>\n",
       "    <tr>\n",
       "      <th>1</th>\n",
       "      <td>GLP</td>\n",
       "      <td>m</td>\n",
       "      <td>2</td>\n",
       "    </tr>\n",
       "    <tr>\n",
       "      <th>2</th>\n",
       "      <td>Die Mitte</td>\n",
       "      <td>m</td>\n",
       "      <td>2</td>\n",
       "    </tr>\n",
       "    <tr>\n",
       "      <th>3</th>\n",
       "      <td>GLP</td>\n",
       "      <td>m</td>\n",
       "      <td>2</td>\n",
       "    </tr>\n",
       "    <tr>\n",
       "      <th>4</th>\n",
       "      <td>Die Mitte</td>\n",
       "      <td>w</td>\n",
       "      <td>2</td>\n",
       "    </tr>\n",
       "  </tbody>\n",
       "</table>\n",
       "</div>"
      ],
      "text/plain": [
       "      Partei Geschlecht  ID-Vorstoss\n",
       "0        FDP          m            1\n",
       "1        GLP          m            2\n",
       "2  Die Mitte          m            2\n",
       "3        GLP          m            2\n",
       "4  Die Mitte          w            2"
      ]
     },
     "execution_count": 42,
     "metadata": {},
     "output_type": "execute_result"
    }
   ],
   "source": [
    "df_geschlechter = df_ID.merge(df_parlamentarier, left_on='ID-Politiker', right_on='ID-Politiker', how='left')[['Partei','Geschlecht','ID-Vorstoss']]\n",
    "df_geschlechter.head(5)"
   ]
  },
  {
   "cell_type": "markdown",
   "id": "e26e714b",
   "metadata": {},
   "source": [
    "Danach zähle ich, welches Geschlecht wie oft vorkommt..."
   ]
  },
  {
   "cell_type": "code",
   "execution_count": 43,
   "id": "d8ca6b13",
   "metadata": {},
   "outputs": [
    {
     "data": {
      "text/plain": [
       "m    331\n",
       "w     90\n",
       "Name: Geschlecht, dtype: int64"
      ]
     },
     "execution_count": 43,
     "metadata": {},
     "output_type": "execute_result"
    }
   ],
   "source": [
    "geschlechter_counts = df_geschlechter['Geschlecht'].value_counts()\n",
    "geschlechter_counts"
   ]
  },
  {
   "cell_type": "markdown",
   "id": "237a93ee",
   "metadata": {},
   "source": [
    "...und stelle die prozentualen Anteile in einem einfachen Kuchendiagramm dar."
   ]
  },
  {
   "cell_type": "code",
   "execution_count": 44,
   "id": "ad513b31",
   "metadata": {},
   "outputs": [
    {
     "data": {
      "image/png": "[encoded data removed]",
      "text/plain": [
       "<Figure size 640x480 with 1 Axes>"
      ]
     },
     "metadata": {},
     "output_type": "display_data"
    }
   ],
   "source": [
    "geschlechter_counts.plot(kind=\"pie\", autopct='%1.1f%%', startangle=90, colors=['skyblue', 'pink'])\n",
    "plt.title('Verteilung der Geschlechter bei Vorstössen')\n",
    "plt.show()"
   ]
  },
  {
   "cell_type": "markdown",
   "id": "268f96bf",
   "metadata": {},
   "source": [
    "Wir sehen also, dass nur an jedem fünften Vorstoss eine Frau beteiligt ist. Um etwas mehr als das aussagen zu können, möchte ich die Anzahl Vorstösse nach Geschlechter auf die einzelnen Parteien herunterbrechen."
   ]
  },
  {
   "cell_type": "code",
   "execution_count": 45,
   "id": "b2357673",
   "metadata": {
    "scrolled": false
   },
   "outputs": [
    {
     "data": {
      "image/png": "[encoded data removed]",
      "text/plain": [
       "<Figure size 640x480 with 1 Axes>"
      ]
     },
     "metadata": {},
     "output_type": "display_data"
    }
   ],
   "source": [
    "df_geschlechter.groupby(['Partei', 'Geschlecht']).count().unstack().plot(kind='bar', stacked=True, color=['skyblue', 'pink'])\n",
    "plt.title('Vorstösse nach Partei und Geschlechtern')\n",
    "plt.legend(title='Geschlecht', labels=['Männlich', 'Weiblich'], loc='upper left')\n",
    "plt.show()"
   ]
  },
  {
   "cell_type": "markdown",
   "id": "4b5532b1",
   "metadata": {},
   "source": [
    "Nun will ich die generelle Frauenquote der einzelnen Parteien im Parlament ermitteln. Dazu gruppiere ich das Dataframe df_parlamentarier zuerst nach Partei und Geschlecht und suche dann mit der lambda Methode alle \"w\" heraus und berechne den Anteil mal 100, um auf die Prozente zu kommen."
   ]
  },
  {
   "cell_type": "code",
   "execution_count": 46,
   "id": "86455c6d",
   "metadata": {},
   "outputs": [
    {
     "data": {
      "text/html": [
       "<div>\n",
       "<style scoped>\n",
       "    .dataframe tbody tr th:only-of-type {\n",
       "        vertical-align: middle;\n",
       "    }\n",
       "\n",
       "    .dataframe tbody tr th {\n",
       "        vertical-align: top;\n",
       "    }\n",
       "\n",
       "    .dataframe thead th {\n",
       "        text-align: right;\n",
       "    }\n",
       "</style>\n",
       "<table border=\"1\" class=\"dataframe\">\n",
       "  <thead>\n",
       "    <tr style=\"text-align: right;\">\n",
       "      <th></th>\n",
       "      <th>Partei</th>\n",
       "      <th>Anteil Frauen</th>\n",
       "    </tr>\n",
       "  </thead>\n",
       "  <tbody>\n",
       "    <tr>\n",
       "      <th>5</th>\n",
       "      <td>Grüne</td>\n",
       "      <td>50.000000</td>\n",
       "    </tr>\n",
       "    <tr>\n",
       "      <th>6</th>\n",
       "      <td>SP</td>\n",
       "      <td>35.294118</td>\n",
       "    </tr>\n",
       "    <tr>\n",
       "      <th>4</th>\n",
       "      <td>GLP</td>\n",
       "      <td>33.333333</td>\n",
       "    </tr>\n",
       "    <tr>\n",
       "      <th>2</th>\n",
       "      <td>FDP</td>\n",
       "      <td>26.666667</td>\n",
       "    </tr>\n",
       "    <tr>\n",
       "      <th>0</th>\n",
       "      <td>Die Mitte</td>\n",
       "      <td>25.000000</td>\n",
       "    </tr>\n",
       "    <tr>\n",
       "      <th>1</th>\n",
       "      <td>EVP</td>\n",
       "      <td>25.000000</td>\n",
       "    </tr>\n",
       "    <tr>\n",
       "      <th>7</th>\n",
       "      <td>SVP</td>\n",
       "      <td>17.391304</td>\n",
       "    </tr>\n",
       "    <tr>\n",
       "      <th>3</th>\n",
       "      <td>FW</td>\n",
       "      <td>0.000000</td>\n",
       "    </tr>\n",
       "  </tbody>\n",
       "</table>\n",
       "</div>"
      ],
      "text/plain": [
       "      Partei  Anteil Frauen\n",
       "5      Grüne      50.000000\n",
       "6         SP      35.294118\n",
       "4        GLP      33.333333\n",
       "2        FDP      26.666667\n",
       "0  Die Mitte      25.000000\n",
       "1        EVP      25.000000\n",
       "7        SVP      17.391304\n",
       "3         FW       0.000000"
      ]
     },
     "execution_count": 46,
     "metadata": {},
     "output_type": "execute_result"
    }
   ],
   "source": [
    "df_geschlechtsanteil_partei = df_parlamentarier.groupby('Partei')['Geschlecht'].apply(lambda x: (x == 'w').mean() * 100).reset_index()\n",
    "df_geschlechtsanteil_partei.columns = ['Partei', 'Anteil Frauen']\n",
    "df_geschlechtsanteil_sortiert = df_geschlechtsanteil_partei.sort_values(['Anteil Frauen'],ascending=False)\n",
    "df_geschlechtsanteil_sortiert"
   ]
  },
  {
   "cell_type": "markdown",
   "id": "b0f0ddd6",
   "metadata": {},
   "source": [
    "Ich will den Frauenanteil in den einzelnen Parteien nun mit der ersten Grafik verbinden. Ich füge also zwei Achsen in die Grafik ein."
   ]
  },
  {
   "cell_type": "code",
   "execution_count": 47,
   "id": "7d6e2d9f",
   "metadata": {},
   "outputs": [
    {
     "data": {
      "image/png": "[encoded data removed]",
      "text/plain": [
       "<Figure size 640x480 with 2 Axes>"
      ]
     },
     "metadata": {},
     "output_type": "display_data"
    }
   ],
   "source": [
    "# Zuerst definiere ich, dass es zwei Elemente in der Grafik gegen wird.\n",
    "fig, ax1 = plt.subplots()\n",
    "\n",
    "# Dann werte ich die erste aus, setze die Metadaten und definiere sie als ax1.\n",
    "df_geschlechter.groupby(['Partei', 'Geschlecht']).count().unstack().plot(kind='bar', stacked=True, color=['skyblue', 'pink'], ax=ax1)\n",
    "plt.title('Vorstösse nach Partei und Geschlechtern')\n",
    "plt.legend(title='Geschlecht', labels=['Männlich', 'Weiblich'], loc='upper left')\n",
    "ax1.set_ylabel('Anzahl Vorstösse (2010-2023)')\n",
    "\n",
    "# Ich definiere das zweites Diagramm\n",
    "ax2 = ax1.twinx()\n",
    "\n",
    "# Mache die Auswertung zum durchschnittlichen Geschlechtsanteil (habe ich oben schon definiert)\n",
    "df_geschlechtsanteil_sortiert.groupby(['Partei','Anteil Frauen']).plot(color='red', marker='o', ax=ax2)\n",
    "ax2.legend([\"Frauenanteil in %\"], loc='upper right')\n",
    "ax2.set_ylabel('Anteil Frauen in Prozent (2010-2023)')\n",
    "ax2.set_ylim(0, 100)\n",
    "\n",
    "# Und zeige das Diagramm an\n",
    "plt.show()"
   ]
  },
  {
   "cell_type": "markdown",
   "id": "03466436",
   "metadata": {},
   "source": [
    "Fazit Kapitel 4: Die Frauen sind im Parlament Adliswil noch untervertreten. Einzig bei den Grünen ist der Geschlechteranteil ausgeglichen. Interessant ist hier auch, dass bei der SVP, die eher einen kleinen Frauenanteil hat, rund die Hälfte der Vorstösse von Frauen kommt. Die SP hat zwar mehr Frauen in der Partei, die Vorstösse reichen aber hauptsächlich die Männer ein."
   ]
  }
 ],
 "metadata": {
  "kernelspec": {
   "display_name": "Python 3 (ipykernel)",
   "language": "python",
   "name": "python3"
  },
  "language_info": {
   "codemirror_mode": {
    "name": "ipython",
    "version": 3
   },
   "file_extension": ".py",
   "mimetype": "text/x-python",
   "name": "python",
   "nbconvert_exporter": "python",
   "pygments_lexer": "ipython3",
   "version": "3.8.17"
  }
 },
 "nbformat": 4,
 "nbformat_minor": 5
}
