{
 "cells": [
  {
   "cell_type": "markdown",
   "id": "607f3652",
   "metadata": {},
   "source": [
    "# Datenbeschaffung Adliswil"
   ]
  },
  {
   "cell_type": "markdown",
   "id": "45595ffd",
   "metadata": {},
   "source": [
    "Ich importiere die nötigen Libraries..."
   ]
  },
  {
   "cell_type": "code",
   "execution_count": 1,
   "id": "2e6de77e",
   "metadata": {},
   "outputs": [],
   "source": [
    "import requests\n",
    "from bs4 import BeautifulSoup\n",
    "import pandas as pd\n",
    "from selenium import webdriver\n",
    "from selenium.webdriver.common.keys import Keys\n",
    "from selenium.webdriver.common.by import By\n",
    "from selenium.webdriver.support.ui import Select\n",
    "import time\n",
    "from locale import setlocale, LC_TIME\n",
    "import os\n",
    "import re\n",
    "from tqdm import tqdm"
   ]
  },
  {
   "cell_type": "markdown",
   "id": "34ff68d9",
   "metadata": {},
   "source": [
    "... und setze die Option, dass ich später alle Zeilen eines Dataframes sehe."
   ]
  },
  {
   "cell_type": "code",
   "execution_count": 2,
   "id": "1bda8206",
   "metadata": {},
   "outputs": [],
   "source": [
    "pd.set_option('display.max_rows', None)\n",
    "pd.set_option('display.max_colwidth', None)"
   ]
  },
  {
   "cell_type": "markdown",
   "id": "57154fac",
   "metadata": {},
   "source": [
    "Danach scrappe ich die Seiten der Stadt Adliswil, um alle Subpages mit den Informationen über die einzelnen Vorstösse zu erhalten."
   ]
  },
  {
   "cell_type": "code",
   "execution_count": null,
   "id": "6f76d658",
   "metadata": {},
   "outputs": [],
   "source": [
    "# Wir starten den Browser\n",
    "driver = webdriver.Firefox()\n",
    "\n",
    "# Wir sagen dem Browser, welche Seite er besuchen sollte.\n",
    "driver.get('https://www.adliswil.ch/politbusiness?politische_geschaefte_suchformular%5Bkeyword%5D=&politische_geschaefte_suchformular%5Bnummer%5D=&politische_geschaefte_suchformular%5BvomStart%5D=1.1.2005&politische_geschaefte_suchformular%5BvomEnd%5D=2.1.2024&politische_geschaefte_suchformular%5BstatusId%5D=&politische_geschaefte_suchformular%5BkategorieId%5D%5B%5D=anfrage&politische_geschaefte_suchformular%5BkategorieId%5D%5B%5D=dringliches_postulat&politische_geschaefte_suchformular%5BkategorieId%5D%5B%5D=interpellation&politische_geschaefte_suchformular%5BkategorieId%5D%5B%5D=motion&politische_geschaefte_suchformular%5BkategorieId%5D%5B%5D=parlamentarische_initiative&politische_geschaefte_suchformular%5BkategorieId%5D%5B%5D=postulat&politische_geschaefte_suchformular%5BkategorieId%5D%5B%5D=volksinitiative&politische_geschaefte_suchformular%5BsearchBtn%5D=&politische_geschaefte_suchformular%5B_token%5D=hfH8kTJyMlRgFeP3MuBTf034hQg5kg1Xv41c2EaBKpE')\n",
    "#Die Hauptseite lädt relativ schnell, 2 Sekunden sollten reichen.\n",
    "time.sleep(2)\n",
    "#Es wird später das Problem auftauchen, dass die Elemente auf der Seite beim Laden in unterschiedlicher \n",
    "#Reihenfolge angezeigt werden. So werden Elemente mehrmals und andere gar nicht gespeichert. Ich sortiere also\n",
    "#nach Datum, um das Problem zu beheben.\n",
    "driver.find_element(By.CSS_SELECTOR, 'th[data-data=\"_geschaeftsdatum\"]').click()\n",
    "\n",
    "# Nun gebe ich den Befehl, auf jede der 10 Seiten zuzugreifen.\n",
    "for page_number in range(10):\n",
    "    #Als nächstes muss ich auf die 20 Subpages zugreifen, die jeweils auf einer der 26 Seiten sind.\n",
    "    for link_number in range(20):\n",
    "        #Den Namen der Elemente suche ich über das Entwicklertool\n",
    "        elements = driver.find_elements(By.XPATH,'//td[@class=\"icms-datatable-col-title\"]/a')\n",
    "        \n",
    "    #Es gibt auf der Seite noch ein Weiteres Element mit dem gesuchten Namen. Das will ich ignorieren, \n",
    "    #deshalb die Try-Funktion.\n",
    "        try:\n",
    "            elements[link_number].click()\n",
    "            time.sleep(6)\n",
    "            #Ich speichere die Subpages in einem Ordner als htm Datei ab\n",
    "            subpage = driver.page_source.encode('utf-8')\n",
    "            with open(\"subpages_Adliswil/\"+str(page_number)+'_'+str(link_number)+\".htm\", \"wb+\") as file:\n",
    "                file.write(subpage)\n",
    "\n",
    "            #Gehe zurück zur vorherigen Seite\n",
    "            driver.back()\n",
    "        #Hier überspringe ich das falsche Element.\n",
    "        except Exception as e:\n",
    "            print(f\"Error: {e}\")\n",
    "            continue\n",
    "        #Es dauert auch hier etwas\n",
    "        time.sleep(3)\n",
    "\n",
    "    #Dann soll das Programm zur nächsten Seite gehen und in der Schlaufe oben wieder beginnen. Die Webseite\n",
    "    #weist die aktuelle Seitenzahl leider nicht in der URL aus. Ich muss die Seite also mit einem Selenium-Befehl\n",
    "    #wechseln...\n",
    "    driver.find_element(By.ID, 'icmsTable-geschaefteList_next').click()\n",
    "    time.sleep(4)\n",
    "\n",
    "#Am Ende soll das Programm den Browser schliessen\n",
    "driver.quit()"
   ]
  },
  {
   "cell_type": "markdown",
   "id": "a394ab5c",
   "metadata": {},
   "source": [
    "Die htm-Files sind gespeichert. Nun werden sie in ein CSV zusammengefasst. Ich schaue gleich mal, ob alle Elemente mitgekommen sind."
   ]
  },
  {
   "cell_type": "code",
   "execution_count": null,
   "id": "6cbcb619",
   "metadata": {},
   "outputs": [],
   "source": [
    "#Danach sage ich, wo die Dokumente zu finden sind und schaue, wie viele es sind.\n",
    "lst = os.listdir(\"subpages_adliswil/\")\n",
    "len(lst)"
   ]
  },
  {
   "cell_type": "code",
   "execution_count": null,
   "id": "bb493f3a",
   "metadata": {},
   "outputs": [],
   "source": [
    "#Ich schaue mir die Elemente mal an.\n",
    "for elem in tqdm(lst):\n",
    "    print(elem)"
   ]
  },
  {
   "cell_type": "markdown",
   "id": "f98fb6c9",
   "metadata": {},
   "source": [
    "Nun werde ich mit Beautifulsoup die einzelnen htm-Dateien auslesen und das Ergebnis als Dataframe speichern."
   ]
  },
  {
   "cell_type": "code",
   "execution_count": null,
   "id": "bf63c078",
   "metadata": {
    "scrolled": true
   },
   "outputs": [],
   "source": [
    "#Als erstes erstelle ich einen Platzhalter für meinen Datensatz.\n",
    "datensatz_adliswil = []\n",
    "#Bei den Files gab es ein Verstecktes Element namens .DS_Store. Das führt zu Problemen, weil es\n",
    "#das Format nicht lesen kann. Ich mache hier zur Sicherheit einen Befehl, dass er diese\n",
    "#Datei ignoriert. \n",
    "for elem in tqdm(lst):\n",
    "    if not elem.startswith('.DS_Store'):\n",
    "        #Nun öffne ich eine Datei nach der anderen und lese sie ein.\n",
    "        with open(os.path.join('subpages_adliswil', elem), 'r') as file:\n",
    "            text = file.read()\n",
    "        #Ich lasse das Ganze mit BeautifulSoup lesen.\n",
    "        soup = BeautifulSoup(text, 'html.parser')\n",
    "        #Und definiere alle Elemente, die ich haben will.\n",
    "        try:\n",
    "            titel = soup.find(class_='main-title').text.strip()\n",
    "        except:\n",
    "            titel=None\n",
    "        try:    \n",
    "            geschaeftsart = soup.find(class_='icms-desclist-container').find('dt', string='Geschäftsart').find_next_sibling('dd').text.strip()\n",
    "        except:\n",
    "            geschaeftsart=None\n",
    "        try:    \n",
    "            status = soup.find(class_='icms-desclist-container').find('dt', string='Status').find_next_sibling('dd').text.strip()\n",
    "        except:\n",
    "            status=None\n",
    "        try:\n",
    "            datum = soup.find(class_='icms-desclist-container').find('dt', string='Datum').find_next_sibling('dd').text.strip()\n",
    "        except:\n",
    "            datum=None\n",
    "        try:\n",
    "            namen = soup.find(class_='icms-desclist-container').find('dt', string='Verfasser/Beteiligte').find_next_sibling('dd').findChildren()\n",
    "            namen = [name.get_text(separator=\"\\n\") for name in namen]\n",
    "        except:\n",
    "            namen=None\n",
    "\n",
    "        # Danach speichere ich diese Elemente in einem Dictionairy....\n",
    "        mini_dict = {\n",
    "            'Titel': titel,\n",
    "            'Geschaeftsart': geschaeftsart,\n",
    "            'Status': status,\n",
    "            'Datum': datum,\n",
    "            'Namen': namen\n",
    "        }\n",
    "        # ...und füge das Mini-Dictionary zur Liste hinzu.\n",
    "        datensatz_adliswil.append(mini_dict)\n",
    "\n",
    "# Am Schluss mache ich daraus ein Dataframe mit Pandas.\n",
    "df = pd.DataFrame(datensatz_adliswil)"
   ]
  },
  {
   "cell_type": "code",
   "execution_count": null,
   "id": "317102dc",
   "metadata": {},
   "outputs": [],
   "source": [
    "df.head(5)"
   ]
  },
  {
   "cell_type": "markdown",
   "id": "8fc0b3b9",
   "metadata": {},
   "source": [
    "Die Spalte \"Namen\" birgt mehrere Probleme. Ich definiere eine Funktion, um diese Spalte zu bereinigen. Es sollen sämtliche Zusätze wie (Erstunterzeichner), Klammern und Umbrüche aber auch unnötige Abstände verschwinden."
   ]
  },
  {
   "cell_type": "code",
   "execution_count": null,
   "id": "47b435d2",
   "metadata": {},
   "outputs": [],
   "source": [
    "def namenliste_reinigen(liste):\n",
    "    \n",
    "    if liste is None:\n",
    "        return liste\n",
    "    \n",
    "    else:\n",
    "        neueliste = []\n",
    "        \n",
    "        for element in liste:\n",
    "            neueselement = element.strip()\n",
    "            \n",
    "            splitted_elemente = neueselement.split(\"\\n\")\n",
    "        \n",
    "            for splitted_element in splitted_elemente:\n",
    "                cleaned_element = splitted_element.replace(\"(Mitunterzeichner/in)\", \"\").replace('(Erstunterzeichner/in)',\"\").replace('(keine Funktion)',\"\").replace('(Verfasser/in)',\"\").replace('(Ersatzurheber/in)',\"\").replace('(Zweitunterzeichner/in)',\"\").replace('Dr. ',\"\").replace('Martin  Rüttimann','Martin Rüttimann').replace('Katharina  Willimann','Katharina Willimann').replace('Angelika  Sulser','Angelika Sulser').strip()\n",
    "\n",
    "                if cleaned_element != \"\":\n",
    "                    neueliste.append(cleaned_element)\n",
    "    \n",
    "    return neueliste"
   ]
  },
  {
   "cell_type": "markdown",
   "id": "0b2440b5",
   "metadata": {},
   "source": [
    "Nun wende ich die definierte funktion an. Zudem entferne ich 4 Vorstösse, die keinem Politiker oder Politikerin zugeordnet werden können. Diese sind für die Auswertung auch nicht relevant, weil es sich um Vorstösse des Ratsbüros und nicht von Parteien handelt oder um eine Volksinitiative - nicht um eine parlamentarische."
   ]
  },
  {
   "cell_type": "code",
   "execution_count": null,
   "id": "a5d8b29e",
   "metadata": {
    "scrolled": true
   },
   "outputs": [],
   "source": [
    "df['Namen-neu'] = df['Namen'].apply(namenliste_reinigen)\n",
    "df = df.dropna(subset=['Namen']).copy()"
   ]
  },
  {
   "cell_type": "markdown",
   "id": "a75181e5",
   "metadata": {},
   "source": [
    "Jetzt setze ich noch das richtige Zeitformat, um später Auswertungen machen zu können..."
   ]
  },
  {
   "cell_type": "code",
   "execution_count": null,
   "id": "508003d9",
   "metadata": {},
   "outputs": [],
   "source": [
    "setlocale(LC_TIME, 'de_DE.utf-8')\n",
    "df['Datum'] = pd.to_datetime(df['Datum'], format='%d. %B %Y')"
   ]
  },
  {
   "cell_type": "markdown",
   "id": "774474ab",
   "metadata": {},
   "source": [
    "...und gebe den einzelnen Vorstössen eine ID-Nummer. Das vereinfacht später die Auswertung."
   ]
  },
  {
   "cell_type": "code",
   "execution_count": null,
   "id": "aec54647",
   "metadata": {},
   "outputs": [],
   "source": [
    "df['ID-Vorstoss'] = df.reset_index().index + 1\n",
    "df.head(3)"
   ]
  },
  {
   "cell_type": "markdown",
   "id": "94231773",
   "metadata": {},
   "source": [
    "Beim genaueren Überprüfen der Daten habe ich festgestellt, dass die Vorstösse zwischen 2006 und 2010 zu sporadisch dokumentiert wurden. Ich lasse sie weg und beginne die Auswertung für Adliswil erst ab 2010."
   ]
  },
  {
   "cell_type": "code",
   "execution_count": null,
   "id": "c2eb04ff",
   "metadata": {},
   "outputs": [],
   "source": [
    "df_filtered = df.loc[~df['Datum'].dt.year.isin([2006, 2007, 2008, 2009])]\n",
    "df_filtered.head(3)"
   ]
  },
  {
   "cell_type": "markdown",
   "id": "073d8405",
   "metadata": {},
   "source": [
    "Zu guter Letzt speichere ich die gesammelten und bereinigten Daten als CSV-File ab."
   ]
  },
  {
   "cell_type": "code",
   "execution_count": null,
   "id": "5f21fcd7",
   "metadata": {},
   "outputs": [],
   "source": [
    "df_filtered.to_csv('All_Datas/daten_adliswil.csv', index=False)"
   ]
  },
  {
   "cell_type": "code",
   "execution_count": null,
   "id": "9b5af507",
   "metadata": {},
   "outputs": [],
   "source": []
  }
 ],
 "metadata": {
  "kernelspec": {
   "display_name": "Python 3 (ipykernel)",
   "language": "python",
   "name": "python3"
  },
  "language_info": {
   "codemirror_mode": {
    "name": "ipython",
    "version": 3
   },
   "file_extension": ".py",
   "mimetype": "text/x-python",
   "name": "python",
   "nbconvert_exporter": "python",
   "pygments_lexer": "ipython3",
   "version": "3.8.17"
  }
 },
 "nbformat": 4,
 "nbformat_minor": 5
}
