{
 "cells": [
  {
   "cell_type": "markdown",
   "id": "4968503e",
   "metadata": {},
   "source": [
    "# Wer dominiert in den Stadtparlamenten von Wädenswil und Adliswil?"
   ]
  },
  {
   "cell_type": "markdown",
   "id": "c0417645",
   "metadata": {},
   "source": [
    "# 1. Ausgangsthesen"
   ]
  },
  {
   "cell_type": "markdown",
   "id": "6fbda538",
   "metadata": {},
   "source": [
    "Die lokalen Parlamente bestimmen zu weiten Teilen, was vor den Haustüren der Leserinnen und Leser vor sich geht. Im Einzugsgebiet der Zürichsee-Zeitung liegen die Stadtparlamente Wädenswil und Adliswil. über diese beiden kommunalen Legislativen weiss man eigentlich nur sehr wenig. Die Berichterstattung beschränkt sich auf aktuelle Debatten und Entscheide. Eine längerfriste Analyse über mehrere Legislaturen eines Stadtparlaments hinweg sowie einen Blick über den Tellerrand hinaus gibt es noch nicht. Es ist an der Zeit, diese Lücke zu schliessen und die beiden Parlamente und vor allem deren Mitglieder genauer anzuschauen. Es stellen sich mir folgende 5 Fragen und die entsprechenden Thesen."
   ]
  },
  {
   "cell_type": "markdown",
   "id": "851c3d58",
   "metadata": {},
   "source": [
    "**1. Welche Parteien und Fraktionen reichen die häufigsten Vorstösse ein?** These: In Wädenswil sind es die rechten, in Adliswil die linken Parteien. Folgefrage: Entspricht die Anzahl Vorstösse auch der Fraktionsgrösse und den Wähleranteilen?"
   ]
  },
  {
   "cell_type": "markdown",
   "id": "553613b1",
   "metadata": {},
   "source": [
    "**2. Welches sind die erfolgerichsten Fraktionen und wessen Vorstösse werden am meisten abgelehnt?** These: Habe ich nicht - Ich lasse mich vom Ergebnis der Daten überraschen."
   ]
  },
  {
   "cell_type": "markdown",
   "id": "70369970",
   "metadata": {},
   "source": [
    "**3. Welches waren die fleissigsten Parlamentarier/innen?**\n",
    "These: Es gibt einzelne Politiker*innen, die besonders viele Vorstösse eingereicht haben, andere gar keine. Folgefrage: Haben die \"fleissigen\" auch Erfolg mit ihren Vorstössen oder beschäftigen sie nur die Behörden?"
   ]
  },
  {
   "cell_type": "markdown",
   "id": "ea17568f",
   "metadata": {},
   "source": [
    "**4. Wie viele Vorstösse stammen von Männern und wie viele von Frauen?** These: Die Männer dominieren. Folgefragen: Bei welchen Fraktionen drängen sich die Männer in den Fordergrund?"
   ]
  },
  {
   "cell_type": "markdown",
   "id": "276ac4cd",
   "metadata": {},
   "source": [
    "**5. Wie sieht ein Vergleich der Stadtparlamente von Wädenswil und Adliswil aus?** These: In Wädenswil werden viel mehr Vorstösse eingereicht als in Adliswil. Bei beiden Parlamenten hat die Anzahl der Vorstösse in den letzten Jahren zugenommen."
   ]
  },
  {
   "cell_type": "markdown",
   "id": "a5628dc4",
   "metadata": {},
   "source": [
    "# 2. Einschätzung von Aufwand und Ertrag"
   ]
  },
  {
   "cell_type": "markdown",
   "id": "3e5b4490",
   "metadata": {},
   "source": [
    "**Zum Aufwand:** Der Bezug und die Aufbereitung der Daten könnte aufwändig werden. Die beiden Städte haben keinen fertigen Datensatz und die Webseiten der Stadtparlamente sind mit jenem des Zürcher Stadtparlaments oder des Kantonsrates nicht zu vergleichen. Um an die Daten zu kommen, ist ein aufwändiger Programmiercode mit Selenium und Beautifulsoup notwendig. Sind die Daten mal da und strukturiert, sollte eine Auswertung aber relativ rasch möglich sein. Es bestünde auch die Möglichkeit, im Stadtarchiv sämtliche Vorstösse der letzten 50 Jahre physisch durchzuschauen und die Analyse zeitlich noch weiter auszuweiten. Hier wäre das Verhältnis von Aufwand und Ertrag aber wohl nicht mehr gegeben - deshalb entscheide ich mich dagegen."
   ]
  },
  {
   "cell_type": "markdown",
   "id": "11410b19",
   "metadata": {},
   "source": [
    "**Zum Ertrag:** Als Regionalzeitung ist es unsere Aufgabe, das politische Geschehen aufzuzeigen. Noch nie gab es jedoch eine vertiefte und längerfristige Analyse, wer sich wie sehr für die Bevölkerung einsetzt (oder die Stadtverwaltungen unnötig beschäftigt). Das Thema wird die Leserinnen und Leser mit Sicherheit interessieren. Zudem können die gewonnenen Daten vor den nächsten Parlamentswahlen einfach aktualisiert und wieder recycelt werden. So dient der Aufwand auch für mehrere Geschichten."
   ]
  },
  {
   "cell_type": "markdown",
   "id": "c8a13955",
   "metadata": {},
   "source": [
    "**Das Fazit:** Die Gewinnung der Daten dürfte aufwändig werden, der Ertrag sollte sich aber auch im Hinblick auf künftige Geschichten lohnen."
   ]
  },
  {
   "cell_type": "markdown",
   "id": "7759d2b8",
   "metadata": {},
   "source": [
    "# 3. Datensatz und Knackpunkt des Projekts"
   ]
  },
  {
   "cell_type": "markdown",
   "id": "4edd6ebf",
   "metadata": {},
   "source": [
    "**Der Datensatz:** "
   ]
  },
  {
   "cell_type": "markdown",
   "id": "21f4a2f8",
   "metadata": {},
   "source": [
    "Einen fertigen Datensatz gibt es nicht. Die Daten sind auf den Webseiten der beiden Städte unstrukturiert und in Form von Subseiten zu finden. (https://www.waedenswil.ch/politbusiness / https://www.adliswil.ch/politbusiness). "
   ]
  },
  {
   "cell_type": "markdown",
   "id": "4ca8328d",
   "metadata": {},
   "source": [
    "**Der Knackpunkt:** "
   ]
  },
  {
   "cell_type": "markdown",
   "id": "91438db4",
   "metadata": {},
   "source": [
    "Das Gute und zugeleich das Schlechte ist, dass die Webseiten der beiden Städte exakt gleich aufgebaut sind. Das hilft zwar, weil ich praktisch den identischen Code für beide Webseiten brauchen kann, es ist aber auch unpraktisch, weil die Seiten ziemlich umständlich gestaltet sind. So wird die Seitenzahl beispielsweise nicht über die URL ausgewiesen und beim Aktualisieren der Seiten wird die Reihenfolge der Elemente geändert. Es braucht also ein paar Kniffs mit Selenium, um an die Daten zu kommen."
   ]
  },
  {
   "cell_type": "markdown",
   "id": "f046c101",
   "metadata": {},
   "source": [
    "Die Partei der Parlamentarierinnen und Parlamentarier wird nicht ausgewiesen. Ich muss also entweder anderweitig eine Liste einholen oder diese manuell hinzufügen. Das könnte je nachdem aber schwierig werden, weil viele der Politiker*innen schon lange nicht mehr aktiv sind."
   ]
  },
  {
   "cell_type": "markdown",
   "id": "9469eb53",
   "metadata": {},
   "source": [
    "Zudem geht der Datensatz auf den Webseiten nur bis 2005 resp. 2006 zurück und scheint auch nicht vollständig zu sein. Aussagekräftig und vollständig sind die Daten der beiden Parlamente erst ab 2010."
   ]
  },
  {
   "cell_type": "markdown",
   "id": "c4646492",
   "metadata": {},
   "source": [
    "Ein weiterer Knackpunkt ist die unterschiedliche Handhabung beim Einreichen von Vorstössen. Während in Adliswil oftmals einzelne Politiker/innen den Vorstoss einreichen, sind es in Wädenswil ganze Fraktionen. Das ist bei der Auswertung der \"fleissigsten Parlamentsmitglieder\" sicher zu berücksichtigen."
   ]
  },
  {
   "cell_type": "markdown",
   "id": "a278957e",
   "metadata": {},
   "source": [
    "# 4. Zusammenfassung eines Briefinggesprächs"
   ]
  },
  {
   "cell_type": "markdown",
   "id": "12e58748",
   "metadata": {},
   "source": [
    "Im Gespräch mit der Leiterin Parlamentsdienste von Adliswil (Vanessa Ziegler) war zu erfahren, dass die Geschäfte auf der Webseite der Stadt mindestens in den letzten 8 Jahren zuverlässig eingetragen wurden. Auch davor (also bis ca. 2009) sind ihr keine Fehler bekannt, damals hat die Geschäfte aber jemand anderes nachgeführt. Es sei durchaus möglich eine solche Analyse auf den Geschäften der Stadtwebseite abzustützen. Eine übersichtlichere und einfachere Zusammenstellung habe die Stadt Adliswil nicht. Zu beachten ist, dass  in Adliswil nicht immer alle Parlamentarierinnen, die einen Vorstoss unterschrieben haben, auch als Mitunterzeichnende aufgeführt werden. So habe man zum Teil gerade bei älteren Vorstössen auch nicht alle Unterschriften lesen können. Immer ausgewiesen werden aber jene Politiker/innen, die den Vorstoss verfasst und eingereicht haben. Laut Ziegler seien das auch jene, die die Arbeit am Vorstoss hatten. Eine Liste mit allen Parlamentarier/innen und deren Partei der letzten fünf Legislaturen wird mir zugestellt."
   ]
  },
  {
   "cell_type": "markdown",
   "id": "29c7a7f1",
   "metadata": {},
   "source": [
    "Im Gespräch mit Roger Kempf, Leiter Parlamentsdienste in Wädenswil, wurde klar, dass es gewisse politische Instrumente noch nicht so lange gibt, wie ich zurückschauen möchte. Eine dringliche Interpellation gebe es beispielsweise erst seit ein paar Jahren. Das sollte die Analyse aber nicht beeinträchtigen. \n",
    "Eine übersichtlichere Darstellung als auf der Webseite mit allen Vorstössen der vergangenen Jahren habe die Stadt Wädenswil nicht. Es gebe höchstens die Geschäftsberichte des Stadtrats, in denen die einzelnen Vorstösse aus dem Paralment erwähnt würden. Diese reichen aber nur bis 2016 zurück. In Wädenswil ist die Situation zudem ein wenig anders als in Adliswil. Hier werden Vorstösse eher selten von 1 bis 2 Personen eingereicht, sondern meistens von ganzen Fraktionen oder Kommissionen. Die einzelnen Fraktionen haben über die letzten Jahre auch geändert. Auch hier werde ich eine Liste mit allen Parlamentsmitgliedern der letzten 5 Legislaturen samt Partei erhalten."
   ]
  },
  {
   "cell_type": "markdown",
   "id": "63328550",
   "metadata": {},
   "source": [
    "# 5. Programmiercode"
   ]
  },
  {
   "cell_type": "markdown",
   "id": "79c99de6",
   "metadata": {},
   "source": [
    "Die Files mit dem Programmiercode zur Beschaffung der Daten sind im Ordner unter dem Namen \"Datensammlung Waedenswil\" und \"Datensammlung Adliswil\" gespeichert. Hier folgt nun der Code zur Auswertung der beiden Datensätze."
   ]
  },
  {
   "cell_type": "code",
   "execution_count": 14,
   "id": "6b052baa",
   "metadata": {},
   "outputs": [],
   "source": []
  },
  {
   "cell_type": "code",
   "execution_count": null,
   "id": "9f6d543b",
   "metadata": {},
   "outputs": [],
   "source": []
  },
  {
   "cell_type": "markdown",
   "id": "056dbc16",
   "metadata": {},
   "source": [
    "# 6. Arbeitsprotokoll"
   ]
  },
  {
   "cell_type": "markdown",
   "id": "9caacd70",
   "metadata": {},
   "source": [
    "- Sept.23  bis Dez.23: CAS-Kurse\n",
    "- Nov.23 bis Dez.23: Über Themen gebrainstormt\n",
    "- 11./12. Dezember: Datenarbeit über Verwaltungs- und Bildungskosten geschrieben - und wegen fehlender Vergleichbarkeit verworfen\n",
    "- 12.-30.Dezember: Weiter gebrainstormt\n",
    "- 1. Januar: Webseiten der Stadtparlamente von Wädenswil und Adliswil studiert.\n",
    "- 2. Januar: File erstellt\n",
    "- 2. Januar: Fragen und Thesen ausgearbeitet\n",
    "- 1.-2. Januar: Code zur Beschaffung der Daten geschrieben\n",
    "- 2. Januar: Code laufen gelassen und Daten von den beiden Webseiten in rund 700 Files gesammelt\n",
    "- 3. Januar: Mit Beautifulsoup Daten aus den gesammelten Files gezogen\n",
    "- 3. Januar: Mit Kollegen über Sinn des Projekts gesprochen\n",
    "- 4. Januar: Letzter Tag am MAZ - Daten geordnet\n",
    "- ..."
   ]
  },
  {
   "cell_type": "code",
   "execution_count": null,
   "id": "bb3fed32",
   "metadata": {},
   "outputs": [],
   "source": []
  },
  {
   "cell_type": "code",
   "execution_count": null,
   "id": "6aa918c2",
   "metadata": {},
   "outputs": [],
   "source": []
  },
  {
   "cell_type": "markdown",
   "id": "ad8f98c3",
   "metadata": {},
   "source": [
    "# 7. Endprodukt"
   ]
  },
  {
   "cell_type": "markdown",
   "id": "0497f16d",
   "metadata": {},
   "source": [
    "Die Geschichte wurde bereits publiziert. Sie ist über folgenden Link zu finden: www.zsz.ch"
   ]
  },
  {
   "cell_type": "code",
   "execution_count": null,
   "id": "29aa8c53",
   "metadata": {},
   "outputs": [],
   "source": []
  }
 ],
 "metadata": {
  "kernelspec": {
   "display_name": "Python 3 (ipykernel)",
   "language": "python",
   "name": "python3"
  },
  "language_info": {
   "codemirror_mode": {
    "name": "ipython",
    "version": 3
   },
   "file_extension": ".py",
   "mimetype": "text/x-python",
   "name": "python",
   "nbconvert_exporter": "python",
   "pygments_lexer": "ipython3",
   "version": "3.11.6"
  }
 },
 "nbformat": 4,
 "nbformat_minor": 5
}
